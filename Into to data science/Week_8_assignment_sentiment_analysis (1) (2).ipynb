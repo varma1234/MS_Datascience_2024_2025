{
 "cells": [
  {
   "cell_type": "markdown",
   "id": "a68f23f5",
   "metadata": {},
   "source": [
    "Social media sentiment analysis"
   ]
  },
  {
   "cell_type": "markdown",
   "id": "4c195379",
   "metadata": {},
   "source": [
    "Load data"
   ]
  },
  {
   "cell_type": "code",
   "execution_count": 1,
   "id": "80beb7e7",
   "metadata": {},
   "outputs": [
    {
     "data": {
      "text/html": [
       "<div>\n",
       "<style scoped>\n",
       "    .dataframe tbody tr th:only-of-type {\n",
       "        vertical-align: middle;\n",
       "    }\n",
       "\n",
       "    .dataframe tbody tr th {\n",
       "        vertical-align: top;\n",
       "    }\n",
       "\n",
       "    .dataframe thead th {\n",
       "        text-align: right;\n",
       "    }\n",
       "</style>\n",
       "<table border=\"1\" class=\"dataframe\">\n",
       "  <thead>\n",
       "    <tr style=\"text-align: right;\">\n",
       "      <th></th>\n",
       "      <th>title</th>\n",
       "      <th>link</th>\n",
       "      <th>author</th>\n",
       "      <th>n_comments</th>\n",
       "      <th>score</th>\n",
       "      <th>text</th>\n",
       "    </tr>\n",
       "  </thead>\n",
       "  <tbody>\n",
       "    <tr>\n",
       "      <th>0</th>\n",
       "      <td>the good times</td>\n",
       "      <td>/r/poland/comments/1b71beh/the_good_times/</td>\n",
       "      <td>VeryRegularName</td>\n",
       "      <td>181</td>\n",
       "      <td>2268</td>\n",
       "      <td></td>\n",
       "    </tr>\n",
       "    <tr>\n",
       "      <th>1</th>\n",
       "      <td>That's how voice-over (\"lektor\") in films in P...</td>\n",
       "      <td>/r/poland/comments/1b7gmv3/thats_how_voiceover...</td>\n",
       "      <td>Kamil1707</td>\n",
       "      <td>19</td>\n",
       "      <td>115</td>\n",
       "      <td></td>\n",
       "    </tr>\n",
       "    <tr>\n",
       "      <th>2</th>\n",
       "      <td>Od niepamiętnych czasów Rosja uwielbiała memy ...</td>\n",
       "      <td>/r/poland/comments/1b75gbq/od_niepamiętnych_cz...</td>\n",
       "      <td>Pika400</td>\n",
       "      <td>24</td>\n",
       "      <td>326</td>\n",
       "      <td>Nie słuchaj ich, bobrze, nie jesteś kurwa, jes...</td>\n",
       "    </tr>\n",
       "    <tr>\n",
       "      <th>3</th>\n",
       "      <td>Ethnographic map of Poland in 1919</td>\n",
       "      <td>/r/poland/comments/1b75mj2/ethnographic_map_of...</td>\n",
       "      <td>KotwPaski</td>\n",
       "      <td>16</td>\n",
       "      <td>80</td>\n",
       "      <td></td>\n",
       "    </tr>\n",
       "    <tr>\n",
       "      <th>4</th>\n",
       "      <td>NATO conducts major 'Steadfast Defender' exerc...</td>\n",
       "      <td>/r/poland/comments/1b7ewdi/nato_conducts_major...</td>\n",
       "      <td>EdmontonBest</td>\n",
       "      <td>1</td>\n",
       "      <td>1</td>\n",
       "      <td></td>\n",
       "    </tr>\n",
       "    <tr>\n",
       "      <th>...</th>\n",
       "      <td>...</td>\n",
       "      <td>...</td>\n",
       "      <td>...</td>\n",
       "      <td>...</td>\n",
       "      <td>...</td>\n",
       "      <td>...</td>\n",
       "    </tr>\n",
       "    <tr>\n",
       "      <th>204</th>\n",
       "      <td>Returning from work at Żabka</td>\n",
       "      <td>/r/poland/comments/1an2i2m/returning_from_work...</td>\n",
       "      <td>Negative-Fruit-6094</td>\n",
       "      <td>5</td>\n",
       "      <td>125</td>\n",
       "      <td>I, returning from work at 1 AM from work at Ża...</td>\n",
       "    </tr>\n",
       "    <tr>\n",
       "      <th>205</th>\n",
       "      <td>What did you think of the Tucker Carlson and P...</td>\n",
       "      <td>/r/poland/comments/1amkvhm/what_did_you_think_...</td>\n",
       "      <td>SnipedtheSniper</td>\n",
       "      <td>481</td>\n",
       "      <td>566</td>\n",
       "      <td></td>\n",
       "    </tr>\n",
       "    <tr>\n",
       "      <th>206</th>\n",
       "      <td>For Poles living in the US or UK, do you hang ...</td>\n",
       "      <td>/r/poland/comments/1amtdjk/for_poles_living_in...</td>\n",
       "      <td>Fine-Upstairs-6284</td>\n",
       "      <td>83</td>\n",
       "      <td>39</td>\n",
       "      <td>Curious to see what others say about this. I g...</td>\n",
       "    </tr>\n",
       "    <tr>\n",
       "      <th>207</th>\n",
       "      <td>Potwierdzenie profilu zaufany</td>\n",
       "      <td>/r/poland/comments/1an1qyi/potwierdzenie_profi...</td>\n",
       "      <td>Admirable-Union-9041</td>\n",
       "      <td>4</td>\n",
       "      <td>4</td>\n",
       "      <td>Is there a way to renew this profile online or...</td>\n",
       "    </tr>\n",
       "    <tr>\n",
       "      <th>208</th>\n",
       "      <td>Polish mint creates world’s first “flying coin”</td>\n",
       "      <td>/r/poland/comments/1amogpg/polish_mint_creates...</td>\n",
       "      <td>pmigdal</td>\n",
       "      <td>3</td>\n",
       "      <td>18</td>\n",
       "      <td></td>\n",
       "    </tr>\n",
       "  </tbody>\n",
       "</table>\n",
       "<p>209 rows × 6 columns</p>\n",
       "</div>"
      ],
      "text/plain": [
       "                                                 title  \\\n",
       "0                                       the good times   \n",
       "1    That's how voice-over (\"lektor\") in films in P...   \n",
       "2    Od niepamiętnych czasów Rosja uwielbiała memy ...   \n",
       "3                   Ethnographic map of Poland in 1919   \n",
       "4    NATO conducts major 'Steadfast Defender' exerc...   \n",
       "..                                                 ...   \n",
       "204                       Returning from work at Żabka   \n",
       "205  What did you think of the Tucker Carlson and P...   \n",
       "206  For Poles living in the US or UK, do you hang ...   \n",
       "207                      Potwierdzenie profilu zaufany   \n",
       "208    Polish mint creates world’s first “flying coin”   \n",
       "\n",
       "                                                  link                author  \\\n",
       "0           /r/poland/comments/1b71beh/the_good_times/       VeryRegularName   \n",
       "1    /r/poland/comments/1b7gmv3/thats_how_voiceover...             Kamil1707   \n",
       "2    /r/poland/comments/1b75gbq/od_niepamiętnych_cz...               Pika400   \n",
       "3    /r/poland/comments/1b75mj2/ethnographic_map_of...             KotwPaski   \n",
       "4    /r/poland/comments/1b7ewdi/nato_conducts_major...          EdmontonBest   \n",
       "..                                                 ...                   ...   \n",
       "204  /r/poland/comments/1an2i2m/returning_from_work...   Negative-Fruit-6094   \n",
       "205  /r/poland/comments/1amkvhm/what_did_you_think_...       SnipedtheSniper   \n",
       "206  /r/poland/comments/1amtdjk/for_poles_living_in...    Fine-Upstairs-6284   \n",
       "207  /r/poland/comments/1an1qyi/potwierdzenie_profi...  Admirable-Union-9041   \n",
       "208  /r/poland/comments/1amogpg/polish_mint_creates...               pmigdal   \n",
       "\n",
       "     n_comments  score                                               text  \n",
       "0           181   2268                                                     \n",
       "1            19    115                                                     \n",
       "2            24    326  Nie słuchaj ich, bobrze, nie jesteś kurwa, jes...  \n",
       "3            16     80                                                     \n",
       "4             1      1                                                     \n",
       "..          ...    ...                                                ...  \n",
       "204           5    125  I, returning from work at 1 AM from work at Ża...  \n",
       "205         481    566                                                     \n",
       "206          83     39  Curious to see what others say about this. I g...  \n",
       "207           4      4  Is there a way to renew this profile online or...  \n",
       "208           3     18                                                     \n",
       "\n",
       "[209 rows x 6 columns]"
      ]
     },
     "execution_count": 1,
     "metadata": {},
     "output_type": "execute_result"
    }
   ],
   "source": [
    "import sqlite3\n",
    "import pandas as pd\n",
    "\n",
    "con = sqlite3.connect('co_reddit.sqlite')\n",
    "df = pd.read_sql_query('SELECT * from posts;', con)\n",
    "con.close()\n",
    "df"
   ]
  },
  {
   "cell_type": "markdown",
   "id": "dcbf56f9",
   "metadata": {},
   "source": [
    "Since most of our text is missing for this subreddit, we'll just use the title of the posts. However, if you have text from each post or comments for each post, you could combine those with the title."
   ]
  },
  {
   "cell_type": "markdown",
   "id": "cb82b81c",
   "metadata": {},
   "source": [
    "Keyword sentiment "
   ]
  },
  {
   "cell_type": "markdown",
   "id": "af814733",
   "metadata": {},
   "source": [
    "We will start with a keyword sentiment analysis technique. Let's first load a dictionary of words and sentiment values:"
   ]
  },
  {
   "cell_type": "code",
   "execution_count": 2,
   "id": "9977131e",
   "metadata": {},
   "outputs": [],
   "source": [
    "sentiment_df = pd.read_csv('AFINN-en-165.txt', sep='\\t', names=['word', 'score'],index_col ='word')"
   ]
  },
  {
   "cell_type": "code",
   "execution_count": 3,
   "id": "328aa462",
   "metadata": {},
   "outputs": [
    {
     "data": {
      "text/html": [
       "<div>\n",
       "<style scoped>\n",
       "    .dataframe tbody tr th:only-of-type {\n",
       "        vertical-align: middle;\n",
       "    }\n",
       "\n",
       "    .dataframe tbody tr th {\n",
       "        vertical-align: top;\n",
       "    }\n",
       "\n",
       "    .dataframe thead th {\n",
       "        text-align: right;\n",
       "    }\n",
       "</style>\n",
       "<table border=\"1\" class=\"dataframe\">\n",
       "  <thead>\n",
       "    <tr style=\"text-align: right;\">\n",
       "      <th></th>\n",
       "      <th>score</th>\n",
       "    </tr>\n",
       "    <tr>\n",
       "      <th>word</th>\n",
       "      <th></th>\n",
       "    </tr>\n",
       "  </thead>\n",
       "  <tbody>\n",
       "    <tr>\n",
       "      <th>abandon</th>\n",
       "      <td>-2</td>\n",
       "    </tr>\n",
       "    <tr>\n",
       "      <th>abandoned</th>\n",
       "      <td>-2</td>\n",
       "    </tr>\n",
       "    <tr>\n",
       "      <th>abandons</th>\n",
       "      <td>-2</td>\n",
       "    </tr>\n",
       "    <tr>\n",
       "      <th>abducted</th>\n",
       "      <td>-2</td>\n",
       "    </tr>\n",
       "    <tr>\n",
       "      <th>abduction</th>\n",
       "      <td>-2</td>\n",
       "    </tr>\n",
       "    <tr>\n",
       "      <th>...</th>\n",
       "      <td>...</td>\n",
       "    </tr>\n",
       "    <tr>\n",
       "      <th>yucky</th>\n",
       "      <td>-2</td>\n",
       "    </tr>\n",
       "    <tr>\n",
       "      <th>yummy</th>\n",
       "      <td>3</td>\n",
       "    </tr>\n",
       "    <tr>\n",
       "      <th>zealot</th>\n",
       "      <td>-2</td>\n",
       "    </tr>\n",
       "    <tr>\n",
       "      <th>zealots</th>\n",
       "      <td>-2</td>\n",
       "    </tr>\n",
       "    <tr>\n",
       "      <th>zealous</th>\n",
       "      <td>2</td>\n",
       "    </tr>\n",
       "  </tbody>\n",
       "</table>\n",
       "<p>3382 rows × 1 columns</p>\n",
       "</div>"
      ],
      "text/plain": [
       "           score\n",
       "word            \n",
       "abandon       -2\n",
       "abandoned     -2\n",
       "abandons      -2\n",
       "abducted      -2\n",
       "abduction     -2\n",
       "...          ...\n",
       "yucky         -2\n",
       "yummy          3\n",
       "zealot        -2\n",
       "zealots       -2\n",
       "zealous        2\n",
       "\n",
       "[3382 rows x 1 columns]"
      ]
     },
     "execution_count": 3,
     "metadata": {},
     "output_type": "execute_result"
    }
   ],
   "source": [
    "sentiment_df"
   ]
  },
  {
   "cell_type": "code",
   "execution_count": 4,
   "id": "41e254d5",
   "metadata": {},
   "outputs": [],
   "source": [
    "sentiment_dict = sentiment_df.to_dict()['score']"
   ]
  },
  {
   "cell_type": "markdown",
   "id": "d8cb515c",
   "metadata": {},
   "source": [
    "Here, we load the data into a dataframe. There is no header so we provide the column names with the `names` argument. Then we set the word as the index, which helps with the next step where we convert the dataframe to a dictionary. This has the column names as keys, then the values are dictionaries with the index value as keys and the column values as values. So we get a dictionary like this:\n",
    "\n",
    "```python\n",
    "{'abandon': -2,\n",
    " 'abandoned': -2,\n",
    " 'abandons': -2,\n",
    " 'abducted': -2,\n",
    " ...\n",
    "}\n",
    "```\n",
    "\n",
    "Now we can get the average sentiment for each string we have in our original dataframe, which is the title of each post. We get the scores for each word and take the average for each title:"
   ]
  },
  {
   "cell_type": "code",
   "execution_count": 5,
   "id": "99da374f",
   "metadata": {},
   "outputs": [],
   "source": [
    "import numpy as np\n",
    "\n",
    "title_sentiments = []\n",
    "for title in df['title']:\n",
    "    words = title.lower().split()\n",
    "    this_titles_sentiments = []\n",
    "    for w in words:\n",
    "        if w in sentiment_dict.keys():\n",
    "            this_titles_sentiments.append(sentiment_dict[w])\n",
    "        else:\n",
    "            this_titles_sentiments.append(0)\n",
    "            \n",
    "    \n",
    "    title_sentiments.append(np.mean(this_titles_sentiments))"
   ]
  },
  {
   "cell_type": "code",
   "execution_count": 6,
   "id": "816aac09",
   "metadata": {},
   "outputs": [],
   "source": [
    "df['keyword_sentiment'] = title_sentiments"
   ]
  },
  {
   "cell_type": "code",
   "execution_count": 7,
   "id": "ebb4d600",
   "metadata": {},
   "outputs": [
    {
     "data": {
      "text/plain": [
       "<Axes: ylabel='Frequency'>"
      ]
     },
     "execution_count": 7,
     "metadata": {},
     "output_type": "execute_result"
    },
    {
     "data": {
      "image/png": "[encoded data removed]",
      "text/plain": [
       "<Figure size 640x480 with 1 Axes>"
      ]
     },
     "metadata": {},
     "output_type": "display_data"
    }
   ],
   "source": [
    "df['keyword_sentiment'].plot.hist(bins=30)"
   ]
  },
  {
   "cell_type": "code",
   "execution_count": 8,
   "id": "8ac7344a",
   "metadata": {},
   "outputs": [
    {
     "data": {
      "text/plain": [
       "0.006118817051783505"
      ]
     },
     "execution_count": 8,
     "metadata": {},
     "output_type": "execute_result"
    }
   ],
   "source": [
    "df['keyword_sentiment'].mean()"
   ]
  },
  {
   "cell_type": "code",
   "execution_count": 9,
   "id": "0d6ffb10",
   "metadata": {},
   "outputs": [
    {
     "data": {
      "text/plain": [
       "0.0"
      ]
     },
     "execution_count": 9,
     "metadata": {},
     "output_type": "execute_result"
    }
   ],
   "source": [
    "df['keyword_sentiment'].median()"
   ]
  },
  {
   "cell_type": "markdown",
   "id": "6f9a57a8",
   "metadata": {},
   "source": [
    "create a new column in our original dataframe with sentiments \n",
    "\n",
    "Let's look at some of the top and bottom sentiment posts"
   ]
  },
  {
   "cell_type": "code",
   "execution_count": 20,
   "id": "8b5df26a",
   "metadata": {},
   "outputs": [
    {
     "data": {
      "text/html": [
       "<div>\n",
       "<style scoped>\n",
       "    .dataframe tbody tr th:only-of-type {\n",
       "        vertical-align: middle;\n",
       "    }\n",
       "\n",
       "    .dataframe tbody tr th {\n",
       "        vertical-align: top;\n",
       "    }\n",
       "\n",
       "    .dataframe thead th {\n",
       "        text-align: right;\n",
       "    }\n",
       "</style>\n",
       "<table border=\"1\" class=\"dataframe\">\n",
       "  <thead>\n",
       "    <tr style=\"text-align: right;\">\n",
       "      <th></th>\n",
       "      <th>title</th>\n",
       "      <th>keyword_sentiment</th>\n",
       "    </tr>\n",
       "  </thead>\n",
       "  <tbody>\n",
       "    <tr>\n",
       "      <th>98</th>\n",
       "      <td>„apolitical” protest</td>\n",
       "      <td>-1.000000</td>\n",
       "    </tr>\n",
       "    <tr>\n",
       "      <th>6</th>\n",
       "      <td>Forever lost biscuits</td>\n",
       "      <td>-1.000000</td>\n",
       "    </tr>\n",
       "    <tr>\n",
       "      <th>88</th>\n",
       "      <td>Advice needed for a return fraud claim</td>\n",
       "      <td>-0.571429</td>\n",
       "    </tr>\n",
       "    <tr>\n",
       "      <th>58</th>\n",
       "      <td>Municipal grave lease expiring</td>\n",
       "      <td>-0.500000</td>\n",
       "    </tr>\n",
       "    <tr>\n",
       "      <th>10</th>\n",
       "      <td>Karolina Maj spam calls</td>\n",
       "      <td>-0.500000</td>\n",
       "    </tr>\n",
       "    <tr>\n",
       "      <th>...</th>\n",
       "      <td>...</td>\n",
       "      <td>...</td>\n",
       "    </tr>\n",
       "    <tr>\n",
       "      <th>155</th>\n",
       "      <td>Happy belated Valentine's Day from Polish forr...</td>\n",
       "      <td>0.428571</td>\n",
       "    </tr>\n",
       "    <tr>\n",
       "      <th>110</th>\n",
       "      <td>Perfect crisps to cheer you up on that solo mo...</td>\n",
       "      <td>0.454545</td>\n",
       "    </tr>\n",
       "    <tr>\n",
       "      <th>102</th>\n",
       "      <td>Help with poczta polska please</td>\n",
       "      <td>0.600000</td>\n",
       "    </tr>\n",
       "    <tr>\n",
       "      <th>113</th>\n",
       "      <td>Best MMA Gyms in Poland?</td>\n",
       "      <td>0.600000</td>\n",
       "    </tr>\n",
       "    <tr>\n",
       "      <th>0</th>\n",
       "      <td>the good times</td>\n",
       "      <td>1.000000</td>\n",
       "    </tr>\n",
       "  </tbody>\n",
       "</table>\n",
       "<p>209 rows × 2 columns</p>\n",
       "</div>"
      ],
      "text/plain": [
       "                                                 title  keyword_sentiment\n",
       "98                                „apolitical” protest          -1.000000\n",
       "6                                Forever lost biscuits          -1.000000\n",
       "88              Advice needed for a return fraud claim          -0.571429\n",
       "58                      Municipal grave lease expiring          -0.500000\n",
       "10                             Karolina Maj spam calls          -0.500000\n",
       "..                                                 ...                ...\n",
       "155  Happy belated Valentine's Day from Polish forr...           0.428571\n",
       "110  Perfect crisps to cheer you up on that solo mo...           0.454545\n",
       "102                     Help with poczta polska please           0.600000\n",
       "113                           Best MMA Gyms in Poland?           0.600000\n",
       "0                                       the good times           1.000000\n",
       "\n",
       "[209 rows x 2 columns]"
      ]
     },
     "execution_count": 20,
     "metadata": {},
     "output_type": "execute_result"
    }
   ],
   "source": [
    "df.sort_values(by='keyword_sentiment')[['title', 'keyword_sentiment']]"
   ]
  },
  {
   "cell_type": "code",
   "execution_count": 21,
   "id": "3c73774d",
   "metadata": {},
   "outputs": [
    {
     "data": {
      "text/plain": [
       "['„apolitical” protest',\n",
       " 'Forever lost biscuits',\n",
       " 'Advice needed for a return fraud claim',\n",
       " 'Municipal grave lease expiring',\n",
       " 'Karolina Maj spam calls',\n",
       " 'Current Job Market - Desperate for some advice!',\n",
       " 'Stolen credit card data - show I bother reporting to someone?',\n",
       " 'Putin: \"Poland provoked Hitler to start World War II\"',\n",
       " 'Which city embarrasses you the most?',\n",
       " 'Ukraine warns of “retaliatory measures” if Poland does not end farmers’ border blockade']"
      ]
     },
     "execution_count": 21,
     "metadata": {},
     "output_type": "execute_result"
    }
   ],
   "source": [
    "# full titles of the bottom 10 sentiments\n",
    "df.sort_values(by='keyword_sentiment')['title'].to_list()[:10]"
   ]
  },
  {
   "cell_type": "code",
   "execution_count": 22,
   "id": "2be5eb5c",
   "metadata": {},
   "outputs": [
    {
     "data": {
      "text/plain": [
       "['the good times',\n",
       " 'Best MMA Gyms in Poland?',\n",
       " 'Help with poczta polska please',\n",
       " 'Perfect crisps to cheer you up on that solo movie night',\n",
       " 'Karta Polaka experience? Would love to hear!',\n",
       " 'Good companies to buy an office chair?',\n",
       " \"Happy belated Valentine's Day from Polish forrests!\",\n",
       " 'Need help shipping to Sweden',\n",
       " 'Is the architecture job market good in Poland?',\n",
       " 'Selling a vehicle document help needed']"
      ]
     },
     "execution_count": 22,
     "metadata": {},
     "output_type": "execute_result"
    }
   ],
   "source": [
    "# full titles of the top 10 sentiments\n",
    "df.sort_values(by='keyword_sentiment', ascending=False)['title'].to_list()[:10]"
   ]
  },
  {
   "cell_type": "markdown",
   "id": "b27ad43b",
   "metadata": {},
   "source": [
    "# Using Python packages for sentiment analysis"
   ]
  },
  {
   "cell_type": "markdown",
   "id": "1ed81e60",
   "metadata": {},
   "source": [
    "There are a few Python packages that use rule-based and keyword-based sentiment analysis. We will look at VADER "
   ]
  },
  {
   "cell_type": "code",
   "execution_count": 13,
   "id": "8fd9af09",
   "metadata": {},
   "outputs": [
    {
     "name": "stdout",
     "output_type": "stream",
     "text": [
      "Collecting package metadata (current_repodata.json): ...working... done\n",
      "Solving environment: ...working... done\n",
      "\n",
      "# All requested packages already installed.\n",
      "\n",
      "\n",
      "Note: you may need to restart the kernel to use updated packages.\n"
     ]
    },
    {
     "name": "stderr",
     "output_type": "stream",
     "text": [
      "\n",
      "\n",
      "==> WARNING: A newer version of conda exists. <==\n",
      "  current version: 23.7.4\n",
      "  latest version: 24.1.2\n",
      "\n",
      "Please update conda by running\n",
      "\n",
      "    $ conda update -n base -c defaults conda\n",
      "\n",
      "Or to minimize the number of packages updated during conda update use\n",
      "\n",
      "     conda install conda=24.1.2\n",
      "\n",
      "\n"
     ]
    }
   ],
   "source": [
    "conda install -c conda-forge textblob vadersentiment -y"
   ]
  },
  {
   "cell_type": "code",
   "execution_count": 14,
   "id": "3b5c0b24",
   "metadata": {},
   "outputs": [
    {
     "data": {
      "text/plain": [
       "Sentiment(polarity=0.85, subjectivity=1.0)"
      ]
     },
     "execution_count": 14,
     "metadata": {},
     "output_type": "execute_result"
    }
   ],
   "source": [
    "from textblob import TextBlob\n",
    "\n",
    "tb = TextBlob(\"April snowstorms make for some beautiful pictures...\")\n",
    "tb.sentiment"
   ]
  },
  {
   "cell_type": "markdown",
   "id": "fc85e55a",
   "metadata": {},
   "source": [
    "Textblob requires us to use their TextBlob class on a string. Then we can get the sentiment score. It gives us polarity (-1 to =1) and subjectivite (0 to 1, objective to subjective). We can see this sentence is rated fully subjective and has a positive sentiment, which makes sense. We can apply it to the whole dataframe like so:"
   ]
  },
  {
   "cell_type": "code",
   "execution_count": 15,
   "id": "b77bab30",
   "metadata": {},
   "outputs": [],
   "source": [
    "def get_tb_sentiment(text):\n",
    "    tb = TextBlob(text)\n",
    "    return tb.sentiment[0]\n",
    "\n",
    "df['tb_sentiment'] = df['title'].apply(get_tb_sentiment)"
   ]
  },
  {
   "cell_type": "markdown",
   "id": "269340c2",
   "metadata": {},
   "source": [
    "Because we need to do a few steps to get the polarity (sentiment) score, we wrote a short function to do it. Then we use the pandas `apply` function to apply this to the whole dataframe.\n",
    "\n",
    "Note: If you have a lot of data and want to speed this up, look at the `swifter` package for parallelizing the `apply` function.\n",
    "\n",
    "Now we can look at the distribution of these sentiments:"
   ]
  },
  {
   "cell_type": "code",
   "execution_count": 16,
   "id": "c5f6928d",
   "metadata": {},
   "outputs": [
    {
     "data": {
      "text/plain": [
       "<Axes: ylabel='Frequency'>"
      ]
     },
     "execution_count": 16,
     "metadata": {},
     "output_type": "execute_result"
    },
    {
     "data": {
      "image/png": "[encoded data removed]",
      "text/plain": [
       "<Figure size 640x480 with 1 Axes>"
      ]
     },
     "metadata": {},
     "output_type": "display_data"
    }
   ],
   "source": [
    "df['tb_sentiment'].plot.hist(bins=30)"
   ]
  },
  {
   "cell_type": "code",
   "execution_count": 17,
   "id": "cbcbd5a7",
   "metadata": {},
   "outputs": [
    {
     "data": {
      "text/plain": [
       "0.045186571801404334"
      ]
     },
     "execution_count": 17,
     "metadata": {},
     "output_type": "execute_result"
    }
   ],
   "source": [
    "df['tb_sentiment'].mean()"
   ]
  },
  {
   "cell_type": "markdown",
   "id": "b534b199",
   "metadata": {},
   "source": [
    "We can see the distribution looks similar but is more spread out than our AFINN method. textblob has more words in its lookup dictionary than the AFINN dictionary we used.\n",
    "\n",
    "VADER is similar to use:"
   ]
  },
  {
   "cell_type": "code",
   "execution_count": 18,
   "id": "52d55aff",
   "metadata": {},
   "outputs": [
    {
     "data": {
      "text/plain": [
       "{'neg': 0.0, 'neu': 0.606, 'pos': 0.394, 'compound': 0.5994}"
      ]
     },
     "execution_count": 18,
     "metadata": {},
     "output_type": "execute_result"
    }
   ],
   "source": [
    "from vaderSentiment.vaderSentiment import SentimentIntensityAnalyzer\n",
    "\n",
    "analyzer = SentimentIntensityAnalyzer()\n",
    "analyzer.polarity_scores(\"April snowstorms make for some beautiful pictures...\")"
   ]
  },
  {
   "cell_type": "code",
   "execution_count": 19,
   "id": "04e7f39f",
   "metadata": {},
   "outputs": [
    {
     "data": {
      "text/plain": [
       "0.5994"
      ]
     },
     "execution_count": 19,
     "metadata": {},
     "output_type": "execute_result"
    }
   ],
   "source": [
    "analyzer.polarity_scores(\"April snowstorms make for some beautiful pictures...\")['compound']"
   ]
  }
 ],
 "metadata": {
  "kernelspec": {
   "display_name": "Python 3 (ipykernel)",
   "language": "python",
   "name": "python3"
  },
  "language_info": {
   "codemirror_mode": {
    "name": "ipython",
    "version": 3
   },
   "file_extension": ".py",
   "mimetype": "text/x-python",
   "name": "python",
   "nbconvert_exporter": "python",
   "pygments_lexer": "ipython3",
   "version": "3.11.5"
  }
 },
 "nbformat": 4,
 "nbformat_minor": 5
}

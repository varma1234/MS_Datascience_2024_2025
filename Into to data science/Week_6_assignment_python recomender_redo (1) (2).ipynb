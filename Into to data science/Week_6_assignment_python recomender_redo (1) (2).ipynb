{
 "cells": [
  {
   "cell_type": "markdown",
   "id": "ca51c4c7",
   "metadata": {},
   "source": [
    "# Assignment - week6"
   ]
  },
  {
   "cell_type": "markdown",
   "id": "2212ba01",
   "metadata": {},
   "source": [
    "import the necessary libraries, including Pandas for data manipulation and Scikit-learn for similarity calculations."
   ]
  },
  {
   "cell_type": "code",
   "execution_count": 16,
   "id": "ea4f213e",
   "metadata": {},
   "outputs": [],
   "source": [
    "import pandas as pd\n",
    "import numpy as np\n",
    "from sklearn.metrics.pairwise import cosine_similarity\n",
    "from sklearn.metrics import euclidean_distances"
   ]
  },
  {
   "cell_type": "markdown",
   "id": "bbb9d351",
   "metadata": {},
   "source": [
    "Load the ratings and movies datasets into pandas DataFrames.                                   \n",
    "Explore the structure and type of data in both datasets.                           \n",
    "and filter it to get only the movies watched by user 2.                       \n",
    "We count the number of movies watched."
   ]
  },
  {
   "cell_type": "code",
   "execution_count": 17,
   "id": "420aa40d",
   "metadata": {},
   "outputs": [
    {
     "data": {
      "text/html": [
       "<div>\n",
       "<style scoped>\n",
       "    .dataframe tbody tr th:only-of-type {\n",
       "        vertical-align: middle;\n",
       "    }\n",
       "\n",
       "    .dataframe tbody tr th {\n",
       "        vertical-align: top;\n",
       "    }\n",
       "\n",
       "    .dataframe thead th {\n",
       "        text-align: right;\n",
       "    }\n",
       "</style>\n",
       "<table border=\"1\" class=\"dataframe\">\n",
       "  <thead>\n",
       "    <tr style=\"text-align: right;\">\n",
       "      <th></th>\n",
       "      <th>movieId</th>\n",
       "      <th>title</th>\n",
       "      <th>genres</th>\n",
       "    </tr>\n",
       "  </thead>\n",
       "  <tbody>\n",
       "    <tr>\n",
       "      <th>0</th>\n",
       "      <td>1</td>\n",
       "      <td>Toy Story (1995)</td>\n",
       "      <td>Adventure|Animation|Children|Comedy|Fantasy</td>\n",
       "    </tr>\n",
       "    <tr>\n",
       "      <th>1</th>\n",
       "      <td>2</td>\n",
       "      <td>Jumanji (1995)</td>\n",
       "      <td>Adventure|Children|Fantasy</td>\n",
       "    </tr>\n",
       "    <tr>\n",
       "      <th>2</th>\n",
       "      <td>3</td>\n",
       "      <td>Grumpier Old Men (1995)</td>\n",
       "      <td>Comedy|Romance</td>\n",
       "    </tr>\n",
       "    <tr>\n",
       "      <th>3</th>\n",
       "      <td>4</td>\n",
       "      <td>Waiting to Exhale (1995)</td>\n",
       "      <td>Comedy|Drama|Romance</td>\n",
       "    </tr>\n",
       "    <tr>\n",
       "      <th>4</th>\n",
       "      <td>5</td>\n",
       "      <td>Father of the Bride Part II (1995)</td>\n",
       "      <td>Comedy</td>\n",
       "    </tr>\n",
       "  </tbody>\n",
       "</table>\n",
       "</div>"
      ],
      "text/plain": [
       "   movieId                               title  \\\n",
       "0        1                    Toy Story (1995)   \n",
       "1        2                      Jumanji (1995)   \n",
       "2        3             Grumpier Old Men (1995)   \n",
       "3        4            Waiting to Exhale (1995)   \n",
       "4        5  Father of the Bride Part II (1995)   \n",
       "\n",
       "                                        genres  \n",
       "0  Adventure|Animation|Children|Comedy|Fantasy  \n",
       "1                   Adventure|Children|Fantasy  \n",
       "2                               Comedy|Romance  \n",
       "3                         Comedy|Drama|Romance  \n",
       "4                                       Comedy  "
      ]
     },
     "execution_count": 17,
     "metadata": {},
     "output_type": "execute_result"
    }
   ],
   "source": [
    "import pandas as pd\n",
    "\n",
    "ratings_df = pd.read_csv(\"ratings.csv\")\n",
    "movies_df = pd.read_csv(\"movies.csv\")\n",
    "\n",
    "\n",
    "movies_df.head()\n"
   ]
  },
  {
   "cell_type": "code",
   "execution_count": 18,
   "id": "2b4adc48",
   "metadata": {},
   "outputs": [
    {
     "data": {
      "text/html": [
       "<div>\n",
       "<style scoped>\n",
       "    .dataframe tbody tr th:only-of-type {\n",
       "        vertical-align: middle;\n",
       "    }\n",
       "\n",
       "    .dataframe tbody tr th {\n",
       "        vertical-align: top;\n",
       "    }\n",
       "\n",
       "    .dataframe thead th {\n",
       "        text-align: right;\n",
       "    }\n",
       "</style>\n",
       "<table border=\"1\" class=\"dataframe\">\n",
       "  <thead>\n",
       "    <tr style=\"text-align: right;\">\n",
       "      <th></th>\n",
       "      <th>userId</th>\n",
       "      <th>movieId</th>\n",
       "      <th>rating</th>\n",
       "      <th>timestamp</th>\n",
       "    </tr>\n",
       "  </thead>\n",
       "  <tbody>\n",
       "    <tr>\n",
       "      <th>0</th>\n",
       "      <td>1</td>\n",
       "      <td>1</td>\n",
       "      <td>4.0</td>\n",
       "      <td>964982703</td>\n",
       "    </tr>\n",
       "    <tr>\n",
       "      <th>1</th>\n",
       "      <td>1</td>\n",
       "      <td>3</td>\n",
       "      <td>4.0</td>\n",
       "      <td>964981247</td>\n",
       "    </tr>\n",
       "    <tr>\n",
       "      <th>2</th>\n",
       "      <td>1</td>\n",
       "      <td>6</td>\n",
       "      <td>4.0</td>\n",
       "      <td>964982224</td>\n",
       "    </tr>\n",
       "    <tr>\n",
       "      <th>3</th>\n",
       "      <td>1</td>\n",
       "      <td>47</td>\n",
       "      <td>5.0</td>\n",
       "      <td>964983815</td>\n",
       "    </tr>\n",
       "    <tr>\n",
       "      <th>4</th>\n",
       "      <td>1</td>\n",
       "      <td>50</td>\n",
       "      <td>5.0</td>\n",
       "      <td>964982931</td>\n",
       "    </tr>\n",
       "  </tbody>\n",
       "</table>\n",
       "</div>"
      ],
      "text/plain": [
       "   userId  movieId  rating  timestamp\n",
       "0       1        1     4.0  964982703\n",
       "1       1        3     4.0  964981247\n",
       "2       1        6     4.0  964982224\n",
       "3       1       47     5.0  964983815\n",
       "4       1       50     5.0  964982931"
      ]
     },
     "execution_count": 18,
     "metadata": {},
     "output_type": "execute_result"
    }
   ],
   "source": [
    "ratings_df.head()"
   ]
  },
  {
   "cell_type": "code",
   "execution_count": 19,
   "id": "0b619d61",
   "metadata": {},
   "outputs": [
    {
     "name": "stdout",
     "output_type": "stream",
     "text": [
      "\n",
      "Ratings by User 2:\n",
      "     userId  movieId  rating   timestamp\n",
      "232       2      318     3.0  1445714835\n",
      "233       2      333     4.0  1445715029\n",
      "234       2     1704     4.5  1445715228\n",
      "235       2     3578     4.0  1445714885\n",
      "236       2     6874     4.0  1445714952\n",
      "237       2     8798     3.5  1445714960\n",
      "238       2    46970     4.0  1445715013\n",
      "239       2    48516     4.0  1445715064\n",
      "240       2    58559     4.5  1445715141\n",
      "241       2    60756     5.0  1445714980\n",
      "242       2    68157     4.5  1445715154\n",
      "243       2    71535     3.0  1445714974\n",
      "244       2    74458     4.0  1445714926\n",
      "245       2    77455     3.0  1445714941\n",
      "246       2    79132     4.0  1445714841\n",
      "247       2    80489     4.5  1445715340\n",
      "248       2    80906     5.0  1445715172\n",
      "249       2    86345     4.0  1445715166\n",
      "250       2    89774     5.0  1445715189\n",
      "251       2    91529     3.5  1445714891\n",
      "252       2    91658     2.5  1445714938\n",
      "253       2    99114     3.5  1445714874\n",
      "254       2   106782     5.0  1445714966\n",
      "255       2   109487     3.0  1445715145\n",
      "256       2   112552     4.0  1445714882\n",
      "257       2   114060     2.0  1445715276\n",
      "258       2   115713     3.5  1445714854\n",
      "259       2   122882     5.0  1445715272\n",
      "260       2   131724     5.0  1445714851\n"
     ]
    }
   ],
   "source": [
    "user_2_ratings = ratings_df[ratings_df['userId'] == 2]\n",
    "print(\"\\nRatings by User 2:\")\n",
    "print(user_2_ratings)\n"
   ]
  },
  {
   "cell_type": "code",
   "execution_count": 20,
   "id": "09f52804",
   "metadata": {},
   "outputs": [
    {
     "name": "stdout",
     "output_type": "stream",
     "text": [
      "\n",
      "Number of movies watched by User 2: 29\n"
     ]
    }
   ],
   "source": [
    "# Count movies watched by user 2\n",
    "movies_watched_by_user_2 = user_2_ratings.shape[0]\n",
    "print(\"\\nNumber of movies watched by User 2:\", movies_watched_by_user_2)"
   ]
  },
  {
   "cell_type": "code",
   "execution_count": null,
   "id": "0e25bda3",
   "metadata": {},
   "outputs": [],
   "source": []
  },
  {
   "cell_type": "code",
   "execution_count": 21,
   "id": "fc330a21",
   "metadata": {},
   "outputs": [
    {
     "data": {
      "image/png": "[encoded data removed]",
      "text/plain": [
       "<Figure size 1000x600 with 1 Axes>"
      ]
     },
     "metadata": {},
     "output_type": "display_data"
    }
   ],
   "source": [
    "import matplotlib.pyplot as plt\n",
    "\n",
    "# Step 6: Visualize the genres User 2 is interested in\n",
    "# Extract User 2's watched movies genres\n",
    "user_2_movie_genres = user_2_movies['genres'].str.split('|', expand=True).stack()\n",
    "\n",
    "# Calculate genre frequencies\n",
    "genre_counts = user_2_movie_genres.value_counts()\n",
    "\n",
    "# Plot the genre distribution\n",
    "plt.figure(figsize=(10, 6))\n",
    "genre_counts.plot(kind='bar', color='orange')\n",
    "plt.title('Genres Distribution of Movies Watched by User 2')\n",
    "plt.xlabel('Genre')\n",
    "plt.ylabel('Count')\n",
    "plt.xticks(rotation=45, ha='right')\n",
    "plt.show()\n"
   ]
  },
  {
   "cell_type": "markdown",
   "id": "f6d93f94",
   "metadata": {},
   "source": [
    "We plot a bar chart of user 2's movie ratings distribution."
   ]
  },
  {
   "cell_type": "code",
   "execution_count": 22,
   "id": "70cea948",
   "metadata": {},
   "outputs": [
    {
     "data": {
      "text/plain": [
       "<Axes: title={'center': 'User 2 Movie Ratings'}, xlabel='Rating', ylabel='Count'>"
      ]
     },
     "execution_count": 22,
     "metadata": {},
     "output_type": "execute_result"
    },
    {
     "data": {
      "image/png": "[encoded data removed]",
      "text/plain": [
       "<Figure size 640x480 with 1 Axes>"
      ]
     },
     "metadata": {},
     "output_type": "display_data"
    }
   ],
   "source": [
    "user_2_movies = pd.merge(user_2_ratings, movies_df, on='movieId', how='left')\n",
    "rating_counts = user_2_movies['rating'].value_counts().sort_index()\n",
    "rating_counts.plot(kind='bar', color='red', xlabel='Rating', ylabel='Count', title='User 2 Movie Ratings')"
   ]
  },
  {
   "cell_type": "markdown",
   "id": "156ded0a",
   "metadata": {},
   "source": [
    "Identify top movies for user 2"
   ]
  },
  {
   "cell_type": "markdown",
   "id": "4d4d4d77",
   "metadata": {},
   "source": [
    "We merge the ratings data with the movies data to get movie titles, then sort the movies based on ratings to find user 2's top-rated movies."
   ]
  },
  {
   "cell_type": "code",
   "execution_count": 23,
   "id": "ff2e9118",
   "metadata": {},
   "outputs": [
    {
     "name": "stdout",
     "output_type": "stream",
     "text": [
      "\n",
      "Top rated movies by User 2:\n",
      "     userId  movieId  rating   timestamp\n",
      "233       2      333     4.0  1445715029\n",
      "234       2     1704     4.5  1445715228\n",
      "235       2     3578     4.0  1445714885\n",
      "236       2     6874     4.0  1445714952\n",
      "238       2    46970     4.0  1445715013\n",
      "239       2    48516     4.0  1445715064\n",
      "240       2    58559     4.5  1445715141\n",
      "241       2    60756     5.0  1445714980\n",
      "242       2    68157     4.5  1445715154\n",
      "244       2    74458     4.0  1445714926\n",
      "246       2    79132     4.0  1445714841\n",
      "247       2    80489     4.5  1445715340\n",
      "248       2    80906     5.0  1445715172\n",
      "249       2    86345     4.0  1445715166\n",
      "250       2    89774     5.0  1445715189\n",
      "254       2   106782     5.0  1445714966\n",
      "256       2   112552     4.0  1445714882\n",
      "259       2   122882     5.0  1445715272\n",
      "260       2   131724     5.0  1445714851\n"
     ]
    }
   ],
   "source": [
    "top_rated_by_user_2 = user_2_ratings[user_2_ratings['rating'] >= 4.0]\n",
    "print(\"\\nTop rated movies by User 2:\")\n",
    "print(top_rated_by_user_2)\n"
   ]
  },
  {
   "cell_type": "markdown",
   "id": "e6b36f1c",
   "metadata": {},
   "source": [
    "Similarity analysis : Compute the most similar user to User 2 using at least 2 distance metrics (e.g., cosine similarity and Euclidean distance)."
   ]
  },
  {
   "cell_type": "code",
   "execution_count": 24,
   "id": "cd3061e6",
   "metadata": {},
   "outputs": [
    {
     "name": "stdout",
     "output_type": "stream",
     "text": [
      "\n",
      "Most similar user to User 2 (Cosine Similarity): 366\n",
      "Most similar user to User 2 (Euclidean Distance): 442\n"
     ]
    }
   ],
   "source": [
    "from sklearn.metrics.pairwise import cosine_similarity, euclidean_distances\n",
    "\n",
    "# Compute cosine similarity between user 2 and all other users\n",
    "user_item_matrix = ratings_df.pivot_table(index='userId', columns='movieId', values='rating').fillna(0)\n",
    "user_2_vector = user_item_matrix.loc[2].values.reshape(1, -1)\n",
    "cosine_similarities = cosine_similarity(user_2_vector, user_item_matrix)[0]\n",
    "\n",
    "# Find the most similar user based on cosine similarity\n",
    "most_similar_user_cosine = np.argsort(cosine_similarities)[-2] + 1  # Adjusting for user index starting at 1\n",
    "print(\"\\nMost similar user to User 2 (Cosine Similarity):\", most_similar_user_cosine)\n",
    "\n",
    "# Compute Euclidean distances between user 2 and all other users\n",
    "euclidean_dists = euclidean_distances(user_2_vector, user_item_matrix)[0]\n",
    "\n",
    "# Find the most similar user based on Euclidean distance\n",
    "most_similar_user_euclidean = np.argsort(euclidean_dists)[1] + 1  # Adjusting for user index starting at 1\n",
    "print(\"Most similar user to User 2 (Euclidean Distance):\", most_similar_user_euclidean)\n"
   ]
  },
  {
   "cell_type": "markdown",
   "id": "557b2bef",
   "metadata": {},
   "source": [
    "We recommend movies for user 2 based on the ratings of the most similar user."
   ]
  },
  {
   "cell_type": "code",
   "execution_count": 25,
   "id": "b441fff8",
   "metadata": {},
   "outputs": [
    {
     "name": "stdout",
     "output_type": "stream",
     "text": [
      "\n",
      "Recommendations for User 2 (Cosine Similarity):\n",
      "                                                title  rating\n",
      "3                               Reservoir Dogs (1992)     5.0\n",
      "7   Lord of the Rings: The Fellowship of the Ring,...     4.5\n",
      "6                          Requiem for a Dream (2000)     4.0\n",
      "2                                     Die Hard (1988)     4.0\n",
      "10                           Kill Bill: Vol. 2 (2004)     4.0\n",
      "\n",
      "Recommendations for User 2 (Euclidean Distance):\n",
      "Empty DataFrame\n",
      "Columns: [title, rating]\n",
      "Index: []\n"
     ]
    }
   ],
   "source": [
    "# Define function to get recommendations based on a similar user's preferences\n",
    "def get_recommendations_for_user(similar_user_id, user_ratings, movies_df, n_recommendations=5):\n",
    "    similar_user_ratings = user_ratings[user_ratings['userId'] == similar_user_id]\n",
    "    highly_rated_by_similar_user = similar_user_ratings[similar_user_ratings['rating'] >= 4.0]\n",
    "    movies_not_watched_by_user_2 = highly_rated_by_similar_user[~highly_rated_by_similar_user['movieId'].isin(user_2_ratings['movieId'])]\n",
    "    recommendations_with_titles = pd.merge(movies_not_watched_by_user_2, movies_df, on='movieId', how='left')\n",
    "    recommendations = recommendations_with_titles[['title', 'rating']].sample(n=min(n_recommendations, len(recommendations_with_titles)), random_state=1)\n",
    "    return recommendations\n",
    "\n",
    "# Get recommendations based on the most similar users found by each metric\n",
    "recommendations_cosine = get_recommendations_for_user(most_similar_user_cosine, ratings_df, movies_df)\n",
    "recommendations_euclidean = get_recommendations_for_user(most_similar_user_euclidean, ratings_df, movies_df)\n",
    "\n",
    "print(\"\\nRecommendations for User 2 (Cosine Similarity):\")\n",
    "print(recommendations_cosine)\n",
    "\n",
    "print(\"\\nRecommendations for User 2 (Euclidean Distance):\")\n",
    "print(recommendations_euclidean)\n"
   ]
  },
  {
   "cell_type": "markdown",
   "id": "43c62d79",
   "metadata": {},
   "source": [
    "# Analysis/Summary"
   ]
  },
  {
   "cell_type": "markdown",
   "id": "41948ced",
   "metadata": {},
   "source": [
    "Here's a simplified summary of the process:\n",
    "\n",
    "1. **Data Loading and Exploration**:\n",
    "   - Loaded the datasets `ratings.csv` and `movies.csv` into pandas DataFrames.\n",
    "   - Conducted initial exploration to understand the structure and type of data in both datasets.\n",
    "\n",
    "2. **Movies Watched by User 2**:\n",
    "   - Extracted movies watched by User 2 from the ratings dataset to analyze their interactions with various movies.\n",
    "\n",
    "3. **Analysis of User 2's Movie Ratings**:\n",
    "   - Analyzed User 2's movie ratings to determine how many movies they have watched.\n",
    "   - Plotted a bar chart to visualize the distribution of User 2's movie ratings, showing the counts of unique ratings given by User 2.\n",
    "\n",
    "4. **Identification of Top-rated Movies by User 2**:\n",
    "   - Identified movies with the highest ratings from User 2 to determine some of their top-rated movies.\n",
    "\n",
    "5. **Similarity Analysis**:\n",
    "   - Calculated the similarity between User 2 and other users in the dataset using two distance metrics: Cosine Similarity and Euclidean Distance.\n",
    "   - Identified the most similar user to User 2 using both metrics, allowing for a comparison of similarity from different perspectives.\n",
    "\n",
    "6. **Movie Recommendations for User 2**:\n",
    "   - Recommended movies to User 2 based on the similarity analysis.\n",
    "   - Identified movies highly rated by the most similar users that User 2 has not yet watched.\n",
    "   - Conducted the recommendation process separately for the most similar user identified by each similarity metric, resulting in two sets of recommendations.\n",
    "\n",
    "Overall, the process involved loading and exploring the data, analyzing User 2's movie ratings, identifying top-rated movies, conducting similarity analysis with other users, and providing movie recommendations for User 2 based on similarity metrics."
   ]
  },
  {
   "cell_type": "code",
   "execution_count": null,
   "id": "11d860cd",
   "metadata": {},
   "outputs": [],
   "source": []
  }
 ],
 "metadata": {
  "kernelspec": {
   "display_name": "Python 3 (ipykernel)",
   "language": "python",
   "name": "python3"
  },
  "language_info": {
   "codemirror_mode": {
    "name": "ipython",
    "version": 3
   },
   "file_extension": ".py",
   "mimetype": "text/x-python",
   "name": "python",
   "nbconvert_exporter": "python",
   "pygments_lexer": "ipython3",
   "version": "3.11.5"
  }
 },
 "nbformat": 4,
 "nbformat_minor": 5
}

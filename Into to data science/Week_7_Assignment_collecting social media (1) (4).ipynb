{
 "cells": [
  {
   "cell_type": "markdown",
   "id": "79f18f17",
   "metadata": {},
   "source": [
    "As per task, Created a Reddit account and API keys"
   ]
  },
  {
   "cell_type": "markdown",
   "id": "672ef357",
   "metadata": {},
   "source": [
    "Collect data from a subreddit of your choice (at a minimum, collect the posts from the subreddit; optionally collect comments on the posts)"
   ]
  },
  {
   "cell_type": "code",
   "execution_count": 92,
   "id": "94c5e2a4",
   "metadata": {},
   "outputs": [],
   "source": [
    "import praw\n",
    "import pandas as pd\n",
    "import credentials"
   ]
  },
  {
   "cell_type": "markdown",
   "id": "724dda64",
   "metadata": {},
   "source": [
    "The `import credentials` line imports the file `credentials.py` \n",
    "\n",
    "Next, we initialize our reddit connection with our credentials."
   ]
  },
  {
   "cell_type": "code",
   "execution_count": 93,
   "id": "569f5545",
   "metadata": {},
   "outputs": [],
   "source": [
    "reddit = praw.Reddit(client_id=credentials.client_id,\n",
    "                     client_secret=credentials.client_secret,\n",
    "                     user_agent=credentials.user_agent)"
   ]
  },
  {
   "cell_type": "markdown",
   "id": "8b760478",
   "metadata": {},
   "source": [
    "Now we can select a subreddit of interest. We can use 'all' for all subreddits, but we'll try the Colorado subreddit first. We can select posts by 'top', 'hot', or other viewing options that you see in the web browser too. Then we can set an option for the time frame for some filters such as 'top', and we can use the time filters of all, day, hour, month, week, year (default: all). The PRAW documentation is a little difficult to navigate to find this information, but it's on this page: https://praw.readthedocs.io/en/latest/code_overview/models/subreddit.html#praw.models.Subreddit.search"
   ]
  },
  {
   "cell_type": "code",
   "execution_count": 94,
   "id": "6b1a65bc",
   "metadata": {},
   "outputs": [],
   "source": [
    "co_subreddit = reddit.subreddit('poland').hot(limit=10)"
   ]
  },
  {
   "cell_type": "markdown",
   "id": "400e0496",
   "metadata": {},
   "source": [
    "This returns a generator object, which is like a list, but we only get the elements when we ask for them, and only one time. So we can loop through the once:"
   ]
  },
  {
   "cell_type": "code",
   "execution_count": 95,
   "id": "6c8ea298",
   "metadata": {},
   "outputs": [
    {
     "name": "stdout",
     "output_type": "stream",
     "text": [
      "the good times 2271\n",
      "That's how voice-over (\"lektor\") in films in Poland looks like. A sample with reversed Polish and English languages. 116\n",
      "Od niepamiętnych czasów Rosja uwielbiała memy o bobrach.  Dlatego tak: 323\n",
      "Ethnographic map of Poland in 1919 77\n",
      "NATO conducts major 'Steadfast Defender' exercise in Poland 1\n",
      "Can anyone discipher what one part of this email means exactly? 3\n",
      "Forever lost biscuits 235\n",
      "why double surnames are popular among women in Poland? 173\n",
      "How do you deal with frustration?  31\n",
      "Niedziela wieczur 1054\n"
     ]
    }
   ],
   "source": [
    "for post in co_subreddit:\n",
    "    print(post.title, post.score)"
   ]
  },
  {
   "cell_type": "markdown",
   "id": "9af1b2d2",
   "metadata": {},
   "source": [
    "And now if we try to access the elements, they are gone (because we accessed them):"
   ]
  },
  {
   "cell_type": "code",
   "execution_count": 96,
   "id": "85f371b6",
   "metadata": {},
   "outputs": [
    {
     "data": {
      "text/plain": [
       "[]"
      ]
     },
     "execution_count": 96,
     "metadata": {},
     "output_type": "execute_result"
    }
   ],
   "source": [
    "list(co_subreddit)"
   ]
  },
  {
   "cell_type": "code",
   "execution_count": 97,
   "id": "7393a696",
   "metadata": {},
   "outputs": [
    {
     "data": {
      "text/plain": [
       "Submission(id='1b5njsm')"
      ]
     },
     "execution_count": 97,
     "metadata": {},
     "output_type": "execute_result"
    }
   ],
   "source": [
    "post"
   ]
  },
  {
   "cell_type": "code",
   "execution_count": 98,
   "id": "f3e3288f",
   "metadata": {},
   "outputs": [
    {
     "data": {
      "text/plain": [
       "1054"
      ]
     },
     "execution_count": 98,
     "metadata": {},
     "output_type": "execute_result"
    }
   ],
   "source": [
    "post.score"
   ]
  },
  {
   "cell_type": "code",
   "execution_count": 99,
   "id": "a8472418",
   "metadata": {},
   "outputs": [
    {
     "data": {
      "text/plain": [
       "'Niedziela wieczur'"
      ]
     },
     "execution_count": 99,
     "metadata": {},
     "output_type": "execute_result"
    }
   ],
   "source": [
    "post.title"
   ]
  },
  {
   "cell_type": "code",
   "execution_count": 100,
   "id": "353f2de6",
   "metadata": {},
   "outputs": [
    {
     "data": {
      "text/plain": [
       "'/r/poland/comments/1b5njsm/niedziela_wieczur/'"
      ]
     },
     "execution_count": 100,
     "metadata": {},
     "output_type": "execute_result"
    }
   ],
   "source": [
    "post.permalink"
   ]
  },
  {
   "cell_type": "markdown",
   "id": "46c70425",
   "metadata": {},
   "source": [
    "We can save some data of interest, "
   ]
  },
  {
   "cell_type": "code",
   "execution_count": 101,
   "id": "e45f574e",
   "metadata": {},
   "outputs": [],
   "source": [
    "reddit_data = {'title': [],\n",
    "              'link': [],\n",
    "              'author': [],\n",
    "              'n_comments': [],\n",
    "              'score': [],\n",
    "              'text': []}\n",
    "\n",
    "\n",
    "co_subreddit = reddit.subreddit('poland').hot(limit=None)\n",
    "\n",
    "for post in list(co_subreddit):\n",
    "    reddit_data['title'].append(post.title)\n",
    "    reddit_data['link'].append(post.permalink)\n",
    "    if post.author is None:\n",
    "        reddit_data['author'].append('')\n",
    "    else:\n",
    "        reddit_data['author'].append(post.author.name)\n",
    "    \n",
    "    reddit_data['n_comments'].append(post.num_comments)\n",
    "    reddit_data['score'].append(post.score)\n",
    "    reddit_data['text'].append(post.selftext)"
   ]
  },
  {
   "cell_type": "code",
   "execution_count": 102,
   "id": "2d7518ee",
   "metadata": {},
   "outputs": [],
   "source": [
    "co_df = pd.DataFrame(reddit_data)"
   ]
  },
  {
   "cell_type": "code",
   "execution_count": 121,
   "id": "1683f954",
   "metadata": {},
   "outputs": [
    {
     "data": {
      "text/html": [
       "<div>\n",
       "<style scoped>\n",
       "    .dataframe tbody tr th:only-of-type {\n",
       "        vertical-align: middle;\n",
       "    }\n",
       "\n",
       "    .dataframe tbody tr th {\n",
       "        vertical-align: top;\n",
       "    }\n",
       "\n",
       "    .dataframe thead th {\n",
       "        text-align: right;\n",
       "    }\n",
       "</style>\n",
       "<table border=\"1\" class=\"dataframe\">\n",
       "  <thead>\n",
       "    <tr style=\"text-align: right;\">\n",
       "      <th></th>\n",
       "      <th>title</th>\n",
       "      <th>link</th>\n",
       "      <th>author</th>\n",
       "      <th>n_comments</th>\n",
       "      <th>score</th>\n",
       "      <th>text</th>\n",
       "    </tr>\n",
       "  </thead>\n",
       "  <tbody>\n",
       "    <tr>\n",
       "      <th>0</th>\n",
       "      <td>the good times</td>\n",
       "      <td>/r/poland/comments/1b71beh/the_good_times/</td>\n",
       "      <td>VeryRegularName</td>\n",
       "      <td>181</td>\n",
       "      <td>2268</td>\n",
       "      <td></td>\n",
       "    </tr>\n",
       "    <tr>\n",
       "      <th>1</th>\n",
       "      <td>That's how voice-over (\"lektor\") in films in P...</td>\n",
       "      <td>/r/poland/comments/1b7gmv3/thats_how_voiceover...</td>\n",
       "      <td>Kamil1707</td>\n",
       "      <td>19</td>\n",
       "      <td>115</td>\n",
       "      <td></td>\n",
       "    </tr>\n",
       "    <tr>\n",
       "      <th>2</th>\n",
       "      <td>Od niepamiętnych czasów Rosja uwielbiała memy ...</td>\n",
       "      <td>/r/poland/comments/1b75gbq/od_niepamiętnych_cz...</td>\n",
       "      <td>Pika400</td>\n",
       "      <td>24</td>\n",
       "      <td>326</td>\n",
       "      <td>Nie słuchaj ich, bobrze, nie jesteś kurwa, jes...</td>\n",
       "    </tr>\n",
       "    <tr>\n",
       "      <th>3</th>\n",
       "      <td>Ethnographic map of Poland in 1919</td>\n",
       "      <td>/r/poland/comments/1b75mj2/ethnographic_map_of...</td>\n",
       "      <td>KotwPaski</td>\n",
       "      <td>16</td>\n",
       "      <td>80</td>\n",
       "      <td></td>\n",
       "    </tr>\n",
       "    <tr>\n",
       "      <th>4</th>\n",
       "      <td>NATO conducts major 'Steadfast Defender' exerc...</td>\n",
       "      <td>/r/poland/comments/1b7ewdi/nato_conducts_major...</td>\n",
       "      <td>EdmontonBest</td>\n",
       "      <td>1</td>\n",
       "      <td>1</td>\n",
       "      <td></td>\n",
       "    </tr>\n",
       "    <tr>\n",
       "      <th>...</th>\n",
       "      <td>...</td>\n",
       "      <td>...</td>\n",
       "      <td>...</td>\n",
       "      <td>...</td>\n",
       "      <td>...</td>\n",
       "      <td>...</td>\n",
       "    </tr>\n",
       "    <tr>\n",
       "      <th>204</th>\n",
       "      <td>Returning from work at Żabka</td>\n",
       "      <td>/r/poland/comments/1an2i2m/returning_from_work...</td>\n",
       "      <td>Negative-Fruit-6094</td>\n",
       "      <td>5</td>\n",
       "      <td>125</td>\n",
       "      <td>I, returning from work at 1 AM from work at Ża...</td>\n",
       "    </tr>\n",
       "    <tr>\n",
       "      <th>205</th>\n",
       "      <td>What did you think of the Tucker Carlson and P...</td>\n",
       "      <td>/r/poland/comments/1amkvhm/what_did_you_think_...</td>\n",
       "      <td>SnipedtheSniper</td>\n",
       "      <td>481</td>\n",
       "      <td>566</td>\n",
       "      <td></td>\n",
       "    </tr>\n",
       "    <tr>\n",
       "      <th>206</th>\n",
       "      <td>For Poles living in the US or UK, do you hang ...</td>\n",
       "      <td>/r/poland/comments/1amtdjk/for_poles_living_in...</td>\n",
       "      <td>Fine-Upstairs-6284</td>\n",
       "      <td>83</td>\n",
       "      <td>39</td>\n",
       "      <td>Curious to see what others say about this. I g...</td>\n",
       "    </tr>\n",
       "    <tr>\n",
       "      <th>207</th>\n",
       "      <td>Potwierdzenie profilu zaufany</td>\n",
       "      <td>/r/poland/comments/1an1qyi/potwierdzenie_profi...</td>\n",
       "      <td>Admirable-Union-9041</td>\n",
       "      <td>4</td>\n",
       "      <td>4</td>\n",
       "      <td>Is there a way to renew this profile online or...</td>\n",
       "    </tr>\n",
       "    <tr>\n",
       "      <th>208</th>\n",
       "      <td>Polish mint creates world’s first “flying coin”</td>\n",
       "      <td>/r/poland/comments/1amogpg/polish_mint_creates...</td>\n",
       "      <td>pmigdal</td>\n",
       "      <td>3</td>\n",
       "      <td>18</td>\n",
       "      <td></td>\n",
       "    </tr>\n",
       "  </tbody>\n",
       "</table>\n",
       "<p>209 rows × 6 columns</p>\n",
       "</div>"
      ],
      "text/plain": [
       "                                                 title  \\\n",
       "0                                       the good times   \n",
       "1    That's how voice-over (\"lektor\") in films in P...   \n",
       "2    Od niepamiętnych czasów Rosja uwielbiała memy ...   \n",
       "3                   Ethnographic map of Poland in 1919   \n",
       "4    NATO conducts major 'Steadfast Defender' exerc...   \n",
       "..                                                 ...   \n",
       "204                       Returning from work at Żabka   \n",
       "205  What did you think of the Tucker Carlson and P...   \n",
       "206  For Poles living in the US or UK, do you hang ...   \n",
       "207                      Potwierdzenie profilu zaufany   \n",
       "208    Polish mint creates world’s first “flying coin”   \n",
       "\n",
       "                                                  link                author  \\\n",
       "0           /r/poland/comments/1b71beh/the_good_times/       VeryRegularName   \n",
       "1    /r/poland/comments/1b7gmv3/thats_how_voiceover...             Kamil1707   \n",
       "2    /r/poland/comments/1b75gbq/od_niepamiętnych_cz...               Pika400   \n",
       "3    /r/poland/comments/1b75mj2/ethnographic_map_of...             KotwPaski   \n",
       "4    /r/poland/comments/1b7ewdi/nato_conducts_major...          EdmontonBest   \n",
       "..                                                 ...                   ...   \n",
       "204  /r/poland/comments/1an2i2m/returning_from_work...   Negative-Fruit-6094   \n",
       "205  /r/poland/comments/1amkvhm/what_did_you_think_...       SnipedtheSniper   \n",
       "206  /r/poland/comments/1amtdjk/for_poles_living_in...    Fine-Upstairs-6284   \n",
       "207  /r/poland/comments/1an1qyi/potwierdzenie_profi...  Admirable-Union-9041   \n",
       "208  /r/poland/comments/1amogpg/polish_mint_creates...               pmigdal   \n",
       "\n",
       "     n_comments  score                                               text  \n",
       "0           181   2268                                                     \n",
       "1            19    115                                                     \n",
       "2            24    326  Nie słuchaj ich, bobrze, nie jesteś kurwa, jes...  \n",
       "3            16     80                                                     \n",
       "4             1      1                                                     \n",
       "..          ...    ...                                                ...  \n",
       "204           5    125  I, returning from work at 1 AM from work at Ża...  \n",
       "205         481    566                                                     \n",
       "206          83     39  Curious to see what others say about this. I g...  \n",
       "207           4      4  Is there a way to renew this profile online or...  \n",
       "208           3     18                                                     \n",
       "\n",
       "[209 rows x 6 columns]"
      ]
     },
     "execution_count": 121,
     "metadata": {},
     "output_type": "execute_result"
    }
   ],
   "source": [
    "co_df"
   ]
  },
  {
   "cell_type": "markdown",
   "id": "8cf68baa",
   "metadata": {},
   "source": [
    "# Save data to sqlite"
   ]
  },
  {
   "cell_type": "markdown",
   "id": "f610f378",
   "metadata": {},
   "source": [
    "Now that we have some data collected, we can save it to a database. Sqlite3 is built-in with Python, and saves the data to a file on our hard drive. It's easy to use and set up, although it has limitations. We can save our data like so:"
   ]
  },
  {
   "cell_type": "code",
   "execution_count": 122,
   "id": "5540bbc2",
   "metadata": {},
   "outputs": [
    {
     "data": {
      "text/plain": [
       "209"
      ]
     },
     "execution_count": 122,
     "metadata": {},
     "output_type": "execute_result"
    }
   ],
   "source": [
    "import sqlite3\n",
    "\n",
    "con = sqlite3.connect(\"co_reddit.sqlite\")\n",
    "co_df.to_sql('posts', con, if_exists='replace', index=False)"
   ]
  },
  {
   "cell_type": "markdown",
   "id": "57434658",
   "metadata": {},
   "source": [
    "We can easily create our DB file by connecting to it (make sure the path exists if you provide a directory/folder like 'data' here). Then we use the to_sql command, giving it a table name, our connection, and a few other arguments. The if_exists can be replace, append, or fail, which do what they say (see the [docs](https://pandas.pydata.org/docs/reference/api/pandas.DataFrame.to_sql.html) for more).\n",
    "\n",
    "Once our data is saved, we can check that we can load it back:"
   ]
  },
  {
   "cell_type": "code",
   "execution_count": 123,
   "id": "4128bac5",
   "metadata": {},
   "outputs": [
    {
     "data": {
      "text/html": [
       "<div>\n",
       "<style scoped>\n",
       "    .dataframe tbody tr th:only-of-type {\n",
       "        vertical-align: middle;\n",
       "    }\n",
       "\n",
       "    .dataframe tbody tr th {\n",
       "        vertical-align: top;\n",
       "    }\n",
       "\n",
       "    .dataframe thead th {\n",
       "        text-align: right;\n",
       "    }\n",
       "</style>\n",
       "<table border=\"1\" class=\"dataframe\">\n",
       "  <thead>\n",
       "    <tr style=\"text-align: right;\">\n",
       "      <th></th>\n",
       "      <th>title</th>\n",
       "      <th>link</th>\n",
       "      <th>author</th>\n",
       "      <th>n_comments</th>\n",
       "      <th>score</th>\n",
       "      <th>text</th>\n",
       "    </tr>\n",
       "  </thead>\n",
       "  <tbody>\n",
       "    <tr>\n",
       "      <th>0</th>\n",
       "      <td>the good times</td>\n",
       "      <td>/r/poland/comments/1b71beh/the_good_times/</td>\n",
       "      <td>VeryRegularName</td>\n",
       "      <td>181</td>\n",
       "      <td>2268</td>\n",
       "      <td></td>\n",
       "    </tr>\n",
       "    <tr>\n",
       "      <th>1</th>\n",
       "      <td>That's how voice-over (\"lektor\") in films in P...</td>\n",
       "      <td>/r/poland/comments/1b7gmv3/thats_how_voiceover...</td>\n",
       "      <td>Kamil1707</td>\n",
       "      <td>19</td>\n",
       "      <td>115</td>\n",
       "      <td></td>\n",
       "    </tr>\n",
       "    <tr>\n",
       "      <th>2</th>\n",
       "      <td>Od niepamiętnych czasów Rosja uwielbiała memy ...</td>\n",
       "      <td>/r/poland/comments/1b75gbq/od_niepamiętnych_cz...</td>\n",
       "      <td>Pika400</td>\n",
       "      <td>24</td>\n",
       "      <td>326</td>\n",
       "      <td>Nie słuchaj ich, bobrze, nie jesteś kurwa, jes...</td>\n",
       "    </tr>\n",
       "    <tr>\n",
       "      <th>3</th>\n",
       "      <td>Ethnographic map of Poland in 1919</td>\n",
       "      <td>/r/poland/comments/1b75mj2/ethnographic_map_of...</td>\n",
       "      <td>KotwPaski</td>\n",
       "      <td>16</td>\n",
       "      <td>80</td>\n",
       "      <td></td>\n",
       "    </tr>\n",
       "    <tr>\n",
       "      <th>4</th>\n",
       "      <td>NATO conducts major 'Steadfast Defender' exerc...</td>\n",
       "      <td>/r/poland/comments/1b7ewdi/nato_conducts_major...</td>\n",
       "      <td>EdmontonBest</td>\n",
       "      <td>1</td>\n",
       "      <td>1</td>\n",
       "      <td></td>\n",
       "    </tr>\n",
       "    <tr>\n",
       "      <th>...</th>\n",
       "      <td>...</td>\n",
       "      <td>...</td>\n",
       "      <td>...</td>\n",
       "      <td>...</td>\n",
       "      <td>...</td>\n",
       "      <td>...</td>\n",
       "    </tr>\n",
       "    <tr>\n",
       "      <th>204</th>\n",
       "      <td>Returning from work at Żabka</td>\n",
       "      <td>/r/poland/comments/1an2i2m/returning_from_work...</td>\n",
       "      <td>Negative-Fruit-6094</td>\n",
       "      <td>5</td>\n",
       "      <td>125</td>\n",
       "      <td>I, returning from work at 1 AM from work at Ża...</td>\n",
       "    </tr>\n",
       "    <tr>\n",
       "      <th>205</th>\n",
       "      <td>What did you think of the Tucker Carlson and P...</td>\n",
       "      <td>/r/poland/comments/1amkvhm/what_did_you_think_...</td>\n",
       "      <td>SnipedtheSniper</td>\n",
       "      <td>481</td>\n",
       "      <td>566</td>\n",
       "      <td></td>\n",
       "    </tr>\n",
       "    <tr>\n",
       "      <th>206</th>\n",
       "      <td>For Poles living in the US or UK, do you hang ...</td>\n",
       "      <td>/r/poland/comments/1amtdjk/for_poles_living_in...</td>\n",
       "      <td>Fine-Upstairs-6284</td>\n",
       "      <td>83</td>\n",
       "      <td>39</td>\n",
       "      <td>Curious to see what others say about this. I g...</td>\n",
       "    </tr>\n",
       "    <tr>\n",
       "      <th>207</th>\n",
       "      <td>Potwierdzenie profilu zaufany</td>\n",
       "      <td>/r/poland/comments/1an1qyi/potwierdzenie_profi...</td>\n",
       "      <td>Admirable-Union-9041</td>\n",
       "      <td>4</td>\n",
       "      <td>4</td>\n",
       "      <td>Is there a way to renew this profile online or...</td>\n",
       "    </tr>\n",
       "    <tr>\n",
       "      <th>208</th>\n",
       "      <td>Polish mint creates world’s first “flying coin”</td>\n",
       "      <td>/r/poland/comments/1amogpg/polish_mint_creates...</td>\n",
       "      <td>pmigdal</td>\n",
       "      <td>3</td>\n",
       "      <td>18</td>\n",
       "      <td></td>\n",
       "    </tr>\n",
       "  </tbody>\n",
       "</table>\n",
       "<p>209 rows × 6 columns</p>\n",
       "</div>"
      ],
      "text/plain": [
       "                                                 title  \\\n",
       "0                                       the good times   \n",
       "1    That's how voice-over (\"lektor\") in films in P...   \n",
       "2    Od niepamiętnych czasów Rosja uwielbiała memy ...   \n",
       "3                   Ethnographic map of Poland in 1919   \n",
       "4    NATO conducts major 'Steadfast Defender' exerc...   \n",
       "..                                                 ...   \n",
       "204                       Returning from work at Żabka   \n",
       "205  What did you think of the Tucker Carlson and P...   \n",
       "206  For Poles living in the US or UK, do you hang ...   \n",
       "207                      Potwierdzenie profilu zaufany   \n",
       "208    Polish mint creates world’s first “flying coin”   \n",
       "\n",
       "                                                  link                author  \\\n",
       "0           /r/poland/comments/1b71beh/the_good_times/       VeryRegularName   \n",
       "1    /r/poland/comments/1b7gmv3/thats_how_voiceover...             Kamil1707   \n",
       "2    /r/poland/comments/1b75gbq/od_niepamiętnych_cz...               Pika400   \n",
       "3    /r/poland/comments/1b75mj2/ethnographic_map_of...             KotwPaski   \n",
       "4    /r/poland/comments/1b7ewdi/nato_conducts_major...          EdmontonBest   \n",
       "..                                                 ...                   ...   \n",
       "204  /r/poland/comments/1an2i2m/returning_from_work...   Negative-Fruit-6094   \n",
       "205  /r/poland/comments/1amkvhm/what_did_you_think_...       SnipedtheSniper   \n",
       "206  /r/poland/comments/1amtdjk/for_poles_living_in...    Fine-Upstairs-6284   \n",
       "207  /r/poland/comments/1an1qyi/potwierdzenie_profi...  Admirable-Union-9041   \n",
       "208  /r/poland/comments/1amogpg/polish_mint_creates...               pmigdal   \n",
       "\n",
       "     n_comments  score                                               text  \n",
       "0           181   2268                                                     \n",
       "1            19    115                                                     \n",
       "2            24    326  Nie słuchaj ich, bobrze, nie jesteś kurwa, jes...  \n",
       "3            16     80                                                     \n",
       "4             1      1                                                     \n",
       "..          ...    ...                                                ...  \n",
       "204           5    125  I, returning from work at 1 AM from work at Ża...  \n",
       "205         481    566                                                     \n",
       "206          83     39  Curious to see what others say about this. I g...  \n",
       "207           4      4  Is there a way to renew this profile online or...  \n",
       "208           3     18                                                     \n",
       "\n",
       "[209 rows x 6 columns]"
      ]
     },
     "execution_count": 123,
     "metadata": {},
     "output_type": "execute_result"
    }
   ],
   "source": [
    "co_df_check = pd.read_sql_query('SELECT * FROM posts;', con)\n",
    "# it's best to close the connection when finished\n",
    "con.close()\n",
    "co_df_check"
   ]
  },
  {
   "cell_type": "markdown",
   "id": "a7919aed",
   "metadata": {},
   "source": [
    "# Basic EDA on our data"
   ]
  },
  {
   "cell_type": "markdown",
   "id": "17e2b037",
   "metadata": {},
   "source": [
    "Our data we've collected has text (the title), authors (a categorical variable) and the score and number of comments (numeric). We can make a few plots with these:\n",
    "\n",
    "- word count plots\n",
    "- a bar plot of the unique authors\n",
    "- numeric EDA plots of the number of comments and score, such as histograms, box plots, etc\n",
    "\n",
    "Let's start with what we already know, which is everything but the word count plots."
   ]
  },
  {
   "cell_type": "code",
   "execution_count": 124,
   "id": "17474d4e",
   "metadata": {},
   "outputs": [
    {
     "data": {
      "text/plain": [
       "<Axes: ylabel='Frequency'>"
      ]
     },
     "execution_count": 124,
     "metadata": {},
     "output_type": "execute_result"
    },
    {
     "data": {
      "image/png": "[encoded data removed]",
      "text/plain": [
       "<Figure size 640x480 with 1 Axes>"
      ]
     },
     "metadata": {},
     "output_type": "display_data"
    }
   ],
   "source": [
    "co_df['score'].plot.hist(bins=30)"
   ]
  },
  {
   "cell_type": "markdown",
   "id": "242769b5",
   "metadata": {},
   "source": [
    "It looks like the distribution is highly asymmetric, with many posts having a score near 0 (probably because they are new) and a few posts with a very high score. We can look at the highest-scored posts:"
   ]
  },
  {
   "cell_type": "code",
   "execution_count": 125,
   "id": "6c9db081",
   "metadata": {},
   "outputs": [
    {
     "data": {
      "text/html": [
       "<div>\n",
       "<style scoped>\n",
       "    .dataframe tbody tr th:only-of-type {\n",
       "        vertical-align: middle;\n",
       "    }\n",
       "\n",
       "    .dataframe tbody tr th {\n",
       "        vertical-align: top;\n",
       "    }\n",
       "\n",
       "    .dataframe thead th {\n",
       "        text-align: right;\n",
       "    }\n",
       "</style>\n",
       "<table border=\"1\" class=\"dataframe\">\n",
       "  <thead>\n",
       "    <tr style=\"text-align: right;\">\n",
       "      <th></th>\n",
       "      <th>title</th>\n",
       "      <th>link</th>\n",
       "      <th>author</th>\n",
       "      <th>n_comments</th>\n",
       "      <th>score</th>\n",
       "      <th>text</th>\n",
       "    </tr>\n",
       "  </thead>\n",
       "  <tbody>\n",
       "    <tr>\n",
       "      <th>0</th>\n",
       "      <td>the good times</td>\n",
       "      <td>/r/poland/comments/1b71beh/the_good_times/</td>\n",
       "      <td>VeryRegularName</td>\n",
       "      <td>181</td>\n",
       "      <td>2268</td>\n",
       "      <td></td>\n",
       "    </tr>\n",
       "    <tr>\n",
       "      <th>43</th>\n",
       "      <td>Poland is so Poland</td>\n",
       "      <td>/r/poland/comments/1b0cw0b/poland_is_so_poland/</td>\n",
       "      <td>Rs_Snab</td>\n",
       "      <td>227</td>\n",
       "      <td>4044</td>\n",
       "      <td></td>\n",
       "    </tr>\n",
       "    <tr>\n",
       "      <th>76</th>\n",
       "      <td>Maria Skłodowska-Curie according to Google's G...</td>\n",
       "      <td>/r/poland/comments/1ax4w6t/maria_skłodowskacur...</td>\n",
       "      <td>TracePoland</td>\n",
       "      <td>274</td>\n",
       "      <td>2590</td>\n",
       "      <td></td>\n",
       "    </tr>\n",
       "    <tr>\n",
       "      <th>98</th>\n",
       "      <td>„apolitical” protest</td>\n",
       "      <td>/r/poland/comments/1avn5b7/apolitical_protest/</td>\n",
       "      <td>RizzmerBlackghore</td>\n",
       "      <td>765</td>\n",
       "      <td>3242</td>\n",
       "      <td>Basically calling for Putin to destroy Ukraine...</td>\n",
       "    </tr>\n",
       "    <tr>\n",
       "      <th>120</th>\n",
       "      <td>so is poland safe?</td>\n",
       "      <td>/r/poland/comments/1attfx3/so_is_poland_safe/</td>\n",
       "      <td>TailungFu</td>\n",
       "      <td>434</td>\n",
       "      <td>2258</td>\n",
       "      <td></td>\n",
       "    </tr>\n",
       "    <tr>\n",
       "      <th>158</th>\n",
       "      <td>Why is it herbata, by the way?</td>\n",
       "      <td>/r/poland/comments/1aqyo2r/why_is_it_herbata_b...</td>\n",
       "      <td>RodionGork</td>\n",
       "      <td>210</td>\n",
       "      <td>2403</td>\n",
       "      <td></td>\n",
       "    </tr>\n",
       "    <tr>\n",
       "      <th>178</th>\n",
       "      <td>Move over, Freemasons, Jews, Reptilians. We're...</td>\n",
       "      <td>/r/poland/comments/1ao6940/move_over_freemason...</td>\n",
       "      <td>PerunLives</td>\n",
       "      <td>144</td>\n",
       "      <td>2436</td>\n",
       "      <td></td>\n",
       "    </tr>\n",
       "    <tr>\n",
       "      <th>181</th>\n",
       "      <td>Supermarket in Poland</td>\n",
       "      <td>/r/poland/comments/1ao4w7q/supermarket_in_poland/</td>\n",
       "      <td>chungleong</td>\n",
       "      <td>138</td>\n",
       "      <td>2646</td>\n",
       "      <td></td>\n",
       "    </tr>\n",
       "    <tr>\n",
       "      <th>202</th>\n",
       "      <td>Putin: \"Poland provoked Hitler to start World ...</td>\n",
       "      <td>/r/poland/comments/1amlcmw/putin_poland_provok...</td>\n",
       "      <td>Glittering_Mammoth_6</td>\n",
       "      <td>517</td>\n",
       "      <td>2280</td>\n",
       "      <td>I'm not Polish, and perhaps I don't have the m...</td>\n",
       "    </tr>\n",
       "  </tbody>\n",
       "</table>\n",
       "</div>"
      ],
      "text/plain": [
       "                                                 title  \\\n",
       "0                                       the good times   \n",
       "43                                Poland is so Poland    \n",
       "76   Maria Skłodowska-Curie according to Google's G...   \n",
       "98                                „apolitical” protest   \n",
       "120                                 so is poland safe?   \n",
       "158                     Why is it herbata, by the way?   \n",
       "178  Move over, Freemasons, Jews, Reptilians. We're...   \n",
       "181                              Supermarket in Poland   \n",
       "202  Putin: \"Poland provoked Hitler to start World ...   \n",
       "\n",
       "                                                  link                author  \\\n",
       "0           /r/poland/comments/1b71beh/the_good_times/       VeryRegularName   \n",
       "43     /r/poland/comments/1b0cw0b/poland_is_so_poland/               Rs_Snab   \n",
       "76   /r/poland/comments/1ax4w6t/maria_skłodowskacur...           TracePoland   \n",
       "98      /r/poland/comments/1avn5b7/apolitical_protest/     RizzmerBlackghore   \n",
       "120      /r/poland/comments/1attfx3/so_is_poland_safe/             TailungFu   \n",
       "158  /r/poland/comments/1aqyo2r/why_is_it_herbata_b...            RodionGork   \n",
       "178  /r/poland/comments/1ao6940/move_over_freemason...            PerunLives   \n",
       "181  /r/poland/comments/1ao4w7q/supermarket_in_poland/            chungleong   \n",
       "202  /r/poland/comments/1amlcmw/putin_poland_provok...  Glittering_Mammoth_6   \n",
       "\n",
       "     n_comments  score                                               text  \n",
       "0           181   2268                                                     \n",
       "43          227   4044                                                     \n",
       "76          274   2590                                                     \n",
       "98          765   3242  Basically calling for Putin to destroy Ukraine...  \n",
       "120         434   2258                                                     \n",
       "158         210   2403                                                     \n",
       "178         144   2436                                                     \n",
       "181         138   2646                                                     \n",
       "202         517   2280  I'm not Polish, and perhaps I don't have the m...  "
      ]
     },
     "execution_count": 125,
     "metadata": {},
     "output_type": "execute_result"
    }
   ],
   "source": [
    "co_df[co_df['score'] > 2000]"
   ]
  },
  {
   "cell_type": "markdown",
   "id": "442f6ab0",
   "metadata": {},
   "source": [
    "By printing out the links like this, we can visit them by putting www.reddit.com in from of them."
   ]
  },
  {
   "cell_type": "code",
   "execution_count": 126,
   "id": "3601e465",
   "metadata": {},
   "outputs": [
    {
     "data": {
      "text/plain": [
       "['/r/poland/comments/1b71beh/the_good_times/',\n",
       " '/r/poland/comments/1b0cw0b/poland_is_so_poland/',\n",
       " '/r/poland/comments/1ax4w6t/maria_skłodowskacurie_according_to_googles_gemini/',\n",
       " '/r/poland/comments/1avn5b7/apolitical_protest/',\n",
       " '/r/poland/comments/1attfx3/so_is_poland_safe/',\n",
       " '/r/poland/comments/1aqyo2r/why_is_it_herbata_by_the_way/',\n",
       " '/r/poland/comments/1ao6940/move_over_freemasons_jews_reptilians_were_the/',\n",
       " '/r/poland/comments/1ao4w7q/supermarket_in_poland/',\n",
       " '/r/poland/comments/1amlcmw/putin_poland_provoked_hitler_to_start_world_war_ii/']"
      ]
     },
     "execution_count": 126,
     "metadata": {},
     "output_type": "execute_result"
    }
   ],
   "source": [
    "co_df[co_df['score'] > 2000]['link'].to_list()"
   ]
  },
  {
   "cell_type": "code",
   "execution_count": 127,
   "id": "87851b59",
   "metadata": {},
   "outputs": [
    {
     "data": {
      "text/plain": [
       "<Axes: >"
      ]
     },
     "execution_count": 127,
     "metadata": {},
     "output_type": "execute_result"
    },
    {
     "data": {
      "image/png": "[encoded data removed]",
      "text/plain": [
       "<Figure size 640x480 with 1 Axes>"
      ]
     },
     "metadata": {},
     "output_type": "display_data"
    }
   ],
   "source": [
    "co_df.boxplot('n_comments')"
   ]
  },
  {
   "cell_type": "code",
   "execution_count": 128,
   "id": "818a0f00",
   "metadata": {},
   "outputs": [
    {
     "data": {
      "image/png": "[encoded data removed]",
      "text/plain": [
       "<Figure size 640x480 with 1 Axes>"
      ]
     },
     "metadata": {},
     "output_type": "display_data"
    }
   ],
   "source": [
    "import matplotlib.pyplot as plt\n",
    "co_df.boxplot('n_comments')\n",
    "plt.yscale('log')"
   ]
  },
  {
   "cell_type": "markdown",
   "id": "2563f90d",
   "metadata": {},
   "source": [
    "Again, we see some large outliers for number of comments. A more modern version of the boxplot is the letter-value plot, called a boxenplot in Seaborn (https://seaborn.pydata.org/generated/seaborn.boxenplot.html)."
   ]
  },
  {
   "cell_type": "code",
   "execution_count": 129,
   "id": "ddd44acb",
   "metadata": {},
   "outputs": [
    {
     "data": {
      "text/plain": [
       "<Axes: xlabel='score', ylabel='n_comments'>"
      ]
     },
     "execution_count": 129,
     "metadata": {},
     "output_type": "execute_result"
    },
    {
     "data": {
      "image/png": "[encoded data removed]",
      "text/plain": [
       "<Figure size 640x480 with 1 Axes>"
      ]
     },
     "metadata": {},
     "output_type": "display_data"
    }
   ],
   "source": [
    "co_df.plot.scatter(x='score', y='n_comments')"
   ]
  },
  {
   "cell_type": "markdown",
   "id": "0892a146",
   "metadata": {},
   "source": [
    "We can see a roughly positive relationship between the score and number of comments, as we might expect.\n",
    "\n",
    "Next, let's look at the frequency counts of users who post things:"
   ]
  },
  {
   "cell_type": "code",
   "execution_count": 130,
   "id": "6b05262f",
   "metadata": {},
   "outputs": [
    {
     "data": {
      "text/plain": [
       "<Axes: xlabel='author'>"
      ]
     },
     "execution_count": 130,
     "metadata": {},
     "output_type": "execute_result"
    },
    {
     "data": {
      "image/png": "[encoded data removed]",
      "text/plain": [
       "<Figure size 640x480 with 1 Axes>"
      ]
     },
     "metadata": {},
     "output_type": "display_data"
    }
   ],
   "source": [
    "co_df['author'].value_counts()[:10].plot.bar()"
   ]
  },
  {
   "cell_type": "code",
   "execution_count": 141,
   "id": "a5aca9f1",
   "metadata": {},
   "outputs": [
    {
     "data": {
      "text/html": [
       "<div>\n",
       "<style scoped>\n",
       "    .dataframe tbody tr th:only-of-type {\n",
       "        vertical-align: middle;\n",
       "    }\n",
       "\n",
       "    .dataframe tbody tr th {\n",
       "        vertical-align: top;\n",
       "    }\n",
       "\n",
       "    .dataframe thead th {\n",
       "        text-align: right;\n",
       "    }\n",
       "</style>\n",
       "<table border=\"1\" class=\"dataframe\">\n",
       "  <thead>\n",
       "    <tr style=\"text-align: right;\">\n",
       "      <th></th>\n",
       "      <th>title</th>\n",
       "      <th>link</th>\n",
       "      <th>author</th>\n",
       "      <th>n_comments</th>\n",
       "      <th>score</th>\n",
       "      <th>text</th>\n",
       "    </tr>\n",
       "  </thead>\n",
       "  <tbody>\n",
       "    <tr>\n",
       "      <th>91</th>\n",
       "      <td>Pigskin nubuck boots - Polish Film Chronicle, ...</td>\n",
       "      <td>/r/poland/comments/1ax4yrl/pigskin_nubuck_boot...</td>\n",
       "      <td>MAANAM</td>\n",
       "      <td>1</td>\n",
       "      <td>9</td>\n",
       "      <td></td>\n",
       "    </tr>\n",
       "    <tr>\n",
       "      <th>101</th>\n",
       "      <td>Hippies from Great Britain are camping in Wars...</td>\n",
       "      <td>/r/poland/comments/1aw5pgu/hippies_from_great_...</td>\n",
       "      <td>MAANAM</td>\n",
       "      <td>1</td>\n",
       "      <td>51</td>\n",
       "      <td></td>\n",
       "    </tr>\n",
       "    <tr>\n",
       "      <th>108</th>\n",
       "      <td>Behind the scenes of the \"Wheel of Fortune\" - ...</td>\n",
       "      <td>/r/poland/comments/1avb0kl/behind_the_scenes_o...</td>\n",
       "      <td>MAANAM</td>\n",
       "      <td>2</td>\n",
       "      <td>33</td>\n",
       "      <td></td>\n",
       "    </tr>\n",
       "    <tr>\n",
       "      <th>119</th>\n",
       "      <td>The \"Ewa\" nuclear reactor and the quackery con...</td>\n",
       "      <td>/r/poland/comments/1auhctk/the_ewa_nuclear_rea...</td>\n",
       "      <td>MAANAM</td>\n",
       "      <td>4</td>\n",
       "      <td>102</td>\n",
       "      <td></td>\n",
       "    </tr>\n",
       "    <tr>\n",
       "      <th>137</th>\n",
       "      <td>VHS tapes are conquering Poland - Polish Film ...</td>\n",
       "      <td>/r/poland/comments/1atosor/vhs_tapes_are_conqu...</td>\n",
       "      <td>MAANAM</td>\n",
       "      <td>10</td>\n",
       "      <td>84</td>\n",
       "      <td></td>\n",
       "    </tr>\n",
       "    <tr>\n",
       "      <th>147</th>\n",
       "      <td>How to train bio-energy therapists and what qu...</td>\n",
       "      <td>/r/poland/comments/1asvkxf/how_to_train_bioene...</td>\n",
       "      <td>MAANAM</td>\n",
       "      <td>2</td>\n",
       "      <td>18</td>\n",
       "      <td></td>\n",
       "    </tr>\n",
       "    <tr>\n",
       "      <th>152</th>\n",
       "      <td>Experts claim that rock music is dying. Republ...</td>\n",
       "      <td>/r/poland/comments/1as4fqr/experts_claim_that_...</td>\n",
       "      <td>MAANAM</td>\n",
       "      <td>6</td>\n",
       "      <td>48</td>\n",
       "      <td></td>\n",
       "    </tr>\n",
       "    <tr>\n",
       "      <th>161</th>\n",
       "      <td>Polish food exported to the USA, 1959 - Polish...</td>\n",
       "      <td>/r/poland/comments/1ar7wuz/polish_food_exporte...</td>\n",
       "      <td>MAANAM</td>\n",
       "      <td>3</td>\n",
       "      <td>69</td>\n",
       "      <td></td>\n",
       "    </tr>\n",
       "    <tr>\n",
       "      <th>169</th>\n",
       "      <td>Recycling - Polish Film Chronicle, 1979</td>\n",
       "      <td>/r/poland/comments/1apoudr/recycling_polish_fi...</td>\n",
       "      <td>MAANAM</td>\n",
       "      <td>2</td>\n",
       "      <td>48</td>\n",
       "      <td></td>\n",
       "    </tr>\n",
       "    <tr>\n",
       "      <th>191</th>\n",
       "      <td>Exhibition of the female nude and portrait \"Ve...</td>\n",
       "      <td>/r/poland/comments/1ao8bn7/exhibition_of_the_f...</td>\n",
       "      <td>MAANAM</td>\n",
       "      <td>6</td>\n",
       "      <td>27</td>\n",
       "      <td></td>\n",
       "    </tr>\n",
       "    <tr>\n",
       "      <th>203</th>\n",
       "      <td>Exhibition of the female nude and portrait \"Ve...</td>\n",
       "      <td>/r/poland/comments/1aninr8/exhibition_of_the_f...</td>\n",
       "      <td>MAANAM</td>\n",
       "      <td>1</td>\n",
       "      <td>10</td>\n",
       "      <td></td>\n",
       "    </tr>\n",
       "  </tbody>\n",
       "</table>\n",
       "</div>"
      ],
      "text/plain": [
       "                                                 title  \\\n",
       "91   Pigskin nubuck boots - Polish Film Chronicle, ...   \n",
       "101  Hippies from Great Britain are camping in Wars...   \n",
       "108  Behind the scenes of the \"Wheel of Fortune\" - ...   \n",
       "119  The \"Ewa\" nuclear reactor and the quackery con...   \n",
       "137  VHS tapes are conquering Poland - Polish Film ...   \n",
       "147  How to train bio-energy therapists and what qu...   \n",
       "152  Experts claim that rock music is dying. Republ...   \n",
       "161  Polish food exported to the USA, 1959 - Polish...   \n",
       "169            Recycling - Polish Film Chronicle, 1979   \n",
       "191  Exhibition of the female nude and portrait \"Ve...   \n",
       "203  Exhibition of the female nude and portrait \"Ve...   \n",
       "\n",
       "                                                  link  author  n_comments  \\\n",
       "91   /r/poland/comments/1ax4yrl/pigskin_nubuck_boot...  MAANAM           1   \n",
       "101  /r/poland/comments/1aw5pgu/hippies_from_great_...  MAANAM           1   \n",
       "108  /r/poland/comments/1avb0kl/behind_the_scenes_o...  MAANAM           2   \n",
       "119  /r/poland/comments/1auhctk/the_ewa_nuclear_rea...  MAANAM           4   \n",
       "137  /r/poland/comments/1atosor/vhs_tapes_are_conqu...  MAANAM          10   \n",
       "147  /r/poland/comments/1asvkxf/how_to_train_bioene...  MAANAM           2   \n",
       "152  /r/poland/comments/1as4fqr/experts_claim_that_...  MAANAM           6   \n",
       "161  /r/poland/comments/1ar7wuz/polish_food_exporte...  MAANAM           3   \n",
       "169  /r/poland/comments/1apoudr/recycling_polish_fi...  MAANAM           2   \n",
       "191  /r/poland/comments/1ao8bn7/exhibition_of_the_f...  MAANAM           6   \n",
       "203  /r/poland/comments/1aninr8/exhibition_of_the_f...  MAANAM           1   \n",
       "\n",
       "     score text  \n",
       "91       9       \n",
       "101     51       \n",
       "108     33       \n",
       "119    102       \n",
       "137     84       \n",
       "147     18       \n",
       "152     48       \n",
       "161     69       \n",
       "169     48       \n",
       "191     27       \n",
       "203     10       "
      ]
     },
     "execution_count": 141,
     "metadata": {},
     "output_type": "execute_result"
    }
   ],
   "source": [
    "co_df[co_df['author'] == 'MAANAM']"
   ]
  },
  {
   "cell_type": "markdown",
   "id": "e32ba065",
   "metadata": {},
   "source": [
    "We can then see what these top authors are posting with filtering:"
   ]
  },
  {
   "cell_type": "code",
   "execution_count": 142,
   "id": "51e2ee5b",
   "metadata": {},
   "outputs": [
    {
     "data": {
      "text/html": [
       "<div>\n",
       "<style scoped>\n",
       "    .dataframe tbody tr th:only-of-type {\n",
       "        vertical-align: middle;\n",
       "    }\n",
       "\n",
       "    .dataframe tbody tr th {\n",
       "        vertical-align: top;\n",
       "    }\n",
       "\n",
       "    .dataframe thead th {\n",
       "        text-align: right;\n",
       "    }\n",
       "</style>\n",
       "<table border=\"1\" class=\"dataframe\">\n",
       "  <thead>\n",
       "    <tr style=\"text-align: right;\">\n",
       "      <th></th>\n",
       "      <th>title</th>\n",
       "      <th>link</th>\n",
       "      <th>author</th>\n",
       "      <th>n_comments</th>\n",
       "      <th>score</th>\n",
       "      <th>text</th>\n",
       "    </tr>\n",
       "  </thead>\n",
       "  <tbody>\n",
       "    <tr>\n",
       "      <th>43</th>\n",
       "      <td>Poland is so Poland</td>\n",
       "      <td>/r/poland/comments/1b0cw0b/poland_is_so_poland/</td>\n",
       "      <td>Rs_Snab</td>\n",
       "      <td>227</td>\n",
       "      <td>4044</td>\n",
       "      <td></td>\n",
       "    </tr>\n",
       "  </tbody>\n",
       "</table>\n",
       "</div>"
      ],
      "text/plain": [
       "                   title                                             link  \\\n",
       "43  Poland is so Poland   /r/poland/comments/1b0cw0b/poland_is_so_poland/   \n",
       "\n",
       "     author  n_comments  score text  \n",
       "43  Rs_Snab         227   4044       "
      ]
     },
     "execution_count": 142,
     "metadata": {},
     "output_type": "execute_result"
    }
   ],
   "source": [
    "co_df[co_df['author'] == 'Rs_Snab']"
   ]
  },
  {
   "cell_type": "markdown",
   "id": "ff2f6d64",
   "metadata": {},
   "source": [
    "Here, we use a few sting methods - join and split. `join()` joins together a list of strings with a character. In this case, we are joining together all the titles with a single space. `split()` splits text on a character we provide as an argument. By default, it splits on any whitespaces (spaces, newlines, tabs, etc)."
   ]
  },
  {
   "cell_type": "code",
   "execution_count": 143,
   "id": "2c4bb6d3",
   "metadata": {},
   "outputs": [
    {
     "data": {
      "text/plain": [
       "[('the', 48),\n",
       " ('in', 48),\n",
       " ('of', 44),\n",
       " ('to', 43),\n",
       " ('a', 37),\n",
       " ('and', 29),\n",
       " ('Polish', 28),\n",
       " ('Poland', 27),\n",
       " ('for', 24),\n",
       " ('-', 22),\n",
       " ('I', 19),\n",
       " ('from', 19),\n",
       " ('on', 18),\n",
       " ('is', 15),\n",
       " ('you', 13),\n",
       " ('with', 12),\n",
       " ('about', 11),\n",
       " ('my', 10),\n",
       " ('it', 10),\n",
       " ('so', 8)]"
      ]
     },
     "execution_count": 143,
     "metadata": {},
     "output_type": "execute_result"
    }
   ],
   "source": [
    "import nltk\n",
    "\n",
    "fd = nltk.FreqDist(' '.join(co_df['title']).split())\n",
    "\n",
    "fd.most_common(20)"
   ]
  },
  {
   "cell_type": "code",
   "execution_count": 144,
   "id": "67531439",
   "metadata": {},
   "outputs": [
    {
     "data": {
      "image/png": "[encoded data removed]",
      "text/plain": [
       "<Figure size 640x480 with 1 Axes>"
      ]
     },
     "metadata": {},
     "output_type": "display_data"
    },
    {
     "data": {
      "text/plain": [
       "<Axes: xlabel='Samples', ylabel='Counts'>"
      ]
     },
     "execution_count": 144,
     "metadata": {},
     "output_type": "execute_result"
    }
   ],
   "source": [
    "fd.plot(20)"
   ]
  },
  {
   "cell_type": "markdown",
   "id": "417e10d7",
   "metadata": {},
   "source": [
    "We can see many of the top words are common words like 'the' and 'in' that don't tell us much. We can get rid of these, but also have some more preprocessing to do. A few things we can do to make our text analysis slightly better is to lowercase all words  and remove stopwords. Stopwords are common words that don't give us much meaning. NLTK, SpaCy, and scikit-learn all have lists of stopwords. We can use NLTK's list, but need to download them first:"
   ]
  },
  {
   "cell_type": "code",
   "execution_count": 145,
   "id": "e5e64d24",
   "metadata": {},
   "outputs": [
    {
     "name": "stderr",
     "output_type": "stream",
     "text": [
      "[nltk_data] Downloading package stopwords to\n",
      "[nltk_data]     C:\\Users\\balar\\AppData\\Roaming\\nltk_data...\n",
      "[nltk_data]   Package stopwords is already up-to-date!\n"
     ]
    },
    {
     "data": {
      "text/plain": [
       "True"
      ]
     },
     "execution_count": 145,
     "metadata": {},
     "output_type": "execute_result"
    }
   ],
   "source": [
    "nltk.download('stopwords')"
   ]
  },
  {
   "cell_type": "markdown",
   "id": "15bdb8d8",
   "metadata": {},
   "source": [
    "Then we can import them and look at the stopwords:"
   ]
  },
  {
   "cell_type": "code",
   "execution_count": 146,
   "id": "7da71e9e",
   "metadata": {},
   "outputs": [
    {
     "data": {
      "text/plain": [
       "['i',\n",
       " 'me',\n",
       " 'my',\n",
       " 'myself',\n",
       " 'we',\n",
       " 'our',\n",
       " 'ours',\n",
       " 'ourselves',\n",
       " 'you',\n",
       " \"you're\",\n",
       " \"you've\",\n",
       " \"you'll\",\n",
       " \"you'd\",\n",
       " 'your',\n",
       " 'yours',\n",
       " 'yourself',\n",
       " 'yourselves',\n",
       " 'he',\n",
       " 'him',\n",
       " 'his',\n",
       " 'himself',\n",
       " 'she',\n",
       " \"she's\",\n",
       " 'her',\n",
       " 'hers',\n",
       " 'herself',\n",
       " 'it',\n",
       " \"it's\",\n",
       " 'its',\n",
       " 'itself',\n",
       " 'they',\n",
       " 'them',\n",
       " 'their',\n",
       " 'theirs',\n",
       " 'themselves',\n",
       " 'what',\n",
       " 'which',\n",
       " 'who',\n",
       " 'whom',\n",
       " 'this',\n",
       " 'that',\n",
       " \"that'll\",\n",
       " 'these',\n",
       " 'those',\n",
       " 'am',\n",
       " 'is',\n",
       " 'are',\n",
       " 'was',\n",
       " 'were',\n",
       " 'be',\n",
       " 'been',\n",
       " 'being',\n",
       " 'have',\n",
       " 'has',\n",
       " 'had',\n",
       " 'having',\n",
       " 'do',\n",
       " 'does',\n",
       " 'did',\n",
       " 'doing',\n",
       " 'a',\n",
       " 'an',\n",
       " 'the',\n",
       " 'and',\n",
       " 'but',\n",
       " 'if',\n",
       " 'or',\n",
       " 'because',\n",
       " 'as',\n",
       " 'until',\n",
       " 'while',\n",
       " 'of',\n",
       " 'at',\n",
       " 'by',\n",
       " 'for',\n",
       " 'with',\n",
       " 'about',\n",
       " 'against',\n",
       " 'between',\n",
       " 'into',\n",
       " 'through',\n",
       " 'during',\n",
       " 'before',\n",
       " 'after',\n",
       " 'above',\n",
       " 'below',\n",
       " 'to',\n",
       " 'from',\n",
       " 'up',\n",
       " 'down',\n",
       " 'in',\n",
       " 'out',\n",
       " 'on',\n",
       " 'off',\n",
       " 'over',\n",
       " 'under',\n",
       " 'again',\n",
       " 'further',\n",
       " 'then',\n",
       " 'once',\n",
       " 'here',\n",
       " 'there',\n",
       " 'when',\n",
       " 'where',\n",
       " 'why',\n",
       " 'how',\n",
       " 'all',\n",
       " 'any',\n",
       " 'both',\n",
       " 'each',\n",
       " 'few',\n",
       " 'more',\n",
       " 'most',\n",
       " 'other',\n",
       " 'some',\n",
       " 'such',\n",
       " 'no',\n",
       " 'nor',\n",
       " 'not',\n",
       " 'only',\n",
       " 'own',\n",
       " 'same',\n",
       " 'so',\n",
       " 'than',\n",
       " 'too',\n",
       " 'very',\n",
       " 's',\n",
       " 't',\n",
       " 'can',\n",
       " 'will',\n",
       " 'just',\n",
       " 'don',\n",
       " \"don't\",\n",
       " 'should',\n",
       " \"should've\",\n",
       " 'now',\n",
       " 'd',\n",
       " 'll',\n",
       " 'm',\n",
       " 'o',\n",
       " 're',\n",
       " 've',\n",
       " 'y',\n",
       " 'ain',\n",
       " 'aren',\n",
       " \"aren't\",\n",
       " 'couldn',\n",
       " \"couldn't\",\n",
       " 'didn',\n",
       " \"didn't\",\n",
       " 'doesn',\n",
       " \"doesn't\",\n",
       " 'hadn',\n",
       " \"hadn't\",\n",
       " 'hasn',\n",
       " \"hasn't\",\n",
       " 'haven',\n",
       " \"haven't\",\n",
       " 'isn',\n",
       " \"isn't\",\n",
       " 'ma',\n",
       " 'mightn',\n",
       " \"mightn't\",\n",
       " 'mustn',\n",
       " \"mustn't\",\n",
       " 'needn',\n",
       " \"needn't\",\n",
       " 'shan',\n",
       " \"shan't\",\n",
       " 'shouldn',\n",
       " \"shouldn't\",\n",
       " 'wasn',\n",
       " \"wasn't\",\n",
       " 'weren',\n",
       " \"weren't\",\n",
       " 'won',\n",
       " \"won't\",\n",
       " 'wouldn',\n",
       " \"wouldn't\"]"
      ]
     },
     "execution_count": 146,
     "metadata": {},
     "output_type": "execute_result"
    }
   ],
   "source": [
    "from nltk.corpus import stopwords\n",
    "\n",
    "stops = stopwords.words('english')\n",
    "stops"
   ]
  },
  {
   "cell_type": "markdown",
   "id": "390634b4",
   "metadata": {},
   "source": [
    "Notice that they are lowercase and include punctuation. We can remove our stopwords from the text like so. We are lowercasing the full string of titles with the `lower()` built-in string method."
   ]
  },
  {
   "cell_type": "code",
   "execution_count": 147,
   "id": "c7d44276",
   "metadata": {},
   "outputs": [],
   "source": [
    "words = ' '.join(co_df['title']).lower().split()\n",
    "cleaned_words = [w for w in words if w not in set(stops)]"
   ]
  },
  {
   "cell_type": "code",
   "execution_count": 148,
   "id": "274065ef",
   "metadata": {},
   "outputs": [
    {
     "data": {
      "text/plain": [
       "[('polish', 30),\n",
       " ('poland', 29),\n",
       " ('-', 22),\n",
       " ('help', 9),\n",
       " ('question', 9),\n",
       " ('need', 8),\n",
       " ('film', 7),\n",
       " ('poland?', 6),\n",
       " ('would', 6),\n",
       " ('chronicle,', 6),\n",
       " ('new', 5),\n",
       " ('border', 5),\n",
       " ('good', 4),\n",
       " ('buy', 4),\n",
       " ('old', 4),\n",
       " ('warsaw', 4),\n",
       " ('bank', 4),\n",
       " ('ukraine', 4),\n",
       " ('citizenship', 4),\n",
       " ('get', 4)]"
      ]
     },
     "execution_count": 148,
     "metadata": {},
     "output_type": "execute_result"
    }
   ],
   "source": [
    "cleaned_fd = nltk.FreqDist(cleaned_words)\n",
    "cleaned_fd.most_common(20)"
   ]
  },
  {
   "cell_type": "code",
   "execution_count": 149,
   "id": "01fb5e0e",
   "metadata": {},
   "outputs": [
    {
     "data": {
      "image/png": "[encoded data removed]",
      "text/plain": [
       "<Figure size 640x480 with 1 Axes>"
      ]
     },
     "metadata": {},
     "output_type": "display_data"
    },
    {
     "data": {
      "text/plain": [
       "<Axes: xlabel='Samples', ylabel='Counts'>"
      ]
     },
     "execution_count": 149,
     "metadata": {},
     "output_type": "execute_result"
    }
   ],
   "source": [
    "cleaned_fd.plot(20)"
   ]
  },
  {
   "cell_type": "markdown",
   "id": "6451c61a",
   "metadata": {},
   "source": [
    "Summary : \n",
    "\n",
    "In this project, we undertook a comprehensive analysis focusing on the subreddit community related to Poland. Beginning with the creation of a Reddit account and the acquisition of API keys, we gained access to Reddit's data. Utilizing these credentials, we collected posts and optionally comments from the subreddit, thus compiling a dataset that reflects the discussions and content within the Polish community.\n",
    "\n",
    "The collected data was then efficiently stored in a SQLite3 database, enabling seamless management and retrieval for subsequent analysis. Employing basic Exploratory Data Analysis (EDA) techniques, we generated at least two plots to gain insights into the subreddit's dynamics.\n",
    "\n",
    "Our analysis primarily centered around the keyword \"Poland,\" Overall this project provided valuable insights into the behaviors and interests of the Poland subreddit community"
   ]
  },
  {
   "cell_type": "code",
   "execution_count": null,
   "id": "a8b15bb6",
   "metadata": {},
   "outputs": [],
   "source": []
  },
  {
   "cell_type": "code",
   "execution_count": null,
   "id": "11549a3b",
   "metadata": {},
   "outputs": [],
   "source": []
  }
 ],
 "metadata": {
  "kernelspec": {
   "display_name": "Python 3 (ipykernel)",
   "language": "python",
   "name": "python3"
  },
  "language_info": {
   "codemirror_mode": {
    "name": "ipython",
    "version": 3
   },
   "file_extension": ".py",
   "mimetype": "text/x-python",
   "name": "python",
   "nbconvert_exporter": "python",
   "pygments_lexer": "ipython3",
   "version": "3.11.5"
  }
 },
 "nbformat": 4,
 "nbformat_minor": 5
}

{
 "cells": [
  {
   "cell_type": "markdown",
   "metadata": {},
   "source": [
    "### TD(0) Prediction Algorithm\n",
    "\n",
    "This notebook implements the Tabular TD(0) algorithm for estimating the state-value function V, as described in Sutton and Barto's \"Reinforcement Learning: An Introduction\" (2nd Edition, p. 120).\n",
    "\n",
    "![TD(0) Algorithm Pseudocode](./Figures/TD0Prediction.png)"
   ]
  },
  {
   "cell_type": "code",
   "execution_count": 1,
   "metadata": {},
   "outputs": [],
   "source": [
    "from rlgridworld.standard_grid import create_standard_grid\n",
    "import numpy as np\n",
    "# Necessary import for the new plot\n",
    "import matplotlib.pyplot as plt"
   ]
  },
  {
   "cell_type": "markdown",
   "metadata": {},
   "source": [
    "### Game Simulation Function\n",
    "\n",
    "This function simulates a single episode of the GridWorld game based on a given policy and exploration rate (epsilon). It returns the sequence of states visited and the rewards received."
   ]
  },
  {
   "cell_type": "code",
   "execution_count": 2,
   "metadata": {},
   "outputs": [],
   "source": [
    "def play_game(gw, policy, epsilon ):\n",
    "\n",
    "    # game starting state\n",
    "    state = (0,0) \n",
    "    # list of tuples that are (state, reward) pairs\n",
    "    # states_and_rewards = [(state,0)] # list of tuples that are (state, reward) pairs\n",
    "    states_and_rewards = []\n",
    "    converged = False\n",
    "    while not converged:\n",
    "        # get action from policy\n",
    "        action = policy[state] # get action from policy\n",
    "        # get all valid actions at state\n",
    "        all_actions = gw.valid_decisions(state) \n",
    "        # choose a random action with probability epsilon\n",
    "        action = random_action(action, all_actions, epsilon) \n",
    "        # find reward for the action\n",
    "        reward = gw.get_reward_for_action(state, action)\n",
    "        # new state\n",
    "        stateprime = move(state,action)\n",
    "        # add new state and reward to the list\n",
    "        states_and_rewards.append((stateprime,reward))\n",
    "        # if you have moved to a terminal state, then stop\n",
    "        if gw.is_terminal(stateprime):\n",
    "            converged = True\n",
    "        # update state to new state\n",
    "        state = stateprime\n",
    "    return states_and_rewards\n",
    "\n",
    "\n",
    "def move(state, action): # only valid actions at states are sent to move\n",
    "    i,j = state\n",
    "    if action == 'left':\n",
    "        j = j-1\n",
    "    if action == 'right':\n",
    "        j = j+1\n",
    "    if action == 'down':\n",
    "        i = i-1\n",
    "    if action == 'up':\n",
    "        i = i+1\n",
    "    return (i,j)\n",
    "\n",
    "\n",
    "def random_action(action, all_actions, epsilon ):\n",
    "    p = np.random.random_sample()\n",
    "    if p < (1 - epsilon):\n",
    "        return action\n",
    "    else:\n",
    "        return np.random.choice(all_actions)"
   ]
  },
  {
   "cell_type": "markdown",
   "metadata": {},
   "source": [
    "### GridWorld Setup and Parameters\n",
    "\n",
    "Initialize the standard GridWorld environment. Define the fixed policy to be evaluated, and set the hyperparameters for the TD(0) algorithm: discount factor (gamma), learning rate (alpha), exploration probability (epsilon), and the total number of episodes for training."
   ]
  },
  {
   "cell_type": "code",
   "execution_count": 3,
   "metadata": {},
   "outputs": [],
   "source": [
    "gw = create_standard_grid()\n",
    "policy = { \n",
    "        (0,0):'up', (0,1):'right', (0,2):'right', (0,3):'up', \n",
    "        (1,0):'up', (1,1):'', (1,2):'right', (1,3):'', \n",
    "        (2,0):'right', (2,1):'right', (2,2):'right', (2,3):'' \n",
    "        }\n",
    "gamma = 0.9 # discount factor for future rewards\n",
    "alpha = 0.1 # fraction for value update\n",
    "epsilon = 0.1 # explore/exploit probability of exploration\n",
    "number_play_game = 1000 # number of game play iterations"
   ]
  },
  {
   "cell_type": "markdown",
   "metadata": {},
   "source": [
    "### Initial Policy Visualization\n",
    "\n",
    "Display the policy being evaluated."
   ]
  },
  {
   "cell_type": "code",
   "execution_count": 4,
   "metadata": {},
   "outputs": [
    {
     "name": "stdout",
     "output_type": "stream",
     "text": [
      "-------------------------------------\n",
      "|  Right |  Right |  Right |        |\n",
      "-------------------------------------\n",
      "|     Up |        |  Right |        |\n",
      "-------------------------------------\n",
      "|     Up |  Right |  Right |     Up |\n",
      "-------------------------------------\n"
     ]
    }
   ],
   "source": [
    "gw.print_policy(policy)"
   ]
  },
  {
   "cell_type": "markdown",
   "metadata": {},
   "source": [
    "### First Episode Simulation\n",
    "\n",
    "Run one episode using the defined policy and exploration rate."
   ]
  },
  {
   "cell_type": "code",
   "execution_count": 5,
   "metadata": {},
   "outputs": [],
   "source": [
    "states_and_rewards = play_game(gw, policy, epsilon)"
   ]
  },
  {
   "cell_type": "markdown",
   "metadata": {},
   "source": [
    "### Examining the Trajectory\n",
    "\n",
    "Show the sequence of (state, reward) pairs from the first episode."
   ]
  },
  {
   "cell_type": "code",
   "execution_count": 6,
   "metadata": {},
   "outputs": [
    {
     "data": {
      "text/plain": [
       "[((1, 0), 0.0), ((2, 0), 0.0), ((2, 1), 0.0), ((2, 2), 0.0), ((2, 3), 1.0)]"
      ]
     },
     "execution_count": 6,
     "metadata": {},
     "output_type": "execute_result"
    }
   ],
   "source": [
    "states_and_rewards # see the state path and rewards"
   ]
  },
  {
   "cell_type": "markdown",
   "metadata": {},
   "source": [
    "### First TD(0) Update\n",
    "\n",
    "Apply the TD(0) update rule to the value function based on the experience gathered in the first episode."
   ]
  },
  {
   "cell_type": "code",
   "execution_count": 7,
   "metadata": {},
   "outputs": [],
   "source": [
    "for t in range(len(states_and_rewards) - 1 ):\n",
    "    state, _ = states_and_rewards[t]\n",
    "    stateprime, reward = states_and_rewards[t+1]\n",
    "    current_value = gw.get_value(state)\n",
    "    dest_value = gw.get_value(stateprime)\n",
    "    new_value = current_value + alpha*(reward + gamma*dest_value - current_value)\n",
    "    gw.set_value(state, new_value)"
   ]
  },
  {
   "cell_type": "markdown",
   "metadata": {},
   "source": [
    "### Value Function After First Update\n",
    "\n",
    "Display the updated value function. Observe the change in value for states visited during the first episode (e.g., state (2,2) if visited). The magnitude of the update depends on the learning rate alpha."
   ]
  },
  {
   "cell_type": "code",
   "execution_count": 8,
   "metadata": {},
   "outputs": [
    {
     "name": "stdout",
     "output_type": "stream",
     "text": [
      "-------------------------------------\n",
      "|   0.00 |   0.00 |   0.10 |   0.00 |\n",
      "-------------------------------------\n",
      "|   0.00 |   0.00 |   0.00 |   0.00 |\n",
      "-------------------------------------\n",
      "|   0.00 |   0.00 |   0.00 |   0.00 |\n",
      "-------------------------------------\n"
     ]
    }
   ],
   "source": [
    "gw.print_values()"
   ]
  },
  {
   "cell_type": "markdown",
   "metadata": {},
   "source": [
    "### Second Episode Simulation\n",
    "\n",
    "Run a second episode."
   ]
  },
  {
   "cell_type": "code",
   "execution_count": 9,
   "metadata": {},
   "outputs": [],
   "source": [
    "states_and_rewards = play_game(gw, policy, epsilon)"
   ]
  },
  {
   "cell_type": "code",
   "execution_count": 10,
   "metadata": {},
   "outputs": [
    {
     "data": {
      "text/plain": [
       "[((1, 0), 0.0), ((2, 0), 0.0), ((2, 1), 0.0), ((2, 2), 0.0), ((2, 3), 1.0)]"
      ]
     },
     "execution_count": 10,
     "metadata": {},
     "output_type": "execute_result"
    }
   ],
   "source": [
    "states_and_rewards"
   ]
  },
  {
   "cell_type": "markdown",
   "metadata": {},
   "source": [
    "### Second TD(0) Update\n",
    "\n",
    "Update the value function again based on the experience from the second episode."
   ]
  },
  {
   "cell_type": "code",
   "execution_count": 11,
   "metadata": {},
   "outputs": [],
   "source": [
    "for t in range(len(states_and_rewards) - 1 ):\n",
    "    state, _ = states_and_rewards[t]\n",
    "    stateprime, reward = states_and_rewards[t+1]\n",
    "    current_value = gw.get_value(state)\n",
    "    dest_value = gw.get_value(stateprime)\n",
    "    new_value = current_value + alpha*(reward + gamma*dest_value - current_value)\n",
    "    gw.set_value(state, new_value)"
   ]
  },
  {
   "cell_type": "markdown",
   "metadata": {},
   "source": [
    "### Value Function After Second Update\n",
    "\n",
    "Show the value function after two episodes."
   ]
  },
  {
   "cell_type": "code",
   "execution_count": 12,
   "metadata": {},
   "outputs": [
    {
     "name": "stdout",
     "output_type": "stream",
     "text": [
      "-------------------------------------\n",
      "|   0.00 |   0.01 |   0.19 |   0.00 |\n",
      "-------------------------------------\n",
      "|   0.00 |   0.00 |   0.00 |   0.00 |\n",
      "-------------------------------------\n",
      "|   0.00 |   0.00 |   0.00 |   0.00 |\n",
      "-------------------------------------\n"
     ]
    }
   ],
   "source": [
    "gw.print_values()"
   ]
  },
  {
   "cell_type": "markdown",
   "metadata": {},
   "source": [
    "### TD(0) Training Loop\n",
    "\n",
    "Run the TD(0) algorithm for a specified number of episodes to estimate the value function. We also track the value of state (0,0) during training."
   ]
  },
  {
   "cell_type": "code",
   "execution_count": 13,
   "metadata": {},
   "outputs": [],
   "source": [
    "value_0_0_history = [] # Store value of state (0,0) over episodes\n",
    "for i in range(number_play_game):\n",
    "    states_and_rewards = play_game(gw, policy, epsilon)\n",
    "    for t in range(len(states_and_rewards) - 1 ):\n",
    "        state, _ = states_and_rewards[t]\n",
    "        stateprime, reward = states_and_rewards[t+1]\n",
    "        current_value = gw.get_value(state)\n",
    "        dest_value = gw.get_value(stateprime)\n",
    "        new_value = current_value + alpha*(reward + gamma*dest_value - current_value)\n",
    "        gw.set_value(state, new_value)\n",
    "    # Store the value of state (0,0) after each episode update\n",
    "    value_0_0_history.append(gw.get_value((0,0))) \n",
    "    # Optional: Print progress\n",
    "    # if (i + 1) % 100 == 0:\n",
    "    #     print(f\"Episode {i+1}/{number_play_game} completed.\")"
   ]
  },
  {
   "cell_type": "markdown",
   "metadata": {},
   "source": [
    "### Final Results\n",
    "\n",
    "Display the evaluated policy and the final estimated state values after running TD(0) for all episodes."
   ]
  },
  {
   "cell_type": "code",
   "execution_count": 14,
   "metadata": {},
   "outputs": [
    {
     "name": "stdout",
     "output_type": "stream",
     "text": [
      "Policy\n",
      "-------------------------------------\n",
      "|  Right |  Right |  Right |        |\n",
      "-------------------------------------\n",
      "|     Up |        |  Right |        |\n",
      "-------------------------------------\n",
      "|     Up |  Right |  Right |     Up |\n",
      "-------------------------------------\n",
      "\n",
      "Values from TD(0) Learning\n",
      "-------------------------------------\n",
      "|   0.74 |   0.85 |   0.98 |   0.00 |\n",
      "-------------------------------------\n",
      "|   0.67 |   0.00 |  -0.97 |   0.00 |\n",
      "-------------------------------------\n",
      "|   0.57 |  -0.59 |  -0.83 |  -0.96 |\n",
      "-------------------------------------\n"
     ]
    }
   ],
   "source": [
    "print(\"Policy\")\n",
    "gw.print_policy(policy)\n",
    "print(\"\")\n",
    "# Print values from TD Learning\n",
    "print(\"Values from TD(0) Learning\")\n",
    "gw.print_values()"
   ]
  },
  {
   "cell_type": "markdown",
   "metadata": {},
   "source": [
    "### Value Function Convergence for State (0,0)\n",
    "\n",
    "The following plot shows the estimated value of the starting state (0,0) over the course of the training episodes. This helps visualize how the TD(0) algorithm converges towards the true value function for that state."
   ]
  },
  {
   "cell_type": "code",
   "execution_count": 15,
   "metadata": {},
   "outputs": [
    {
     "data": {
      "image/png": "[encoded data removed]",
      "text/plain": [
       "<Figure size 1000x600 with 1 Axes>"
      ]
     },
     "metadata": {},
     "output_type": "display_data"
    }
   ],
   "source": [
    "plt.figure(figsize=(10, 6))\n",
    "plt.plot(value_0_0_history)\n",
    "plt.title('Convergence of Value Function for State (0,0)')\n",
    "plt.xlabel('Episode')\n",
    "plt.ylabel('Estimated Value V(0,0)')\n",
    "plt.grid(True)\n",
    "plt.show()"
   ]
  },
  {
   "cell_type": "code",
   "execution_count": null,
   "metadata": {},
   "outputs": [],
   "source": []
  }
 ],
 "metadata": {
  "kernelspec": {
   "display_name": "Python 3",
   "language": "python",
   "name": "python3"
  },
  "language_info": {
   "codemirror_mode": {
    "name": "ipython",
    "version": 3
   },
   "file_extension": ".py",
   "mimetype": "text/x-python",
   "name": "python",
   "nbconvert_exporter": "python",
   "pygments_lexer": "ipython3",
   "version": "3.11.8"
  }
 },
 "nbformat": 4,
 "nbformat_minor": 4
}

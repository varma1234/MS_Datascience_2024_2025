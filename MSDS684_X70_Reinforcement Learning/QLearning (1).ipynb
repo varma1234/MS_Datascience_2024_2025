{
    "cells": [
        {
            "cell_type": "markdown",
            "metadata": {},
            "source": [
                "## Q-Learning Implementation in a Grid World\n",
                "\n",
                "This notebook demonstrates the Q-learning algorithm applied to a simple grid world environment. The implementation is based on the Q-learning algorithm described in Sutton and Barto's \"Reinforcement Learning: An Introduction,\" specifically referencing the content on page 130 of the second edition.\n",
                "\n",
                "The core idea of Q-learning is to learn an optimal policy by estimating the action-value function, denoted as Q(s, a), which represents the expected cumulative reward of taking action 'a' in state 's' and following an optimal policy thereafter. Q-learning is an off-policy temporal difference (TD) control method, meaning it learns the optimal policy independently of the agent's actions. This allows it to learn from exploratory or even random actions, making it a robust algorithm for various reinforcement learning problems.\n",
                "\n",
                "The following image illustrates the Q-learning concept as presented in Sutton and Barto's book:\n",
                "\n",
                "![Sutton and Barto, Reinforcement Learning 2nd. Edition.](./figures/QLearning.png)"
            ]
        },
        {
            "cell_type": "code",
            "execution_count": 1,
            "id": "000079e3",
            "metadata": {},
            "outputs": [],
            "source": [
                "import numpy as np\n",
                "\n",
                "from rlgridworld.standard_grid import create_standard_grid"
            ]
        },
        {
            "cell_type": "markdown",
            "id": "b395e849",
            "metadata": {},
            "source": [
                "### Q-Learning Algorithm Implementation\n",
                "\n",
                "The following code implements the Q-learning algorithm to train an agent to navigate a grid world. The `play_game` function simulates an episode of the game, updating the Q-values based on the agent's experience. Key parameters such as `epsilon` (exploration rate), `gamma` (discount factor), and `alpha` (learning rate) control the learning process. The agent starts at a defined state and continues until it reaches a terminal state, updating its Q-values along the way.\n",
                "\n",
                "**Algorithm Parameters:**\n",
                "*   `epsilon`: The probability of exploration, determining how often the agent takes a random action instead of the greedy action.\n",
                "*   `gamma`: The discount factor, which determines the importance of future rewards. A higher gamma value gives more weight to future rewards.\n",
                "*   `alpha`: The learning rate, which controls how much the Q-values are updated based on new information."
            ]
        },
        {
            "cell_type": "code",
            "execution_count": 2,
            "id": "f7fde2cb",
            "metadata": {},
            "outputs": [],
            "source": [
                "def play_game(gw, Q):\n",
                "    epsilon = 0.05 # probability of exploration\n",
                "    gamma = 0.9 # discount factor for future rewards\n",
                "    alpha = 0.1 # Q update fraction\n",
                "    state = (0, 0)\n",
                "    converged = False\n",
                "    while not converged:\n",
                "        action, _ = max_dict(Q[state])\n",
                "        all_actions = gw.valid_decisions(state)\n",
                "        action = random_action(action, all_actions, epsilon)\n",
                "        reward = gw.get_reward_for_action(state, action)\n",
                "        stateprime = move(state, action)\n",
                "        iprime, jprime = stateprime\n",
                "        if not gw.is_terminal(stateprime):\n",
                "            _, destvalue = max_dict(Q[stateprime])\n",
                "            Q[state][action] = Q[state][action] + alpha*(reward + gamma*destvalue - Q[state][action])\n",
                "            state = stateprime\n",
                "        if gw.is_terminal(stateprime):\n",
                "            Q[state][action] = Q[state][action] + alpha*(reward - Q[state][action]) \n",
                "            converged = True\n",
                "    return Q"
            ]
        },
        {
            "cell_type": "code",
            "execution_count": 3,
            "id": "6f16f6ab",
            "metadata": {},
            "outputs": [],
            "source": [
                "def move(state, action):\n",
                "    i, j = state\n",
                "    if action == 'left':\n",
                "        j = j-1\n",
                "    if action == 'right':\n",
                "        j = j+1\n",
                "    if action == 'down':\n",
                "        i = i-1\n",
                "    if action == 'up':\n",
                "        i = i+1\n",
                "    return (i, j)"
            ]
        },
        {
            "cell_type": "code",
            "execution_count": 4,
            "id": "47191167",
            "metadata": {},
            "outputs": [],
            "source": [
                "def random_action(action, all_actions, epsilon):\n",
                "    p = np.random.random_sample()\n",
                "    if p < (1 - epsilon):\n",
                "        return action\n",
                "    else:\n",
                "        return np.random.choice(all_actions)"
            ]
        },
        {
            "cell_type": "code",
            "execution_count": 5,
            "id": "6ded691f",
            "metadata": {},
            "outputs": [],
            "source": [
                "def max_dict(d):\n",
                "    max_key = None\n",
                "    max_val = float('-inf')\n",
                "    for k, v in d.items():\n",
                "        if v > max_val:\n",
                "            max_val = v\n",
                "            max_key = k\n",
                "    return max_key, max_val"
            ]
        },
        {
            "cell_type": "code",
            "execution_count": 6,
            "id": "10336071",
            "metadata": {},
            "outputs": [],
            "source": [
                "def init_Q(gw):\n",
                "    Q = {}\n",
                "    for i in range(0, gw.M):\n",
                "        for j in range(0, gw.N):\n",
                "            state = (i,j)\n",
                "            if not gw.is_barrier(state) and not gw.is_terminal(state):\n",
                "                Q[state] = {}\n",
                "                all_actions = gw.valid_decisions(state)\n",
                "                for a in all_actions:\n",
                "                    Q[state][a] = 0\n",
                "    return Q"
            ]
        },
        {
            "cell_type": "markdown",
            "id": "3657e55b",
            "metadata": {},
            "source": [
                "### Grid World Initialization\n",
                "\n",
                "Here, we create the standard grid world environment and initialize the Q-value dictionary. The grid world is a 2D environment with specified start and end states, barriers, and rewards. The Q-value dictionary stores the estimated Q-values for each state-action pair. Initially, all Q-values are set to zero."
            ]
        },
        {
            "cell_type": "code",
            "execution_count": 7,
            "id": "a754a582",
            "metadata": {},
            "outputs": [],
            "source": [
                "gw = create_standard_grid()"
            ]
        },
        {
            "cell_type": "code",
            "execution_count": 8,
            "id": "d2be2282",
            "metadata": {},
            "outputs": [],
            "source": [
                "Q = init_Q( gw )"
            ]
        },
        {
            "cell_type": "markdown",
            "id": "cd86035c",
            "metadata": {},
            "source": [
                "### Initial Q-Values\n",
                "\n",
                "The initial Q-value dictionary contains the Q-values for all possible state-action pairs in the grid world. Each state is represented as a tuple (row, column), and the actions are 'left', 'right', 'up', and 'down'. The Q-values are initially set to 0.0. The tuples at the beginning of each line represent the dictionary keys, and each dictionary value is another dictionary. For the second dictionary, the decisions are the dictionary keys. The values in this dictionary are the Q values for each action at the designated state."
            ]
        },
        {
            "cell_type": "code",
            "execution_count": 9,
            "id": "8bfcc6e2",
            "metadata": {},
            "outputs": [
                {
                    "data": {
                        "text/plain": [
                            "{(0, 0): {'right': 0, 'up': 0},\n",
                            " (0, 1): {'left': 0, 'right': 0},\n",
                            " (0, 2): {'left': 0, 'right': 0, 'up': 0},\n",
                            " (0, 3): {'left': 0, 'up': 0},\n",
                            " (1, 0): {'down': 0, 'up': 0},\n",
                            " (1, 2): {'right': 0, 'down': 0, 'up': 0},\n",
                            " (2, 0): {'right': 0, 'down': 0},\n",
                            " (2, 1): {'left': 0, 'right': 0},\n",
                            " (2, 2): {'left': 0, 'right': 0, 'down': 0}}"
                        ]
                    },
                    "execution_count": 9,
                    "metadata": {},
                    "output_type": "execute_result"
                }
            ],
            "source": [
                "Q"
            ]
        },
        {
            "cell_type": "markdown",
            "id": "d04aaa87",
            "metadata": {},
            "source": [
                "### Playing the Game\n",
                "\n",
                "The `play_game` function simulates one episode of the game. During each episode, the agent starts at the initial state and takes actions based on the Q-values and the exploration rate (`epsilon`). The Q-values are updated using the Q-learning update rule. This process continues until the agent reaches a terminal state."
            ]
        },
        {
            "cell_type": "code",
            "execution_count": 10,
            "id": "1d613d94",
            "metadata": {},
            "outputs": [],
            "source": [
                "Q = play_game(gw, Q)"
            ]
        },
        {
            "cell_type": "markdown",
            "id": "98455784",
            "metadata": {},
            "source": [
                "### Updated Q-Values After One Iteration\n",
                "\n",
                "After playing one iteration of the game, the Q-values are updated based on the agent's experience. The `alpha` factor in the Q-value update rule determines how much the Q-values are adjusted. Note the effect of the alpha factor in the updates of the Q values."
            ]
        },
        {
            "cell_type": "code",
            "execution_count": 11,
            "id": "7ba5fdf7",
            "metadata": {},
            "outputs": [
                {
                    "data": {
                        "text/plain": [
                            "{(0, 0): {'right': 0.0, 'up': 0.0},\n",
                            " (0, 1): {'left': 0.0, 'right': 0.0},\n",
                            " (0, 2): {'left': 0.0, 'right': 0, 'up': 0.0},\n",
                            " (0, 3): {'left': 0, 'up': 0},\n",
                            " (1, 0): {'down': 0.0, 'up': 0},\n",
                            " (1, 2): {'right': -0.1, 'down': 0, 'up': 0},\n",
                            " (2, 0): {'right': 0, 'down': 0},\n",
                            " (2, 1): {'left': 0, 'right': 0},\n",
                            " (2, 2): {'left': 0, 'right': 0, 'down': 0}}"
                        ]
                    },
                    "execution_count": 11,
                    "metadata": {},
                    "output_type": "execute_result"
                }
            ],
            "source": [
                "Q"
            ]
        },
        {
            "cell_type": "markdown",
            "id": "e6d0de5e",
            "metadata": {},
            "source": [
                "### Playing the Game Multiple Times\n",
                "\n",
                "By playing the game multiple times, the agent learns to make better decisions and the Q-values converge towards the optimal values. The following code plays the game for another iteration and displays the updated Q-values."
            ]
        },
        {
            "cell_type": "code",
            "execution_count": 12,
            "id": "a5449578",
            "metadata": {},
            "outputs": [],
            "source": [
                "Q = play_game(gw, Q)"
            ]
        },
        {
            "cell_type": "code",
            "execution_count": 13,
            "id": "766a3756",
            "metadata": {},
            "outputs": [
                {
                    "data": {
                        "text/plain": [
                            "{(0, 0): {'right': 0.0, 'up': 0.0},\n",
                            " (0, 1): {'left': 0.0, 'right': 0.0},\n",
                            " (0, 2): {'left': 0.0, 'right': 0.0, 'up': 0.0},\n",
                            " (0, 3): {'left': 0.0, 'up': -0.1},\n",
                            " (1, 0): {'down': 0.0, 'up': 0.0},\n",
                            " (1, 2): {'right': -0.1, 'down': 0.0, 'up': 0},\n",
                            " (2, 0): {'right': 0.0, 'down': 0.0},\n",
                            " (2, 1): {'left': 0.0, 'right': 0.0},\n",
                            " (2, 2): {'left': 0.0, 'right': 0, 'down': 0}}"
                        ]
                    },
                    "execution_count": 13,
                    "metadata": {},
                    "output_type": "execute_result"
                }
            ],
            "source": [
                "Q"
            ]
        },
        {
            "cell_type": "markdown",
            "id": "38c69208",
            "metadata": {},
            "source": [
                "### Training the Agent\n",
                "\n",
                "To train the agent effectively, we need to play the game many times. The following code plays the game 10,000 times and updates the Q-values accordingly. This allows the agent to explore the environment and learn the optimal policy."
            ]
        },
        {
            "cell_type": "code",
            "execution_count": 14,
            "id": "5438cbfa",
            "metadata": {},
            "outputs": [],
            "source": [
                "for _ in range(10000):\n",
                "    Q = play_game(gw, Q)"
            ]
        },
        {
            "cell_type": "code",
            "execution_count": 15,
            "id": "a79ebd80",
            "metadata": {},
            "outputs": [
                {
                    "data": {
                        "text/plain": [
                            "{(0, 0): {'right': 0.5314409999982149, 'up': 0.6560999999999979},\n",
                            " (0, 1): {'left': 0.5904899999999977, 'right': 0.3340773402574159},\n",
                            " (0, 2): {'left': 0.5314409951927251,\n",
                            "  'right': 0.024214856660908536,\n",
                            "  'up': 0.043046698752991115},\n",
                            " (0, 3): {'left': 0.162361316099566, 'up': -0.1},\n",
                            " (1, 0): {'down': 0.5904899999997081, 'up': 0.7289999999999983},\n",
                            " (1, 2): {'right': -0.34390000000000004,\n",
                            "  'down': 0.478296751420081,\n",
                            "  'up': 0.3685589999999998},\n",
                            " (2, 0): {'right': 0.8099999999999987, 'down': 0.6560999999998001},\n",
                            " (2, 1): {'left': 0.7289999999983406, 'right': 0.899999999999999},\n",
                            " (2, 2): {'left': 0.8099999974863857,\n",
                            "  'right': 0.9999999999999996,\n",
                            "  'down': 0.4304659933034021}}"
                        ]
                    },
                    "execution_count": 15,
                    "metadata": {},
                    "output_type": "execute_result"
                }
            ],
            "source": [
                "Q"
            ]
        },
        {
            "cell_type": "markdown",
            "id": "9380b3da",
            "metadata": {},
            "source": [
                "### Extracting the Policy\n",
                "\n",
                "After training the agent, we can extract the optimal policy from the Q-values. The policy is a mapping from each state to the best action to take in that state. The following code extracts the policy and value function from the Q-table and prints the policy and values for each state in the grid world."
            ]
        },
        {
            "cell_type": "code",
            "execution_count": 16,
            "id": "179c2f68",
            "metadata": {},
            "outputs": [],
            "source": [
                "policy = {}\n",
                "for i in range(gw.M):\n",
                "    for j in range(gw.N):\n",
                "        state = (i,j)\n",
                "        if gw.is_barrier(state):\n",
                "            policy[state] = ''\n",
                "        if gw.is_terminal(state):\n",
                "            policy[state] = ''\n",
                "        if not gw.is_barrier(state) and not gw.is_terminal(state):\n",
                "            action, value = max_dict(Q[state])\n",
                "            gw.set_value(state, value)\n",
                "            policy[state] = action"
            ]
        },
        {
            "cell_type": "code",
            "execution_count": 17,
            "id": "eda7ffa1",
            "metadata": {},
            "outputs": [
                {
                    "name": "stdout",
                    "output_type": "stream",
                    "text": [
                        "-------------------------------------\n",
                        "|   0.81 |   0.90 |   1.00 |   0.00 |\n",
                        "-------------------------------------\n",
                        "|   0.73 |   0.00 |   0.48 |   0.00 |\n",
                        "-------------------------------------\n",
                        "|   0.66 |   0.59 |   0.53 |   0.16 |\n",
                        "-------------------------------------\n",
                        "-------------------------------------\n",
                        "|  Right |  Right |  Right |        |\n",
                        "-------------------------------------\n",
                        "|     Up |        |   Down |        |\n",
                        "-------------------------------------\n",
                        "|     Up |   Left |   Left |   Left |\n",
                        "-------------------------------------\n"
                    ]
                }
            ],
            "source": [
                "gw.print_values()\n",
                "gw.print_policy(policy)"
            ]
        },
        {
            "cell_type": "markdown",
            "id": "83e239c6",
            "metadata": {},
            "source": [
                "### Visualizing the Learned Policy\n",
                "\n",
                "The following cell visualizes the learned policy on the grid. Arrows indicate the optimal action determined by the Q-learning agent for each state. States without arrows are either terminal states or barriers."
            ]
        },
        {
            "cell_type": "code",
            "execution_count": null,
            "id": "2834edca",
            "metadata": {},
            "outputs": [
                {
                    "data": {
                        "image/png": "[encoded data removed]",
                        "text/plain": [
                            "<Figure size 640x480 with 1 Axes>"
                        ]
                    },
                    "metadata": {},
                    "output_type": "display_data"
                }
            ],
            "source": [
                "import matplotlib.pyplot as plt\n",
                "\n",
                "# Create a figure and axes\n",
                "fig, ax = plt.subplots()\n",
                "\n",
                "# Grid dimensions (assuming M rows, N columns)\n",
                "M = gw.M\n",
                "N = gw.N\n",
                "\n",
                "# Draw grid lines\n",
                "ax.set_xticks(np.arange(-.5, N, 1), minor=True)\n",
                "ax.set_yticks(np.arange(-.5, M, 1), minor=True)\n",
                "ax.grid(which='minor', color='black', linestyle='-', linewidth=1)\n",
                "\n",
                "# Set limits and remove axis labels\n",
                "ax.set_xlim(-0.5, N - 0.5)\n",
                "ax.set_ylim(-0.5, M - 0.5)\n",
                "ax.set_xticklabels([])\n",
                "ax.set_yticklabels([])\n",
                "ax.tick_params(axis='both', which='both', length=0) # Hide ticks\n",
                "\n",
                "# Define arrow properties\n",
                "arrow_props = dict(facecolor='black', width=0.1, head_width=0.4, head_length=0.4)\n",
                "\n",
                "# Plot arrows for the policy\n",
                "for state, action in policy.items():\n",
                "    i, j = state\n",
                "    # Convert grid coords (i, j) to plot coords (x, y)\n",
                "    x, y = j, M - 1 - i\n",
                "    \n",
                "    # Skip barriers and terminals\n",
                "    if gw.is_barrier(state) or gw.is_terminal(state):\n",
                "        # Optionally mark barriers/terminals (e.g., with color)\n",
                "        if gw.is_barrier(state):\n",
                "             ax.add_patch(plt.Rectangle((x-0.5, y-0.5), 1, 1, facecolor='gray'))\n",
                "        elif state == (2, 3): # Positive reward goal state\n",
                "             ax.add_patch(plt.Rectangle((x-0.5, y-0.5), 1, 1, facecolor='lightgreen')) # Goal\n",
                "        elif gw.is_terminal(state): # Other terminal states (e.g., (1, 3))\n",
                "             ax.add_patch(plt.Rectangle((x-0.5, y-0.5), 1, 1, facecolor='salmon'))\n",
                "        continue\n",
                "        \n",
                "    dx, dy = 0, 0\n",
                "    if action == 'up':\n",
                "        dy = 0.5\n",
                "    elif action == 'down':\n",
                "        dy = -0.5\n",
                "    elif action == 'left':\n",
                "        dx = -0.5\n",
                "    elif action == 'right':\n",
                "        dx = 0.5\n",
                "        \n",
                "    # Draw arrow if action is defined\n",
                "    if dx != 0 or dy != 0:\n",
                "        ax.arrow(x - dx*0.3, y - dy*0.3, dx*0.6, dy*0.6, **arrow_props)\n",
                "\n",
                "# Invert y-axis to match grid convention (origin top-left)\n",
                "# ax.invert_yaxis() # Keep origin bottom-left for standard plot view\n",
                "ax.set_aspect('equal', adjustable='box') # Ensure squares are square\n",
                "plt.title('Learned Policy Visualization')\n",
                "plt.show()"
            ]
        },
        {
            "cell_type": "code",
            "execution_count": null,
            "id": "83be1be1",
            "metadata": {},
            "outputs": [],
            "source": []
        }
    ],
    "metadata": {
        "kernelspec": {
            "display_name": "Python 3",
            "language": "python",
            "name": "python3"
        },
        "language_info": {
            "codemirror_mode": {
                "name": "ipython",
                "version": 3
            },
            "file_extension": ".py",
            "mimetype": "text/x-python",
            "name": "python",
            "nbconvert_exporter": "python",
            "pygments_lexer": "ipython3",
            "version": "3.11.8"
        }
    },
    "nbformat": 4,
    "nbformat_minor": 5
}

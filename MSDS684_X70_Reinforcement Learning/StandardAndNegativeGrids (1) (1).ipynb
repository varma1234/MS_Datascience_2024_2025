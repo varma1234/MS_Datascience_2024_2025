{
 "cells": [
  {
   "cell_type": "markdown",
   "metadata": {},
   "source": [
    "\n",
    "### Standard Grid and Negative Grid Environments\n",
    "\n",
    "![Gridworld.](./figures/StandardGridWorldSmall.png)\n",
    "\n",
    "For the gridworld problem both grids have\n",
    "\n",
    "* three rows and four columns\n",
    "* states that are characterized by a row and column index, and $(i,j)$ pair\n",
    "* actions at each state are a subset of {left, right, down, up} \n",
    "* state (0,0) is the initial state, where the decision making agent starts\n",
    "* state (1,1) is a barrier state, the agent cannot make decisions that move to this state\n",
    "* states (1,3) and (2,3) are terminal states\n",
    "* the decision to move **up** from state (0,3) has an immediate reward of -1, which results in the agent moving to the terminal state (1,3)\n",
    "* the decision to move **right** from state (1,2) has an immediate reward of -1, which also results in the agent moving to the terminal state (1,3)\n",
    "* the decision to move **right** from state (2,2) has an immediate reward of 1, which results in the agent moving to the terminal state (2,3)\n",
    "\n",
    "For the standard grid \n",
    "* all other rewards are 0\n",
    "\n",
    "For the negative grid\n",
    "* all other rewards are -0.1\n"
   ]
  },
  {
   "cell_type": "markdown",
   "metadata": {},
   "source": [
    "Import for standard grid"
   ]
  },
  {
   "cell_type": "code",
   "execution_count": 1,
   "metadata": {},
   "outputs": [],
   "source": [
    "from rlgridworld.standard_grid import create_standard_grid"
   ]
  },
  {
   "cell_type": "markdown",
   "metadata": {},
   "source": [
    "Create the Standard Grid"
   ]
  },
  {
   "cell_type": "code",
   "execution_count": 2,
   "metadata": {},
   "outputs": [],
   "source": [
    "gw = create_standard_grid()"
   ]
  },
  {
   "cell_type": "markdown",
   "metadata": {},
   "source": [
    "The cell below calls a function to list all the states in the created grid\n",
    "\n",
    "1. Row index\n",
    "2. Column index\n",
    "3. Value\n",
    "4. is_terminal flag\n",
    "5. is_barrier flag\n",
    "\n",
    "Note: State (1,1) is a barrier state and states (1,3) and (2,3) are terminal states."
   ]
  },
  {
   "cell_type": "code",
   "execution_count": 4,
   "metadata": {},
   "outputs": [
    {
     "name": "stdout",
     "output_type": "stream",
     "text": [
      "Row: 0, Column: 0, Value: 0, is_terminal: False, is_barrier: False\n",
      "Row: 0, Column: 1, Value: 0, is_terminal: False, is_barrier: False\n",
      "Row: 0, Column: 2, Value: 0, is_terminal: False, is_barrier: False\n",
      "Row: 0, Column: 3, Value: 0, is_terminal: False, is_barrier: False\n",
      "Row: 1, Column: 0, Value: 0, is_terminal: False, is_barrier: False\n",
      "Row: 1, Column: 1, Value: 0, is_terminal: False, is_barrier: True\n",
      "Row: 1, Column: 2, Value: 0, is_terminal: False, is_barrier: False\n",
      "Row: 1, Column: 3, Value: 0, is_terminal: True, is_barrier: False\n",
      "Row: 2, Column: 0, Value: 0, is_terminal: False, is_barrier: False\n",
      "Row: 2, Column: 1, Value: 0, is_terminal: False, is_barrier: False\n",
      "Row: 2, Column: 2, Value: 0, is_terminal: False, is_barrier: False\n",
      "Row: 2, Column: 3, Value: 0, is_terminal: True, is_barrier: False\n"
     ]
    }
   ],
   "source": [
    "gw.print_grid_state()"
   ]
  },
  {
   "cell_type": "markdown",
   "metadata": {},
   "source": [
    "The cell below calls a function to list the rewards associated with decisions (or actions) at each state.  The reward **None** is listed if the decision is prohibited.  The agent cannot move off the grid or into barrier states.\n",
    "\n",
    "1. Row index\n",
    "2. Column index\n",
    "3. Reward for moving left\n",
    "4. Reward for moving right\n",
    "5. Reward for moving down\n",
    "6. Reward for moving up\n",
    "\n",
    "Note in particular the -1 reward for moving **up** from state (0,3) to (1,3).  Similarily, note the -1 reward for moving **right** from (1,2) to (1,3).  Lastly, note that moving **right** from (2,2) to (2,3) results in a reward of 1. "
   ]
  },
  {
   "cell_type": "code",
   "execution_count": 5,
   "metadata": {},
   "outputs": [
    {
     "name": "stdout",
     "output_type": "stream",
     "text": [
      "Row: 0, Column: 0, Left: None, Right: 0.0, Down: None, Up: 0.0\n",
      "Row: 0, Column: 1, Left: 0.0, Right: 0.0, Down: None, Up: None\n",
      "Row: 0, Column: 2, Left: 0.0, Right: 0.0, Down: None, Up: 0.0\n",
      "Row: 0, Column: 3, Left: 0.0, Right: None, Down: None, Up: -1.0\n",
      "Row: 1, Column: 0, Left: None, Right: None, Down: 0.0, Up: 0.0\n",
      "Row: 1, Column: 1, Left: None, Right: None, Down: None, Up: None\n",
      "Row: 1, Column: 2, Left: None, Right: -1.0, Down: 0.0, Up: 0.0\n",
      "Row: 1, Column: 3, Left: None, Right: None, Down: None, Up: None\n",
      "Row: 2, Column: 0, Left: None, Right: 0.0, Down: 0.0, Up: None\n",
      "Row: 2, Column: 1, Left: 0.0, Right: 0.0, Down: None, Up: None\n",
      "Row: 2, Column: 2, Left: 0.0, Right: 1.0, Down: 0.0, Up: None\n",
      "Row: 2, Column: 3, Left: None, Right: None, Down: None, Up: None\n"
     ]
    }
   ],
   "source": [
    "gw.print_grid_rewards()"
   ]
  },
  {
   "cell_type": "markdown",
   "metadata": {},
   "source": [
    "Import for negative grid"
   ]
  },
  {
   "cell_type": "code",
   "execution_count": 9,
   "metadata": {},
   "outputs": [],
   "source": [
    "from rlgridworld.standard_grid import create_negative_grid"
   ]
  },
  {
   "cell_type": "markdown",
   "metadata": {},
   "source": [
    "Create the Negative Grid"
   ]
  },
  {
   "cell_type": "code",
   "execution_count": 10,
   "metadata": {},
   "outputs": [],
   "source": [
    "gw = create_negative_grid()"
   ]
  },
  {
   "cell_type": "markdown",
   "metadata": {},
   "source": [
    "Print states, which are the same as for the standard grid."
   ]
  },
  {
   "cell_type": "code",
   "execution_count": 11,
   "metadata": {},
   "outputs": [
    {
     "name": "stdout",
     "output_type": "stream",
     "text": [
      "Row: 0, Column: 0, Value: 0, is_terminal: False, is_barrier: False\n",
      "Row: 0, Column: 1, Value: 0, is_terminal: False, is_barrier: False\n",
      "Row: 0, Column: 2, Value: 0, is_terminal: False, is_barrier: False\n",
      "Row: 0, Column: 3, Value: 0, is_terminal: False, is_barrier: False\n",
      "Row: 1, Column: 0, Value: 0, is_terminal: False, is_barrier: False\n",
      "Row: 1, Column: 1, Value: 0, is_terminal: False, is_barrier: True\n",
      "Row: 1, Column: 2, Value: 0, is_terminal: False, is_barrier: False\n",
      "Row: 1, Column: 3, Value: 0, is_terminal: True, is_barrier: False\n",
      "Row: 2, Column: 0, Value: 0, is_terminal: False, is_barrier: False\n",
      "Row: 2, Column: 1, Value: 0, is_terminal: False, is_barrier: False\n",
      "Row: 2, Column: 2, Value: 0, is_terminal: False, is_barrier: False\n",
      "Row: 2, Column: 3, Value: 0, is_terminal: True, is_barrier: False\n"
     ]
    }
   ],
   "source": [
    "gw.print_grid_state()"
   ]
  },
  {
   "cell_type": "markdown",
   "metadata": {},
   "source": [
    "Print the rewards. The change is that all the 0.0 rewards are now -0.1 to penalilze movement.  The effect is to find the shortest path to a terminal state, since it will minimize the penalty."
   ]
  },
  {
   "cell_type": "code",
   "execution_count": 12,
   "metadata": {},
   "outputs": [
    {
     "name": "stdout",
     "output_type": "stream",
     "text": [
      "Row: 0, Column: 0, Left: None, Right: -0.1, Down: None, Up: -0.1\n",
      "Row: 0, Column: 1, Left: -0.1, Right: -0.1, Down: None, Up: None\n",
      "Row: 0, Column: 2, Left: -0.1, Right: -0.1, Down: None, Up: -0.1\n",
      "Row: 0, Column: 3, Left: -0.1, Right: None, Down: None, Up: -1.0\n",
      "Row: 1, Column: 0, Left: None, Right: None, Down: -0.1, Up: -0.1\n",
      "Row: 1, Column: 1, Left: None, Right: None, Down: None, Up: None\n",
      "Row: 1, Column: 2, Left: None, Right: -1.0, Down: -0.1, Up: -0.1\n",
      "Row: 1, Column: 3, Left: None, Right: None, Down: None, Up: None\n",
      "Row: 2, Column: 0, Left: None, Right: -0.1, Down: -0.1, Up: None\n",
      "Row: 2, Column: 1, Left: -0.1, Right: -0.1, Down: None, Up: None\n",
      "Row: 2, Column: 2, Left: -0.1, Right: 1.0, Down: -0.1, Up: None\n",
      "Row: 2, Column: 3, Left: None, Right: None, Down: None, Up: None\n"
     ]
    }
   ],
   "source": [
    "gw.print_grid_rewards()"
   ]
  },
  {
   "cell_type": "code",
   "execution_count": null,
   "metadata": {},
   "outputs": [],
   "source": [
    "policy = { \n",
    "    (0,0):'up', (0,1):'right',(0,2):'right',(0,3):'up',\n",
    "    (1,0):'up', (1,1):'', (1,2):'right', (1,3):'',\n",
    "    (2,0):'right', (2,1):'right', (2,2):'right', (2,3):''\n",
    "    }"
   ]
  },
  {
   "cell_type": "markdown",
   "metadata": {},
   "source": [
    "\n",
    "This section defines the initial policy for our GridWorld environment. The policy is represented as a dictionary where:\n",
    "\n",
    "- Keys: Tuple coordinates (i,j) representing each state in the 3×4 grid\n",
    "- Values: String representing the action to take at each state\n",
    "  - 'up': Move upward\n",
    "  - 'right': Move rightward\n",
    "  - '': Empty string for terminal states (1,3), (2,3) and barrier state (1,1)\n",
    "\n",
    "- Starting state (0,0): Move up\n",
    "- States (0,1), (0,2): Move right\n",
    "- State (0,3): Move up (leads to terminal state with -1 reward)\n",
    "- State (1,0): Move up\n",
    "- State (1,2): Move right (leads to terminal state with -1 reward)\n",
    "- States (2,0), (2,1), (2,2): Move right (2,2 leads to terminal state with +1 reward)\n",
    "\n",
    "This policy represents one possible solution path through the GridWorld environment."
   ]
  },
  {
   "cell_type": "code",
   "execution_count": 14,
   "metadata": {},
   "outputs": [
    {
     "name": "stdout",
     "output_type": "stream",
     "text": [
      "-------------------------------------\n",
      "|   0.00 |   0.00 |   0.00 |   0.00 |\n",
      "-------------------------------------\n",
      "|   0.00 |   0.00 |   0.00 |   0.00 |\n",
      "-------------------------------------\n",
      "|   0.00 |   0.00 |   0.00 |   0.00 |\n",
      "-------------------------------------\n",
      "-------------------------------------\n",
      "|  Right |  Right |  Right |        |\n",
      "-------------------------------------\n",
      "|     Up |        |  Right |        |\n",
      "-------------------------------------\n",
      "|     Up |  Right |  Right |     Up |\n",
      "-------------------------------------\n"
     ]
    }
   ],
   "source": [
    "gw.print_values()\n",
    "gw.print_policy(policy)"
   ]
  }
 ],
 "metadata": {
  "kernelspec": {
   "display_name": "Python 3",
   "language": "python",
   "name": "python3"
  },
  "language_info": {
   "codemirror_mode": {
    "name": "ipython",
    "version": 3
   },
   "file_extension": ".py",
   "mimetype": "text/x-python",
   "name": "python",
   "nbconvert_exporter": "python",
   "pygments_lexer": "ipython3",
   "version": "3.11.8"
  }
 },
 "nbformat": 4,
 "nbformat_minor": 4
}

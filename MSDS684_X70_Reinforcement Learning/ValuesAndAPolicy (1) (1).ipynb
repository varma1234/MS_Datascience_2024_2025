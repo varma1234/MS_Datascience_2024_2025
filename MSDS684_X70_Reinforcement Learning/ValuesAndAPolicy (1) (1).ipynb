{
 "cells": [
  {
   "cell_type": "code",
   "execution_count": 1,
   "id": "fded5cd9",
   "metadata": {},
   "outputs": [],
   "source": [
    "from rlgridworld.standard_grid import create_standard_grid"
   ]
  },
  {
   "cell_type": "markdown",
   "id": "1e4fa407",
   "metadata": {},
   "source": [
    "Create the standard grid"
   ]
  },
  {
   "cell_type": "code",
   "execution_count": 2,
   "id": "9c9c3581",
   "metadata": {},
   "outputs": [],
   "source": [
    "gw = create_standard_grid()"
   ]
  },
  {
   "cell_type": "markdown",
   "id": "a3ae5c00",
   "metadata": {},
   "source": [
    "Specify a policy "
   ]
  },
  {
   "cell_type": "code",
   "execution_count": 3,
   "id": "c1e8f16b",
   "metadata": {},
   "outputs": [],
   "source": [
    "policy = {\n",
    "    (0, 0): 'up', (0, 1): 'right', (0, 2): 'left', (0, 3): 'up',\n",
    "    (1, 0): 'up', (1, 1): '', (1, 2): 'right', (1, 3): '',\n",
    "    (2, 0): 'right', (2, 1): 'right', (2, 2): 'right', (2, 3): ''\n",
    "}"
   ]
  },
  {
   "cell_type": "markdown",
   "id": "61fb8d61",
   "metadata": {},
   "source": [
    "Print values (which will be zero since they have not been computed) and print the input policy"
   ]
  },
  {
   "cell_type": "code",
   "execution_count": 4,
   "id": "5d03b003",
   "metadata": {},
   "outputs": [
    {
     "name": "stdout",
     "output_type": "stream",
     "text": [
      "-------------------------------------\n",
      "|   0.00 |   0.00 |   0.00 |   0.00 |\n",
      "-------------------------------------\n",
      "|   0.00 |   0.00 |   0.00 |   0.00 |\n",
      "-------------------------------------\n",
      "|   0.00 |   0.00 |   0.00 |   0.00 |\n",
      "-------------------------------------\n",
      "-------------------------------------\n",
      "|  Right |  Right |  Right |        |\n",
      "-------------------------------------\n",
      "|     Up |        |  Right |        |\n",
      "-------------------------------------\n",
      "|     Up |  Right |   Left |     Up |\n",
      "-------------------------------------\n"
     ]
    }
   ],
   "source": [
    "gw.print_values()\n",
    "gw.print_policy(policy)"
   ]
  },
  {
   "cell_type": "markdown",
   "id": "2d6359dd",
   "metadata": {},
   "source": [
    " Alternative Policy Implementation\n",
    "\n",
    "This code block implements an alternative policy dictionary for the GridWorld environment, defining a different path through the grid while maintaining the same objectives.\n",
    "\n",
    " Policy Details:\n",
    "- Starting from (0,0):\n",
    "  - Takes a horizontal path along the top row\n",
    "  - Moves right until reaching (0,3), then up to terminal state\n",
    "\n",
    "- Middle row (row 1):\n",
    "  - From (1,0): Moves right\n",
    "  - (1,1): Empty string (barrier state)\n",
    "  - From (1,2): Moves right to terminal state\n",
    "  - (1,3): Empty string (terminal state)\n",
    "\n",
    "- Bottom row (row 2):\n",
    "  - From (2,0): Moves up\n",
    "  - From (2,1) and (2,2): Moves right\n",
    "  - (2,3): Empty string (terminal state)\n"
   ]
  },
  {
   "cell_type": "code",
   "execution_count": 5,
   "id": "09b76167",
   "metadata": {},
   "outputs": [],
   "source": [
    "policy = { \n",
    "    (0,0):'right', (0,1):'right',(0,2):'right',(0,3):'up',\n",
    "    (1,0):'right', (1,1):'', (1,2):'right', (1,3):'',\n",
    "    (2,0):'up', (2,1):'right', (2,2):'right', (2,3):''\n",
    "    }"
   ]
  },
  {
   "cell_type": "code",
   "execution_count": 6,
   "id": "41c0c070",
   "metadata": {},
   "outputs": [
    {
     "name": "stdout",
     "output_type": "stream",
     "text": [
      "-------------------------------------\n",
      "|   0.00 |   0.00 |   0.00 |   0.00 |\n",
      "-------------------------------------\n",
      "|   0.00 |   0.00 |   0.00 |   0.00 |\n",
      "-------------------------------------\n",
      "|   0.00 |   0.00 |   0.00 |   0.00 |\n",
      "-------------------------------------\n",
      "-------------------------------------\n",
      "|     Up |  Right |  Right |        |\n",
      "-------------------------------------\n",
      "|  Right |        |  Right |        |\n",
      "-------------------------------------\n",
      "|  Right |  Right |  Right |     Up |\n",
      "-------------------------------------\n"
     ]
    }
   ],
   "source": [
    "gw.print_values()\n",
    "gw.print_policy(policy)"
   ]
  },
  {
   "cell_type": "code",
   "execution_count": null,
   "id": "21f7daeb",
   "metadata": {},
   "outputs": [],
   "source": []
  }
 ],
 "metadata": {
  "kernelspec": {
   "display_name": "Python 3",
   "language": "python",
   "name": "python3"
  },
  "language_info": {
   "codemirror_mode": {
    "name": "ipython",
    "version": 3
   },
   "file_extension": ".py",
   "mimetype": "text/x-python",
   "name": "python",
   "nbconvert_exporter": "python",
   "pygments_lexer": "ipython3",
   "version": "3.11.8"
  }
 },
 "nbformat": 4,
 "nbformat_minor": 5
}

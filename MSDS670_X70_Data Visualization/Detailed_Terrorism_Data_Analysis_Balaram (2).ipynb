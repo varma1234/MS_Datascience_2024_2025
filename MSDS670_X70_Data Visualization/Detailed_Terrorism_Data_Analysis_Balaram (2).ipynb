{
 "cells": [
  {
   "cell_type": "markdown",
   "id": "a2fd746a",
   "metadata": {},
   "source": [
    "# Terrorism Data Analysis (1970-2017)"
   ]
  },
  {
   "cell_type": "markdown",
   "id": "a7bc7688",
   "metadata": {},
   "source": [
    "## Introduction"
   ]
  },
  {
   "cell_type": "markdown",
   "id": "02859d4d",
   "metadata": {},
   "source": [
    "This analysis is based on a dataset recording global terrorist activities from 1970 to 2017. The dataset includes information on the number of attacks, fatalities, weapon types used, and the regions affected by terrorism. This notebook aims to uncover key trends and insights through various data visualizations."
   ]
  },
  {
   "cell_type": "markdown",
   "id": "8395190e",
   "metadata": {},
   "source": [
    "## Objectives"
   ]
  },
  {
   "cell_type": "markdown",
   "id": "310f6dc5",
   "metadata": {},
   "source": [
    "The main objectives of this analysis are:\n",
    "1. To identify trends in the number of terrorist attacks over time.\n",
    "2. To analyze the correlation between the number of attacks and fatalities.\n",
    "3. To explore the distribution of weapon types used in terrorist attacks.\n",
    "4. To provide insights into the impact of terrorism across different regions."
   ]
  },
  {
   "cell_type": "markdown",
   "id": "c55d729a",
   "metadata": {},
   "source": [
    "## Exploratory Data Analysis (EDA)"
   ]
  },
  {
   "cell_type": "code",
   "execution_count": null,
   "id": "c0f9430d",
   "metadata": {},
   "outputs": [],
   "source": [
    "import pandas as pd\n",
    "\n",
    "# Load the dataset\n",
    "df = pd.read_csv('C:/Users/balar/OneDrive/Desktop/Data Vis summer 8w2/terrorism.csv')\n",
    "\n",
    "# Convert the 'year' column to numeric, handling errors and cleaning data\n",
    "df['year'] = pd.to_numeric(df['year'], errors='coerce')\n",
    "df_cleaned = df.dropna(subset=['year', 'country', 'region'])\n",
    "\n",
    "# Convert 'number_of_kills' and 'number_of_wounded' to numeric, filling NaNs with 0\n",
    "df_cleaned['number_of_kills'] = pd.to_numeric(df_cleaned['number_of_kills'], errors='coerce').fillna(0).astype(int)\n",
    "df_cleaned['number_of_wounded'] = pd.to_numeric(df_cleaned['number_of_wounded'], errors='coerce').fillna(0).astype(int)\n",
    "\n",
    "# Display the cleaned data summary\n",
    "df_cleaned.info()"
   ]
  },
  {
   "cell_type": "markdown",
   "id": "7125505e",
   "metadata": {},
   "source": [
    "## Visualization 1: Number of Terrorist Attacks Over Time"
   ]
  },
  {
   "cell_type": "code",
   "execution_count": null,
   "id": "55a72209",
   "metadata": {},
   "outputs": [],
   "source": [
    "import matplotlib.pyplot as plt\n",
    "\n",
    "# Visualization 1: Number of Terrorist Attacks Over Time\n",
    "plt.figure(figsize=(12, 6))\n",
    "df_yearly_attacks = df_cleaned['year'].value_counts().sort_index()\n",
    "plt.plot(df_yearly_attacks.index, df_yearly_attacks.values, marker='o')\n",
    "plt.title('Number of Terrorist Attacks Over Time (1970-2017)')\n",
    "plt.xlabel('Year')\n",
    "plt.ylabel('Number of Attacks')\n",
    "plt.xlim(1970, 2017)\n",
    "plt.grid(True)\n",
    "plt.show()"
   ]
  },
  {
   "cell_type": "markdown",
   "id": "043f3ea2",
   "metadata": {},
   "source": [
    "## Visualization 2: Number of Fatalities Due to Terrorist Attacks Over Time"
   ]
  },
  {
   "cell_type": "code",
   "execution_count": null,
   "id": "96e08e4f",
   "metadata": {},
   "outputs": [],
   "source": [
    "# Visualization 2: Number of Fatalities Over Time\n",
    "plt.figure(figsize=(12, 6))\n",
    "df_yearly_fatalities = df_cleaned.groupby('year')['number_of_kills'].sum()\n",
    "plt.plot(df_yearly_fatalities.index, df_yearly_fatalities.values, color='red', marker='o')\n",
    "plt.title('Number of Fatalities Due to Terrorist Attacks Over Time (1970-2017)')\n",
    "plt.xlabel('Year')\n",
    "plt.ylabel('Number of Fatalities')\n",
    "plt.xlim(1970, 2017)\n",
    "plt.grid(True)\n",
    "plt.show()"
   ]
  },
  {
   "cell_type": "markdown",
   "id": "af3adf29",
   "metadata": {},
   "source": [
    "## Visualization 3: Comparison of Attacks and Fatalities Over Time"
   ]
  },
  {
   "cell_type": "code",
   "execution_count": null,
   "id": "31199b2e",
   "metadata": {},
   "outputs": [],
   "source": [
    "# Visualization 3: Comparing Attacks and Fatalities Over Time\n",
    "plt.figure(figsize=(12, 6))\n",
    "plt.plot(df_yearly_attacks.index, df_yearly_attacks.values, marker='o', label='Attacks')\n",
    "plt.plot(df_yearly_fatalities.index, df_yearly_fatalities.values, marker='o', label='Fatalities', color='red')\n",
    "plt.title('Comparison of Terrorist Attacks and Fatalities Over Time (1970-2017)')\n",
    "plt.xlabel('Year')\n",
    "plt.ylabel('Count')\n",
    "plt.xlim(1970, 2017)\n",
    "plt.legend()\n",
    "plt.grid(True)\n",
    "plt.show()"
   ]
  },
  {
   "cell_type": "markdown",
   "id": "06ed737a",
   "metadata": {},
   "source": [
    "## Visualization 4: Total Number of Terrorist Attacks by Region"
   ]
  },
  {
   "cell_type": "code",
   "execution_count": null,
   "id": "2c5242cb",
   "metadata": {},
   "outputs": [],
   "source": [
    "# Visualization 4: Number of Attacks by Region\n",
    "plt.figure(figsize=(12, 8))\n",
    "df_region_attacks = df_cleaned['region'].value_counts()\n",
    "df_region_attacks.plot(kind='barh', color='blue')\n",
    "plt.title('Total Number of Terrorist Attacks by Region (1970-2017)')\n",
    "plt.xlabel('Number of Attacks')\n",
    "plt.ylabel('Region')\n",
    "plt.show()"
   ]
  },
  {
   "cell_type": "markdown",
   "id": "71b426c5",
   "metadata": {},
   "source": [
    "## Visualization 5: Weapon Type Usage in Terrorist Attacks"
   ]
  },
  {
   "cell_type": "code",
   "execution_count": null,
   "id": "1e70416b",
   "metadata": {},
   "outputs": [],
   "source": [
    "# Visualization 5: Weapon Type Usage\n",
    "plt.figure(figsize=(12, 8))\n",
    "df_weapon_type = df_cleaned['weapon_type'].value_counts().head(10)\n",
    "df_weapon_type.plot(kind='barh', color='darkorange')\n",
    "plt.title('Top 10 Weapon Types Used in Terrorist Attacks (1970-2017)')\n",
    "plt.xlabel('Number of Attacks')\n",
    "plt.ylabel('Weapon Type')\n",
    "plt.grid(True)\n",
    "plt.show()"
   ]
  },
  {
   "cell_type": "markdown",
   "id": "4ad44858",
   "metadata": {},
   "source": [
    "## Key Findings"
   ]
  },
  {
   "cell_type": "markdown",
   "id": "db11e38d",
   "metadata": {},
   "source": [
    "1. The number of terrorist attacks has significantly increased in certain periods, particularly from the late 1970s to the mid-1990s.\n",
    "2. The Middle East and South Asia are the regions most affected by terrorist activities, with a large concentration of incidents.\n",
    "3. Explosives are the most commonly used weapons in terrorist attacks, indicating a preference for high-impact methods."
   ]
  },
  {
   "cell_type": "markdown",
   "id": "aff373a0",
   "metadata": {},
   "source": [
    "## Conclusions"
   ]
  },
  {
   "cell_type": "markdown",
   "id": "7512a406",
   "metadata": {},
   "source": [
    "Based on the analysis of the data, the following conclusions can be drawn:\n",
    "1. Terrorism has become more prevalent and deadly over the years, especially in certain regions.\n",
    "2. The consistent increase in attacks suggests that counterterrorism efforts may need to be intensified, particularly in regions like the Middle East and South Asia.\n",
    "3. Further research is necessary to understand the underlying causes driving these trends and to develop more effective preventive measures."
   ]
  }
 ],
 "metadata": {
  "kernelspec": {
   "display_name": "Python 3",
   "language": "python",
   "name": "python3"
  },
  "language_info": {
   "codemirror_mode": {
    "name": "ipython",
    "version": 3
   },
   "file_extension": ".py",
   "mimetype": "text/x-python",
   "name": "python",
   "nbconvert_exporter": "python",
   "pygments_lexer": "ipython3",
   "version": "3.11.4"
  }
 },
 "nbformat": 4,
 "nbformat_minor": 5
}

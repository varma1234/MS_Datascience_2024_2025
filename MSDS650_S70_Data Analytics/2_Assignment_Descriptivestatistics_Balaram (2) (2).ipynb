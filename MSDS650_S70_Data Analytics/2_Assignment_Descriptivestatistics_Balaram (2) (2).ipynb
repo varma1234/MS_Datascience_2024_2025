{
 "cells": [
  {
   "cell_type": "markdown",
   "metadata": {},
   "source": [
    "\n",
    "# Week 2 Assignment: Deriving Insight via Descriptive Statistics"
   ]
  },
  {
   "cell_type": "markdown",
   "metadata": {},
   "source": [
    "### 1. Inspect the wages.csv dataset "
   ]
  },
  {
   "cell_type": "markdown",
   "metadata": {},
   "source": [
    "we will inspect the wages.csv dataset to provide a detailed description including the variable names, descriptions, and data types for each variable."
   ]
  },
  {
   "cell_type": "markdown",
   "metadata": {},
   "source": [
    "For this load the data set"
   ]
  },
  {
   "cell_type": "code",
   "execution_count": 1,
   "metadata": {},
   "outputs": [],
   "source": [
    "import pandas as pd"
   ]
  },
  {
   "cell_type": "code",
   "execution_count": 2,
   "metadata": {},
   "outputs": [
    {
     "data": {
      "text/html": [
       "<div>\n",
       "<style scoped>\n",
       "    .dataframe tbody tr th:only-of-type {\n",
       "        vertical-align: middle;\n",
       "    }\n",
       "\n",
       "    .dataframe tbody tr th {\n",
       "        vertical-align: top;\n",
       "    }\n",
       "\n",
       "    .dataframe thead th {\n",
       "        text-align: right;\n",
       "    }\n",
       "</style>\n",
       "<table border=\"1\" class=\"dataframe\">\n",
       "  <thead>\n",
       "    <tr style=\"text-align: right;\">\n",
       "      <th></th>\n",
       "      <th>Surname</th>\n",
       "      <th>Name</th>\n",
       "      <th>Age</th>\n",
       "      <th>Gender</th>\n",
       "      <th>Ethnicity</th>\n",
       "      <th>Start_date</th>\n",
       "      <th>Department</th>\n",
       "      <th>Position</th>\n",
       "      <th>Salary</th>\n",
       "    </tr>\n",
       "  </thead>\n",
       "  <tbody>\n",
       "    <tr>\n",
       "      <th>0</th>\n",
       "      <td>Bold</td>\n",
       "      <td>Caroline</td>\n",
       "      <td>63</td>\n",
       "      <td>Female</td>\n",
       "      <td>White</td>\n",
       "      <td>7/2/2012</td>\n",
       "      <td>Executive Office</td>\n",
       "      <td>President &amp; CEO</td>\n",
       "      <td>$166,400.00</td>\n",
       "    </tr>\n",
       "    <tr>\n",
       "      <th>1</th>\n",
       "      <td>Zamora</td>\n",
       "      <td>Jennifer</td>\n",
       "      <td>38</td>\n",
       "      <td>Female</td>\n",
       "      <td>White</td>\n",
       "      <td>4/10/2010</td>\n",
       "      <td>IT/IS</td>\n",
       "      <td>CIO</td>\n",
       "      <td>$135,200.00</td>\n",
       "    </tr>\n",
       "    <tr>\n",
       "      <th>2</th>\n",
       "      <td>Houlihan</td>\n",
       "      <td>Debra</td>\n",
       "      <td>51</td>\n",
       "      <td>Female</td>\n",
       "      <td>White</td>\n",
       "      <td>5/5/2014</td>\n",
       "      <td>Sales</td>\n",
       "      <td>Director of Sales</td>\n",
       "      <td>$124,800.00</td>\n",
       "    </tr>\n",
       "    <tr>\n",
       "      <th>3</th>\n",
       "      <td>Bramante</td>\n",
       "      <td>Elisa</td>\n",
       "      <td>34</td>\n",
       "      <td>Female</td>\n",
       "      <td>Black or African American</td>\n",
       "      <td>1/5/2009</td>\n",
       "      <td>Production</td>\n",
       "      <td>Director of Operations</td>\n",
       "      <td>$124,800.00</td>\n",
       "    </tr>\n",
       "    <tr>\n",
       "      <th>4</th>\n",
       "      <td>Del Bosque</td>\n",
       "      <td>Keyla</td>\n",
       "      <td>38</td>\n",
       "      <td>Female</td>\n",
       "      <td>Black or African American</td>\n",
       "      <td>1/9/2012</td>\n",
       "      <td>Software Engineering</td>\n",
       "      <td>Software Engineer</td>\n",
       "      <td>$118,809.60</td>\n",
       "    </tr>\n",
       "    <tr>\n",
       "      <th>...</th>\n",
       "      <td>...</td>\n",
       "      <td>...</td>\n",
       "      <td>...</td>\n",
       "      <td>...</td>\n",
       "      <td>...</td>\n",
       "      <td>...</td>\n",
       "      <td>...</td>\n",
       "      <td>...</td>\n",
       "      <td>...</td>\n",
       "    </tr>\n",
       "    <tr>\n",
       "      <th>169</th>\n",
       "      <td>Osturnka</td>\n",
       "      <td>Adeel</td>\n",
       "      <td>41</td>\n",
       "      <td>Male</td>\n",
       "      <td>White</td>\n",
       "      <td>9/30/2013</td>\n",
       "      <td>Production</td>\n",
       "      <td>Production Technician I</td>\n",
       "      <td>$33,280.00</td>\n",
       "    </tr>\n",
       "    <tr>\n",
       "      <th>170</th>\n",
       "      <td>Punjabhi</td>\n",
       "      <td>Louis</td>\n",
       "      <td>56</td>\n",
       "      <td>Male</td>\n",
       "      <td>White</td>\n",
       "      <td>1/6/2014</td>\n",
       "      <td>Production</td>\n",
       "      <td>Production Technician I</td>\n",
       "      <td>$33,280.00</td>\n",
       "    </tr>\n",
       "    <tr>\n",
       "      <th>171</th>\n",
       "      <td>Cockel</td>\n",
       "      <td>James</td>\n",
       "      <td>40</td>\n",
       "      <td>Male</td>\n",
       "      <td>White</td>\n",
       "      <td>7/8/2013</td>\n",
       "      <td>Production</td>\n",
       "      <td>Production Technician I</td>\n",
       "      <td>$31,200.00</td>\n",
       "    </tr>\n",
       "    <tr>\n",
       "      <th>172</th>\n",
       "      <td>Gordon</td>\n",
       "      <td>David</td>\n",
       "      <td>38</td>\n",
       "      <td>Male</td>\n",
       "      <td>White</td>\n",
       "      <td>7/2/2012</td>\n",
       "      <td>Production</td>\n",
       "      <td>Production Technician I</td>\n",
       "      <td>$31,200.00</td>\n",
       "    </tr>\n",
       "    <tr>\n",
       "      <th>173</th>\n",
       "      <td>Knapp</td>\n",
       "      <td>Bradley J</td>\n",
       "      <td>40</td>\n",
       "      <td>Male</td>\n",
       "      <td>Black or African American</td>\n",
       "      <td>2/17/2014</td>\n",
       "      <td>Production</td>\n",
       "      <td>Production Technician I</td>\n",
       "      <td>$29,120.00</td>\n",
       "    </tr>\n",
       "  </tbody>\n",
       "</table>\n",
       "<p>174 rows × 9 columns</p>\n",
       "</div>"
      ],
      "text/plain": [
       "        Surname       Name  Age  Gender                  Ethnicity Start_date  \\\n",
       "0          Bold   Caroline   63  Female                      White   7/2/2012   \n",
       "1        Zamora   Jennifer   38  Female                      White  4/10/2010   \n",
       "2      Houlihan      Debra   51  Female                      White   5/5/2014   \n",
       "3      Bramante      Elisa   34  Female  Black or African American   1/5/2009   \n",
       "4    Del Bosque      Keyla   38  Female  Black or African American   1/9/2012   \n",
       "..          ...        ...  ...     ...                        ...        ...   \n",
       "169    Osturnka      Adeel   41    Male                      White  9/30/2013   \n",
       "170    Punjabhi      Louis   56    Male                      White   1/6/2014   \n",
       "171      Cockel      James   40    Male                      White   7/8/2013   \n",
       "172      Gordon      David   38    Male                      White   7/2/2012   \n",
       "173       Knapp  Bradley J   40    Male  Black or African American  2/17/2014   \n",
       "\n",
       "               Department                 Position       Salary  \n",
       "0        Executive Office          President & CEO  $166,400.00  \n",
       "1                   IT/IS                      CIO  $135,200.00  \n",
       "2                   Sales        Director of Sales  $124,800.00  \n",
       "3              Production   Director of Operations  $124,800.00  \n",
       "4    Software Engineering        Software Engineer  $118,809.60  \n",
       "..                    ...                      ...          ...  \n",
       "169            Production  Production Technician I   $33,280.00  \n",
       "170            Production  Production Technician I   $33,280.00  \n",
       "171            Production  Production Technician I   $31,200.00  \n",
       "172            Production  Production Technician I   $31,200.00  \n",
       "173            Production  Production Technician I   $29,120.00  \n",
       "\n",
       "[174 rows x 9 columns]"
      ]
     },
     "execution_count": 2,
     "metadata": {},
     "output_type": "execute_result"
    }
   ],
   "source": [
    "# read the file and save data in a data frame named 'df' and veiw it\n",
    "df = pd.read_csv('C:/Users/balar/Downloads/G/G/assign_wk2/assign_wk2/wages.csv')\n",
    "df"
   ]
  },
  {
   "cell_type": "markdown",
   "metadata": {},
   "source": [
    "The dataset consists of several columns such as Surname, Name, Age, Gender, Ethnicity, Start_date, Department, Position, and Salary.\n",
    "Each row represents an employee of the company."
   ]
  },
  {
   "cell_type": "markdown",
   "metadata": {},
   "source": [
    "We can use info function to know the data type of each coloumns in our data set"
   ]
  },
  {
   "cell_type": "code",
   "execution_count": 3,
   "metadata": {},
   "outputs": [
    {
     "name": "stdout",
     "output_type": "stream",
     "text": [
      "<class 'pandas.core.frame.DataFrame'>\n",
      "RangeIndex: 174 entries, 0 to 173\n",
      "Data columns (total 9 columns):\n",
      " #   Column      Non-Null Count  Dtype \n",
      "---  ------      --------------  ----- \n",
      " 0   Surname     174 non-null    object\n",
      " 1   Name        174 non-null    object\n",
      " 2   Age         174 non-null    int64 \n",
      " 3   Gender      174 non-null    object\n",
      " 4   Ethnicity   174 non-null    object\n",
      " 5   Start_date  174 non-null    object\n",
      " 6   Department  174 non-null    object\n",
      " 7   Position    174 non-null    object\n",
      " 8   Salary      174 non-null    object\n",
      "dtypes: int64(1), object(8)\n",
      "memory usage: 12.4+ KB\n"
     ]
    }
   ],
   "source": [
    "# info function implementation to our data set\n",
    "df.info()"
   ]
  },
  {
   "cell_type": "markdown",
   "metadata": {},
   "source": [
    "Based on the Data classification , from the given data set we can divide 2 types and also by observing data we can say what kind the data type will fall"
   ]
  },
  {
   "cell_type": "markdown",
   "metadata": {},
   "source": [
    "##### Categorical (Qualitative) Data:\n",
    "\n",
    "Nominal: These are categories without any order. In the dataset, Surname, Name, Gender, Ethnicity, Department, and Position are nominal. They label categories but don't imply any rank.\n",
    "\n",
    "Ordinal: These are categories with a specific order, but the difference between the values is not consistent. The dataset does not have a clear example of ordinal data unless there's a hidden order to positions that isn't explicitly stated.\n",
    "\n",
    "##### Numerical (Quantitative) Data:\n",
    "\n",
    "Discrete: These are countable values. Age is discrete since you count full years.\n",
    "\n",
    "Continuous: These values can be measured and broken down into smaller parts, like fractions. Salary could be considered continuous as you can have fractions of a dollar.\n",
    "\n",
    "Start_date is a bit special; it represents dates, which can be treated as ordinal because dates have a natural order. However, in raw form, it's often treated as an object or string in data frames. With proper processing, it can be converted to a date-time format for analysis."
   ]
  },
  {
   "cell_type": "markdown",
   "metadata": {},
   "source": [
    "### 2. Create a fictitious business that fits the data set"
   ]
  },
  {
   "cell_type": "markdown",
   "metadata": {},
   "source": [
    "Let's create a fictitious business called \"Future Techie Solutions.Inc\" This business is a technology company providing software solutions to various industries."
   ]
  },
  {
   "cell_type": "markdown",
   "metadata": {},
   "source": [
    "\"Future Techie Solutions.Inc\" : is a technology company specializing in software solutions,the positions of Software Engineers, Network Engineers, and Database Administrators are crucial for technology company. With a diverse workforce, our company caters to various industries, offering tailored tech solutions for businesses ranging from healthcare to finance."
   ]
  },
  {
   "cell_type": "markdown",
   "metadata": {},
   "source": [
    "### 3. Develop a problem statement and 5 analytical questions to be investigated during your analysis."
   ]
  },
  {
   "cell_type": "markdown",
   "metadata": {},
   "source": [
    "##### Problem statement : \n",
    "As a Future Techie Solutions.Inc aims to maintain a diverse and inclusive workforce, we seek to understand the representation of different ethnicities across various departments and positions within the company."
   ]
  },
  {
   "cell_type": "markdown",
   "metadata": {},
   "source": [
    "Based on problem statement we came with these Analytical questions and  We aim to understand the distribution of ethnicities within different departments, analyze any salary disparities among employees of different ethnicities, and explore the relationship between ethnicity and other factors such as job positions and tenure.\n",
    "\n",
    "##### Analytical questions\n",
    "\n",
    "What is the percentage distribution of each ethnicity within different departments?                                     \n",
    "Are there any significant differences in salary among employees of different ethnicities?                    \n",
    "How does the average age of employees vary among different ethnic groups?                                      \n",
    "How does the distribution of job positions vary among different ethnicities?                                              \n",
    "Is there any disparity in the tenure of employees across various ethnic groups?"
   ]
  },
  {
   "cell_type": "markdown",
   "metadata": {},
   "source": [
    "In this exercise, we're analyzing individual variables through univariate analysis. Among the provided analytical questions, the last three out of five are segmented univariate analysis. These questions delve into understanding the variations of variables like salary, age, job positions, and tenure across distinct segments such as departments, gender, and ethnicity."
   ]
  },
  {
   "cell_type": "markdown",
   "metadata": {},
   "source": [
    "### 4. Utilize descriptive statistics to analyze each of your analytical questions."
   ]
  },
  {
   "cell_type": "markdown",
   "metadata": {},
   "source": [
    "###### What is the percentage distribution of each ethnicity within different departments?"
   ]
  },
  {
   "cell_type": "code",
   "execution_count": 4,
   "metadata": {},
   "outputs": [
    {
     "name": "stdout",
     "output_type": "stream",
     "text": [
      "Percentage distribution of each ethnicity within different departments:\n",
      "\n",
      "\n",
      " Ethnicity                 Asian  Black or African American  Hispanic  \\\n",
      "Department                                                             \n",
      "Admin Offices         12.500000                  25.000000  0.000000   \n",
      "Executive Office       0.000000                   0.000000  0.000000   \n",
      "IT/IS                  7.692308                  11.538462  3.846154   \n",
      "Production             9.433962                  20.754717  0.943396   \n",
      "Sales                  3.846154                  30.769231  0.000000   \n",
      "Software Engineering  14.285714                  14.285714  0.000000   \n",
      "\n",
      "Ethnicity             Two or more races       White  \n",
      "Department                                           \n",
      "Admin Offices                  0.000000   62.500000  \n",
      "Executive Office               0.000000  100.000000  \n",
      "IT/IS                          3.846154   73.076923  \n",
      "Production                     3.773585   65.094340  \n",
      "Sales                         15.384615   50.000000  \n",
      "Software Engineering           0.000000   71.428571  \n"
     ]
    }
   ],
   "source": [
    "# Percentage distribution of each ethnicity within different departments\n",
    "ethnicity_dept_percentage = df.groupby(['Department', 'Ethnicity']).size().unstack(fill_value=0)\n",
    "ethnicity_dept_percentage = ethnicity_dept_percentage.div(ethnicity_dept_percentage.sum(axis=1), axis=0) * 100\n",
    "print(\"Percentage distribution of each ethnicity within different departments:\\n\\n\\n\", ethnicity_dept_percentage)\n"
   ]
  },
  {
   "cell_type": "markdown",
   "metadata": {},
   "source": [
    "##### Observations from the output\n",
    "1. compared to all other types Hispanic is very low in stat as per company goal have to focus more to recruit talented employees over Hispanic ethnicity.\n",
    "2. White are very more in all departments, try to implement new focused procedures to gradually reach towards businuess goal.\n",
    "3. No department is near to ideal of our problem so we cannot take any department as refference for the progress of other departments.\n",
    "4. frequent checks to be done in each quaters to check our reach to the businuess problem after implementing some measures."
   ]
  },
  {
   "cell_type": "markdown",
   "metadata": {},
   "source": [
    "##### Note\n",
    "\n",
    "Descriptive Statistics Used:Frequency counts,percentages.Provides a breakdown of the distribution of ethnicities within departments, presenting the data in percentages to highlight the proportion of each ethnicity within each department.\n",
    "\n",
    "while the analysis we may not directly involve traditional descriptive statistics like mean or standard deviation, it still relies on descriptive methods such as frequency counts and percentages to provide insights into the distribution of job positions across ethnic groups."
   ]
  },
  {
   "cell_type": "markdown",
   "metadata": {},
   "source": [
    "##### Are there any significant differences in salary among employees of different ethnicities?"
   ]
  },
  {
   "cell_type": "code",
   "execution_count": 5,
   "metadata": {},
   "outputs": [
    {
     "name": "stdout",
     "output_type": "stream",
     "text": [
      "Salary differences among employees of different ethnicities:\n",
      "                           count unique          top freq\n",
      "Ethnicity                                               \n",
      "Asian                        15     11   $45,760.00    3\n",
      "Black or African American    36     23  $114,400.00    5\n",
      "Hispanic                      2      2  $131,040.00    1\n",
      "Two or more races             9      7  $114,400.00    3\n",
      "White                       112     54  $114,400.00   11\n"
     ]
    }
   ],
   "source": [
    "salary_ethnicity_difference = df.groupby('Ethnicity')['Salary'].describe()\n",
    "print(\"Salary differences among employees of different ethnicities:\\n\", salary_ethnicity_difference)\n"
   ]
  },
  {
   "cell_type": "markdown",
   "metadata": {},
   "source": [
    "##### Observations and Insights from the output\n",
    "\n",
    "Ethnicity: This column lists different ethnic groups represented in the dataset.                      \n",
    "count: Indicates the total number of entries (employees) for each ethnic group.                  \n",
    "unique: Represents the number of unique salary values within each ethnic group.                          \n",
    "top: Denotes the most frequently occurring salary within each ethnic group.                             \n",
    "freq: Displays the frequency of occurrence of the most common salary within each ethnic group.\n",
    "\n",
    "For employees identified as \"Asian,\" there are 15 entries, with 11 unique salary values. The most common salary among Asian employees is $45,760.00, occurring 3 times within this group.\n",
    "This analysis offers insights into the distribution of salaries among different ethnic groups within the company. It highlights the diversity of salaries within each ethnic group and may indicate potential disparities(Asians are facing disaparity here)\n",
    "\n",
    "To mitigate this : patterns that warrant further investigation or consideration in HR policies and practices are required"
   ]
  },
  {
   "cell_type": "markdown",
   "metadata": {},
   "source": [
    "##### Note\n",
    "describe() method provides descriptive statistics for the salary distribution among different ethnicities. It includes statistics such as count, mean, standard deviation, minimum, 25th percentile (Q1), median (50th percentile), 75th percentile (Q3), and maximum salary."
   ]
  },
  {
   "cell_type": "markdown",
   "metadata": {},
   "source": [
    "##### How does the average age of employees vary among different ethnic groups?"
   ]
  },
  {
   "cell_type": "code",
   "execution_count": 6,
   "metadata": {},
   "outputs": [
    {
     "name": "stdout",
     "output_type": "stream",
     "text": [
      "Average age variation among different ethnic groups:\n",
      " Ethnicity\n",
      "Asian                        38.733333\n",
      "Black or African American    36.805556\n",
      "Hispanic                     33.500000\n",
      "Two or more races            35.222222\n",
      "White                        38.267857\n",
      "Name: Age, dtype: float64\n"
     ]
    }
   ],
   "source": [
    "# Average age variation among different ethnic groups\n",
    "avg_age_ethnicity = df.groupby('Ethnicity')['Age'].mean()\n",
    "print(\"Average age variation among different ethnic groups:\\n\", avg_age_ethnicity)\n"
   ]
  },
  {
   "cell_type": "markdown",
   "metadata": {},
   "source": [
    "##### Observations and Insights from the output\n",
    "\n",
    "1. Asians having the highest average age (38.73 years) and Hispanics having the lowest average age (33.50 years).                   \n",
    "2. The higher average age among Asians and Whites could suggest a larger proportion of older employees within these ethnic groups, possibly indicating longer tenures or slower turnover rates.                                         \n",
    "3. It may be beneficial for the company to analyze factors contributing to age disparities and ensure equitable opportunities and support for employees across all ethnicities and age groups."
   ]
  },
  {
   "cell_type": "markdown",
   "metadata": {},
   "source": [
    "##### Note\n",
    "Descriptive Statistics Used: Mean. Calculates the mean age for each ethnicity, providing insights into the average age variation among different ethnic groups within the company.\n"
   ]
  },
  {
   "cell_type": "markdown",
   "metadata": {},
   "source": [
    "##### How does the distribution of job positions vary among different ethnicities?"
   ]
  },
  {
   "cell_type": "code",
   "execution_count": 7,
   "metadata": {},
   "outputs": [
    {
     "name": "stdout",
     "output_type": "stream",
     "text": [
      "Distribution of job positions among different ethnicities:\n",
      " Position                   Accountant I  Administrative Assistant  \\\n",
      "Ethnicity                                                           \n",
      "Asian                          0.000000                  0.000000   \n",
      "Black or African American      0.055556                  0.000000   \n",
      "Hispanic                       0.000000                  0.000000   \n",
      "Two or more races              0.000000                  0.000000   \n",
      "White                          0.008929                  0.017857   \n",
      "\n",
      "Position                   Area Sales Manager       CIO  \\\n",
      "Ethnicity                                                 \n",
      "Asian                                0.066667  0.000000   \n",
      "Black or African American            0.194444  0.000000   \n",
      "Hispanic                             0.000000  0.000000   \n",
      "Two or more races                    0.444444  0.000000   \n",
      "White                                0.098214  0.008929   \n",
      "\n",
      "Position                   Database Administrator  Director of Operations  \\\n",
      "Ethnicity                                                                   \n",
      "Asian                                    0.066667                0.000000   \n",
      "Black or African American                0.027778                0.027778   \n",
      "Hispanic                                 0.000000                0.000000   \n",
      "Two or more races                        0.000000                0.000000   \n",
      "White                                    0.044643                0.000000   \n",
      "\n",
      "Position                   Director of Sales  IT Director  IT Manager - DB  \\\n",
      "Ethnicity                                                                    \n",
      "Asian                               0.000000     0.000000         0.000000   \n",
      "Black or African American           0.000000     0.027778         0.000000   \n",
      "Hispanic                            0.000000     0.000000         0.000000   \n",
      "Two or more races                   0.000000     0.000000         0.000000   \n",
      "White                               0.008929     0.000000         0.008929   \n",
      "\n",
      "Position                   IT Manager - Infra  ...  President & CEO  \\\n",
      "Ethnicity                                      ...                    \n",
      "Asian                                     0.0  ...         0.000000   \n",
      "Black or African American                 0.0  ...         0.000000   \n",
      "Hispanic                                  0.5  ...         0.000000   \n",
      "Two or more races                         0.0  ...         0.000000   \n",
      "White                                     0.0  ...         0.008929   \n",
      "\n",
      "Position                   Production Manager  Production Technician I  \\\n",
      "Ethnicity                                                                \n",
      "Asian                                0.000000                 0.600000   \n",
      "Black or African American            0.027778                 0.333333   \n",
      "Hispanic                             0.500000                 0.000000   \n",
      "Two or more races                    0.000000                 0.333333   \n",
      "White                                0.062500                 0.437500   \n",
      "\n",
      "Position                   Production Technician II  Sales Manager  \\\n",
      "Ethnicity                                                            \n",
      "Asian                                      0.066667       0.000000   \n",
      "Black or African American                  0.222222       0.027778   \n",
      "Hispanic                                   0.000000       0.000000   \n",
      "Two or more races                          0.111111       0.000000   \n",
      "White                                      0.116071       0.008929   \n",
      "\n",
      "Position                   Shared Services Manager  Software Engineer  \\\n",
      "Ethnicity                                                               \n",
      "Asian                                     0.000000           0.066667   \n",
      "Black or African American                 0.000000           0.027778   \n",
      "Hispanic                                  0.000000           0.000000   \n",
      "Two or more races                         0.000000           0.000000   \n",
      "White                                     0.008929           0.035714   \n",
      "\n",
      "Position                   Software Engineering Manager  Sr. Accountant  \\\n",
      "Ethnicity                                                                 \n",
      "Asian                                          0.000000        0.066667   \n",
      "Black or African American                      0.000000        0.000000   \n",
      "Hispanic                                       0.000000        0.000000   \n",
      "Two or more races                              0.000000        0.000000   \n",
      "White                                          0.008929        0.008929   \n",
      "\n",
      "Position                   Sr. Network Engineer  \n",
      "Ethnicity                                        \n",
      "Asian                                  0.066667  \n",
      "Black or African American              0.000000  \n",
      "Hispanic                               0.000000  \n",
      "Two or more races                      0.000000  \n",
      "White                                  0.008929  \n",
      "\n",
      "[5 rows x 23 columns]\n"
     ]
    }
   ],
   "source": [
    "# Distribution of job positions among different ethnicities\n",
    "position_ethnicity_distribution = df.groupby('Ethnicity')['Position'].value_counts(normalize=True).unstack(fill_value=0)\n",
    "print(\"Distribution of job positions among different ethnicities:\\n\", position_ethnicity_distribution)"
   ]
  },
  {
   "cell_type": "markdown",
   "metadata": {},
   "source": [
    "##### Observations and Insights from the output\n",
    "1. Some job positions seem to be more prevalent among certain ethnic groups like Sr. Network Engineer, software engineering manager, Shared services manager. while others show a more balanced distribution across ethnicities like Production Technician I.\n",
    "2. The distribution of job positions among different ethnicities provides insights into career paths and opportunities for advancement within the company.\n",
    "3. Understanding these patterns can help identify potential barriers to career progression for employees from specific ethnic backgrounds and inform diversity and inclusion initiatives.\n",
    "4. Addressing any imbalances in job position distribution can contribute to fostering a more inclusive and equitable workplace culture."
   ]
  },
  {
   "cell_type": "markdown",
   "metadata": {},
   "source": [
    "##### Note :\n",
    "while the analysis for the distribution of job positions among different ethnicities may not directly involve traditional descriptive statistics like mean or standard deviation, it still relies on descriptive methods such as frequency counts and percentages to provide insights into the distribution of job positions across ethnic groups."
   ]
  },
  {
   "cell_type": "markdown",
   "metadata": {},
   "source": [
    "##### Is there any disparity in the tenure of employees across various ethnic groups?"
   ]
  },
  {
   "cell_type": "code",
   "execution_count": 8,
   "metadata": {
    "scrolled": true
   },
   "outputs": [
    {
     "name": "stdout",
     "output_type": "stream",
     "text": [
      "Disparity in tenure of employees across various ethnic groups:\n",
      "                            count         mean         std     min      25%  \\\n",
      "Ethnicity                                                                    \n",
      "Asian                       15.0  3969.000000  477.644219  3283.0  3577.00   \n",
      "Black or African American   36.0  4235.444444  694.079429  3283.0  3678.50   \n",
      "Hispanic                     2.0  4330.500000  129.400541  4239.0  4284.75   \n",
      "Two or more races            9.0  4314.555556  556.715392  3465.0  3913.00   \n",
      "White                      112.0  3891.196429  627.739113  2979.0  3423.00   \n",
      "\n",
      "                              50%      75%     max  \n",
      "Ethnicity                                           \n",
      "Asian                      3913.0  4354.00  4823.0  \n",
      "Black or African American  4095.0  4642.50  5985.0  \n",
      "Hispanic                   4330.5  4376.25  4422.0  \n",
      "Two or more races          4522.0  4767.00  4823.0  \n",
      "White                      3731.0  4278.75  6650.0  \n"
     ]
    }
   ],
   "source": [
    "# Disparity in tenure of employees across various ethnic groups\n",
    "# Assuming tenure is the difference between start_date and current date\n",
    "df['Start_date'] = pd.to_datetime(df['Start_date'])\n",
    "df['Tenure'] = (pd.to_datetime('now') - df['Start_date']).dt.days\n",
    "tenure_ethnicity_difference = df.groupby('Ethnicity')['Tenure'].describe()\n",
    "print(\"Disparity in tenure of employees across various ethnic groups:\\n\", tenure_ethnicity_difference)\n"
   ]
  },
  {
   "cell_type": "code",
   "execution_count": 9,
   "metadata": {},
   "outputs": [
    {
     "name": "stdout",
     "output_type": "stream",
     "text": [
      "Asian: 10.87 years\n",
      "Black or African American: 11.60 years\n",
      "Hispanic: 11.86 years\n",
      "Two or more races: 11.81 years\n",
      "White: 10.65 years\n"
     ]
    }
   ],
   "source": [
    "# Tenure values in days\n",
    "tenure_in_days = {\n",
    "    \"Asian\": 3969.0,\n",
    "    \"Black or African American\": 4235.444444,\n",
    "    \"Hispanic\": 4330.5,\n",
    "    \"Two or more races\": 4314.555556,\n",
    "    \"White\": 3891.196429\n",
    "}\n",
    "\n",
    "# Convert tenure from days to years\n",
    "tenure_in_years = {ethnicity: tenure / 365.25 for ethnicity, tenure in tenure_in_days.items()}\n",
    "\n",
    "# Print the tenure in years\n",
    "for ethnicity, tenure in tenure_in_years.items():\n",
    "    print(f\"{ethnicity}: {tenure:.2f} years\")\n"
   ]
  },
  {
   "cell_type": "markdown",
   "metadata": {},
   "source": [
    "##### Observations and Insights from the output\n",
    "1. There is variation in average tenure among different ethnic groups, with Hispanic employees showing the highest average tenure (11.86 years), followed closely by Two or more races (11.81 years) and Black or African American employees (11.60 years) coming to Asian employees have the lowest average tenure (10.87 years) and White employees(10.65 years).\n",
    "2. The differences in average tenure among ethnic groups may reflect underlying factors such as retention rates, career advancement opportunities, or organizational culture.\n",
    "3. Higher average tenures among certain ethnic groups may indicate greater loyalty or satisfaction with the company, while lower average tenures could suggest turnover issues or challenges in employee retention."
   ]
  },
  {
   "cell_type": "markdown",
   "metadata": {},
   "source": [
    "##### Note\n",
    "Descriptive Statistics Used: Mean, standard deviation, minimum, maximum, quartiles. Calculates descriptive statistics for tenure (length of employment) among different ethnicities, providing insights into potential differences in tenure distribution among ethnic groups."
   ]
  },
  {
   "cell_type": "markdown",
   "metadata": {},
   "source": [
    "### 5. Recap of all your insights.\n",
    "\n",
    "1. ##### Percentage Distribution of Each Ethnicity within Different Departments:\n",
    "   - Hispanic representation is notably lower compared to other ethnicities across all departments, indicating a need to focus on recruiting talented individuals from this demographic.\n",
    "   - White employees are predominant in all departments, suggesting the implementation of targeted procedures to gradually diversify the workforce in line with business goals.\n",
    "   - No department reflects an ideal ethnic distribution, necessitating regular assessments to gauge progress and the effectiveness of implemented measures.\n",
    "\n",
    "2. ##### Significant Differences in Salary among Employees of Different Ethnicities:\n",
    "   - Disparities in salary distribution among ethnic groups, such as Asians facing disparities, underscore the importance of scrutinizing these patterns for potential biases and addressing them through HR policies and practices.\n",
    " \n",
    "3. ##### Variation in Average Age of Employees Among Different Ethnic Groups:\n",
    "   - Asians have the highest average age, while Hispanics have the lowest, indicating potential differences in workforce demographics.\n",
    "   - Analysis of age disparities can guide efforts to ensure equitable opportunities and support for employees across all ethnicities and age groups.\n",
    "\n",
    "4. ##### Distribution of Job Positions Among Different Ethnicities:\n",
    "   - Certain job positions are more prevalent among specific ethnic groups, while others show a more balanced distribution.\n",
    "   - Understanding these patterns aids in identifying potential barriers to career progression for employees from specific ethnic backgrounds and informs diversity and inclusion initiatives.\n",
    "\n",
    "5. ##### Disparity in Tenure of Employees Across Various Ethnic Groups:\n",
    "   - Variation in average tenure suggests differences in retention rates, career advancement opportunities, or organizational culture among ethnic groups.\n",
    "   - Addressing these disparities is vital for promoting diversity, equity, and inclusion within the organization and fostering employee satisfaction and loyalty.\n",
    "\n",
    "By leveraging these insights, the company can make informed decisions to enhance diversity, equity, and inclusion efforts, optimize HR practices, and create a more supportive and equitable workplace environment for all employees, regardless of ethnicity."
   ]
  },
  {
   "cell_type": "markdown",
   "metadata": {},
   "source": [
    "### 6. Summarize your findings for our fictitious business."
   ]
  },
  {
   "cell_type": "markdown",
   "metadata": {},
   "source": [
    "Summary of Findings for Future Techie Solutions Inc:\n",
    "\n",
    "1. **Ethnic Diversity in Departments:**\n",
    "   - The company exhibits significant disparities in ethnic representation across departments, with Hispanic employees notably underrepresented compared to other ethnicities. \n",
    "\n",
    "2. **Salary Disparities and Equity:**\n",
    "   - Analysis reveals disparities in salary distribution among ethnic groups, highlighting potential biases that need to be addressed through fair and equitable policies.\n",
    "\n",
    "3. **Workforce Demographics and Age Variation:**\n",
    "   - The workforce demographics vary across ethnic groups, with Asians having the highest average age and Hispanics the lowest. Efforts should be made to provide equal opportunities and support for career advancement across all age groups and ethnicities.\n",
    "\n",
    "4. **Career Progression and Job Distribution:**\n",
    "   - Certain job positions show a skewed distribution among ethnic groups, indicating potential barriers to career progression for employees from specific backgrounds. Initiatives aimed at promoting diversity.\n",
    "\n",
    "5. **Retention and Loyalty:**\n",
    "   - Variation in average tenure suggests differences in retention rates and organizational culture among ethnic groups. Efforts to promote diversity and inclusion should include measures to enhance employee satisfaction, loyalty, and long-term retention.\n",
    "\n",
    "In conclusion, by addressing the identified disparities  from the analysis, Future Techie Solutions Inc. can foster a more inclusive workplace culture and justifies the business problem in a better way."
   ]
  },
  {
   "cell_type": "code",
   "execution_count": null,
   "metadata": {},
   "outputs": [],
   "source": []
  }
 ],
 "metadata": {
  "kernelspec": {
   "display_name": "Python 3 (ipykernel)",
   "language": "python",
   "name": "python3"
  },
  "language_info": {
   "codemirror_mode": {
    "name": "ipython",
    "version": 3
   },
   "file_extension": ".py",
   "mimetype": "text/x-python",
   "name": "python",
   "nbconvert_exporter": "python",
   "pygments_lexer": "ipython3",
   "version": "3.11.5"
  }
 },
 "nbformat": 4,
 "nbformat_minor": 4
}
